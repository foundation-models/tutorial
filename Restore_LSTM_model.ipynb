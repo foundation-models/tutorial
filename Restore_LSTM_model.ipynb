{
  "nbformat": 4,
  "nbformat_minor": 0,
  "metadata": {
    "colab": {
      "name": "Restore LSTM model.ipynb",
      "version": "0.3.2",
      "provenance": [],
      "include_colab_link": true
    },
    "kernelspec": {
      "name": "python3",
      "display_name": "Python 3"
    }
  },
  "cells": [
    {
      "cell_type": "markdown",
      "metadata": {
        "id": "view-in-github",
        "colab_type": "text"
      },
      "source": [
        "<a href=\"https://colab.research.google.com/github/hossein20s/tutorial/blob/master/Restore_LSTM_model.ipynb\" target=\"_parent\"><img src=\"https://colab.research.google.com/assets/colab-badge.svg\" alt=\"Open In Colab\"/></a>"
      ]
    },
    {
      "metadata": {
        "id": "hENln8hN15w2",
        "colab_type": "code",
        "outputId": "955bb660-8f15-4a74-d6e3-0b527e9b6de2",
        "colab": {
          "base_uri": "https://localhost:8080/",
          "height": 34
        }
      },
      "cell_type": "code",
      "source": [
        "import tensorflow as tf\n",
        "\n",
        "print(tf.__version__)"
      ],
      "execution_count": 6,
      "outputs": [
        {
          "output_type": "stream",
          "text": [
            "1.13.1\n"
          ],
          "name": "stdout"
        }
      ]
    },
    {
      "metadata": {
        "id": "35jfw400w738",
        "colab_type": "code",
        "colab": {
          "base_uri": "https://localhost:8080/",
          "height": 34
        },
        "outputId": "6e1e3e7a-5ce7-43ac-80ae-33b9c1da9343"
      },
      "cell_type": "code",
      "source": [
        "import sys\n",
        "sys.path.append('/content/gdrive/My Drive/python-lib')\n",
        "\n",
        "from google.colab import drive\n",
        "drive.mount('/content/gdrive')\n",
        "\n",
        "persist_path = \"gdrive/My Drive/models/modeling_stock_market\""
      ],
      "execution_count": 7,
      "outputs": [
        {
          "output_type": "stream",
          "text": [
            "Drive already mounted at /content/gdrive; to attempt to forcibly remount, call drive.mount(\"/content/gdrive\", force_remount=True).\n"
          ],
          "name": "stdout"
        }
      ]
    },
    {
      "metadata": {
        "id": "HaC37m1h2M0g",
        "colab_type": "code",
        "colab": {}
      },
      "cell_type": "code",
      "source": [
        "from collections import Counter\n",
        "import numpy as np\n",
        "import utils as utl\n",
        "import pandas as pd\n",
        "\n",
        "data = pd.read_csv(\"https://github.com/GarrettHoffman/lstm-oreilly/raw/master/data/StockTwits_SPY_Sentiment_2017.gz\",\n",
        "                   encoding=\"utf-8\",\n",
        "                   compression=\"gzip\",\n",
        "                   index_col=0)\n",
        "\n",
        "# get messages and sentiment labels\n",
        "messages = data.message.values\n",
        "labels = data.sentiment.values\n",
        "\n",
        "# make everything lower case and remove punctuation\n",
        "messages = np.array([utl.preprocess_ST_message(message) for message in messages])\n",
        "\n",
        "# keeping a collection of our full vocabularly and creating a mapping of each word to a unique index\n",
        "\n",
        "full_lexicon = \" \".join(messages).split()\n",
        "vocab_to_int, int_to_vocab = utl.create_lookup_tables(full_lexicon)\n",
        "messages_lens = Counter([len(x) for x in messages])\n",
        "messages, labels = utl.drop_empty_messages(messages, labels)\n",
        "\n",
        "messages = utl.encode_ST_messages(messages, vocab_to_int)\n",
        "labels = utl.encode_ST_labels(labels)\n",
        "messages = utl.zero_pad_messages(messages, seq_len=244)\n",
        "\n",
        "train_x, val_x, test_x, train_y, val_y, test_y = utl.train_val_test_split(messages, labels, split_frac=0.80)"
      ],
      "execution_count": 0,
      "outputs": []
    },
    {
      "metadata": {
        "id": "H1rz6cIo23ne",
        "colab_type": "code",
        "outputId": "db3e84c8-ceb9-4fd5-f1f2-0917ea582bac",
        "colab": {
          "base_uri": "https://localhost:8080/",
          "height": 51
        }
      },
      "cell_type": "code",
      "source": [
        "batch_size = 256\n",
        "vocab_size = len(vocab_to_int) + 1 #add one for padding\n",
        "embed_size = 300\n",
        "lstm_sizes = [128, 64]\n",
        "learning_rate = 0.1\n",
        "\n",
        "\n",
        "def test_network(model_dir, batch_size, test_x, test_y):\n",
        "    \n",
        "    inputs_, labels_, keep_prob_ = model_inputs()\n",
        "    embed = build_embedding_layer(inputs_, vocab_size, embed_size)\n",
        "    initial_state, lstm_outputs, lstm_cell, final_state = build_lstm_layers(lstm_sizes, embed, keep_prob_, batch_size)\n",
        "    predictions, loss, optimizer = build_cost_fn_and_opt(lstm_outputs, labels_, learning_rate)\n",
        "    accuracy = build_accuracy(predictions, labels_)\n",
        "    \n",
        "    saver = tf.train.Saver()\n",
        "    \n",
        "    test_acc = []\n",
        "    with tf.Session() as sess:\n",
        "        saver = tf.train.import_meta_graph(model_dir + '/sentiment.ckpt.meta')\n",
        "        saver.restore(sess,tf.train.latest_checkpoint(model_dir))\n",
        "        test_state = sess.run(lstm_cell.zero_state(batch_size, tf.float32))\n",
        "        for ii, (x, y) in enumerate(utl.get_batches(test_x, test_y, batch_size), 1):\n",
        "            feed = {inputs_: x,\n",
        "                    labels_: y[:, None],\n",
        "                    keep_prob_: 1,\n",
        "                    initial_state: test_state}\n",
        "            batch_acc, test_state = sess.run([accuracy, final_state], feed_dict=feed)\n",
        "            test_acc.append(batch_acc)\n",
        "        print(\"Test Accuracy: {:.3f}\".format(np.mean(test_acc)))\n",
        "        \n",
        "\n",
        "\n",
        "#from google.colab import files\n",
        "#files.download( modelSavingPath ) \n",
        "\n",
        "with tf.Graph().as_default():\n",
        "    test_network(persist_path, batch_size, test_x, test_y)\n",
        "   \n"
      ],
      "execution_count": 9,
      "outputs": [
        {
          "output_type": "stream",
          "text": [
            "INFO:tensorflow:Restoring parameters from gdrive/My Drive/models/modeling_stock_market/sentiment.ckpt\n",
            "Test Accuracy: 0.614\n"
          ],
          "name": "stdout"
        }
      ]
    }
  ]
}