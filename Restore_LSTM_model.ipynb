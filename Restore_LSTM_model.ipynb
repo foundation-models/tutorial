{
  "nbformat": 4,
  "nbformat_minor": 0,
  "metadata": {
    "colab": {
      "name": "Restore LSTM model.ipynb",
      "version": "0.3.2",
      "provenance": [],
      "include_colab_link": true
    },
    "kernelspec": {
      "name": "python3",
      "display_name": "Python 3"
    }
  },
  "cells": [
    {
      "cell_type": "markdown",
      "metadata": {
        "id": "view-in-github",
        "colab_type": "text"
      },
      "source": [
        "<a href=\"https://colab.research.google.com/github/hossein20s/tutorial/blob/master/Restore_LSTM_model.ipynb\" target=\"_parent\"><img src=\"https://colab.research.google.com/assets/colab-badge.svg\" alt=\"Open In Colab\"/></a>"
      ]
    },
    {
      "metadata": {
        "id": "hENln8hN15w2",
        "colab_type": "code",
        "outputId": "e34d4a42-61e8-4365-fc05-1e3d764f4530",
        "colab": {
          "base_uri": "https://localhost:8080/",
          "height": 34
        }
      },
      "cell_type": "code",
      "source": [
        "import tensorflow as tf\n",
        "\n",
        "print(tf.__version__)"
      ],
      "execution_count": 1,
      "outputs": [
        {
          "output_type": "stream",
          "text": [
            "1.13.1\n"
          ],
          "name": "stdout"
        }
      ]
    },
    {
      "metadata": {
        "id": "35jfw400w738",
        "colab_type": "code",
        "colab": {
          "base_uri": "https://localhost:8080/",
          "height": 122
        },
        "outputId": "44786f66-c496-4abc-a9cb-a4d258cc1eea"
      },
      "cell_type": "code",
      "source": [
        "import sys\n",
        "\n",
        "from google.colab import drive\n",
        "drive.mount('/content/gdrive')\n",
        "\n",
        "sys.path.append('/content/gdrive/My Drive/python-lib')"
      ],
      "execution_count": 2,
      "outputs": [
        {
          "output_type": "stream",
          "text": [
            "Go to this URL in a browser: https://accounts.google.com/o/oauth2/auth?client_id=947318989803-6bn6qk8qdgf4n4g3pfee6491hc0brc4i.apps.googleusercontent.com&redirect_uri=urn%3Aietf%3Awg%3Aoauth%3A2.0%3Aoob&scope=email%20https%3A%2F%2Fwww.googleapis.com%2Fauth%2Fdocs.test%20https%3A%2F%2Fwww.googleapis.com%2Fauth%2Fdrive%20https%3A%2F%2Fwww.googleapis.com%2Fauth%2Fdrive.photos.readonly%20https%3A%2F%2Fwww.googleapis.com%2Fauth%2Fpeopleapi.readonly&response_type=code\n",
            "\n",
            "Enter your authorization code:\n",
            "··········\n",
            "Mounted at /content/gdrive\n"
          ],
          "name": "stdout"
        }
      ]
    },
    {
      "metadata": {
        "id": "HaC37m1h2M0g",
        "colab_type": "code",
        "colab": {}
      },
      "cell_type": "code",
      "source": [
        "from collections import Counter\n",
        "import numpy as np\n",
        "import utils as utl\n",
        "import pandas as pd\n",
        "\n",
        "data = pd.read_csv(\"https://github.com/GarrettHoffman/lstm-oreilly/raw/master/data/StockTwits_SPY_Sentiment_2017.gz\",\n",
        "                   encoding=\"utf-8\",\n",
        "                   compression=\"gzip\",\n",
        "                   index_col=0)\n",
        "\n",
        "# get messages and sentiment labels\n",
        "messages = data.message.values\n",
        "labels = data.sentiment.values\n",
        "\n",
        "# make everything lower case and remove punctuation\n",
        "messages = np.array([utl.preprocess_ST_message(message) for message in messages])\n",
        "\n",
        "# keeping a collection of our full vocabularly and creating a mapping of each word to a unique index\n",
        "\n",
        "full_lexicon = \" \".join(messages).split()\n",
        "vocab_to_int, int_to_vocab = utl.create_lookup_tables(full_lexicon)\n",
        "messages_lens = Counter([len(x) for x in messages])\n",
        "messages, labels = utl.drop_empty_messages(messages, labels)\n",
        "\n",
        "messages = utl.encode_ST_messages(messages, vocab_to_int)\n",
        "labels = utl.encode_ST_labels(labels)\n",
        "messages = utl.zero_pad_messages(messages, seq_len=244)\n",
        "\n",
        "train_x, val_x, test_x, train_y, val_y, test_y = utl.train_val_test_split(messages, labels, split_frac=0.80)"
      ],
      "execution_count": 0,
      "outputs": []
    },
    {
      "metadata": {
        "id": "ZtkDJrNp4tTi",
        "colab_type": "code",
        "colab": {}
      },
      "cell_type": "code",
      "source": [
        "def model_inputs():\n",
        "    \"\"\"\n",
        "    Create the model inputs\n",
        "    \"\"\"\n",
        "    inputs_ = tf.placeholder(tf.int32, [None, None], name='inputs')\n",
        "    labels_ = tf.placeholder(tf.int32, [None, None], name='labels')\n",
        "    keep_prob_ = tf.placeholder(tf.float32, name='keep_prob')\n",
        "    \n",
        "    return inputs_, labels_, keep_prob_\n",
        "\n",
        "  \n",
        "def build_embedding_layer(inputs_, vocab_size, embed_size):\n",
        "    \"\"\"\n",
        "    Create the embedding layer\n",
        "    \"\"\"\n",
        "    embedding = tf.Variable(tf.random_uniform((vocab_size, embed_size), -1, 1))\n",
        "    embed = tf.nn.embedding_lookup(embedding, inputs_)\n",
        "    \n",
        "    return embed\n",
        "  \n",
        "def build_lstm_layers(lstm_sizes, embed, keep_prob_, batch_size):\n",
        "    \"\"\"\n",
        "    Create the LSTM layers\n",
        "    \"\"\"\n",
        "    lstms = [tf.contrib.rnn.BasicLSTMCell(size) for size in lstm_sizes]\n",
        "    # Add dropout to the cell\n",
        "    drops = [tf.contrib.rnn.DropoutWrapper(lstm, output_keep_prob=keep_prob_) for lstm in lstms]\n",
        "    # Stack up multiple LSTM layers, for deep learning\n",
        "    cell = tf.contrib.rnn.MultiRNNCell(drops)\n",
        "    # Getting an initial state of all zeros\n",
        "    initial_state = cell.zero_state(batch_size, tf.float32)\n",
        "    \n",
        "    lstm_outputs, final_state = tf.nn.dynamic_rnn(cell, embed, initial_state=initial_state)\n",
        "    \n",
        "    return initial_state, lstm_outputs, cell, final_state\n",
        "\n",
        "def build_cost_fn_and_opt(lstm_outputs, labels_, learning_rate):\n",
        "    \"\"\"\n",
        "    Create the Loss function and Optimizer\n",
        "    \"\"\"\n",
        "    predictions = tf.contrib.layers.fully_connected(lstm_outputs[:, -1], 1, activation_fn=tf.sigmoid)\n",
        "    loss = tf.losses.mean_squared_error(labels_, predictions)\n",
        "    optimzer = tf.train.AdadeltaOptimizer(learning_rate).minimize(loss)\n",
        "    \n",
        "    return predictions, loss, optimzer\n",
        "\n",
        "def build_accuracy(predictions, labels_):\n",
        "    \"\"\"\n",
        "    Create accuracy\n",
        "    \"\"\"\n",
        "    correct_pred = tf.equal(tf.cast(tf.round(predictions), tf.int32), labels_)\n",
        "    accuracy = tf.reduce_mean(tf.cast(correct_pred, tf.float32))\n",
        "    \n",
        "    return accuracy\n",
        "\n",
        "  "
      ],
      "execution_count": 0,
      "outputs": []
    },
    {
      "metadata": {
        "id": "H1rz6cIo23ne",
        "colab_type": "code",
        "outputId": "7ebec415-f15b-4a9f-f202-bd4b4cbaebd8",
        "colab": {
          "base_uri": "https://localhost:8080/",
          "height": 598
        }
      },
      "cell_type": "code",
      "source": [
        "checkpoint_path = \"gdrive/My Drive/models/modeling_stock_market\"\n",
        "\n",
        "batch_size = 256\n",
        "vocab_size = len(vocab_to_int) + 1 #add one for padding\n",
        "embed_size = 300\n",
        "lstm_sizes = [128, 64]\n",
        "learning_rate = 0.1\n",
        "\n",
        "\n",
        "def test_network(model_dir, batch_size, test_x, test_y):\n",
        "    \n",
        "    inputs_, labels_, keep_prob_ = model_inputs()\n",
        "    embed = build_embedding_layer(inputs_, vocab_size, embed_size)\n",
        "    initial_state, lstm_outputs, lstm_cell, final_state = build_lstm_layers(lstm_sizes, embed, keep_prob_, batch_size)\n",
        "    predictions, loss, optimizer = build_cost_fn_and_opt(lstm_outputs, labels_, learning_rate)\n",
        "    accuracy = build_accuracy(predictions, labels_)\n",
        "    \n",
        "    saver = tf.train.Saver()\n",
        "    \n",
        "    test_acc = []\n",
        "    with tf.Session() as sess:\n",
        "        saver = tf.train.import_meta_graph(model_dir + '/sentiment.ckpt.meta')\n",
        "        saver.restore(sess,tf.train.latest_checkpoint(model_dir))\n",
        "        test_state = sess.run(lstm_cell.zero_state(batch_size, tf.float32))\n",
        "        for ii, (x, y) in enumerate(utl.get_batches(test_x, test_y, batch_size), 1):\n",
        "            feed = {inputs_: x,\n",
        "                    labels_: y[:, None],\n",
        "                    keep_prob_: 1,\n",
        "                    initial_state: test_state}\n",
        "            batch_acc, test_state = sess.run([accuracy, final_state], feed_dict=feed)\n",
        "            test_acc.append(batch_acc)\n",
        "        print(\"Test Accuracy: {:.3f}\".format(np.mean(test_acc)))\n",
        "        \n",
        "\n",
        "\n",
        "#from google.colab import files\n",
        "#files.download( modelSavingPath ) \n",
        "\n",
        "with tf.Graph().as_default():\n",
        "    test_network(checkpoint_path, batch_size, test_x, test_y)\n",
        "   \n"
      ],
      "execution_count": 5,
      "outputs": [
        {
          "output_type": "stream",
          "text": [
            "WARNING:tensorflow:From /usr/local/lib/python3.6/dist-packages/tensorflow/python/framework/op_def_library.py:263: colocate_with (from tensorflow.python.framework.ops) is deprecated and will be removed in a future version.\n",
            "Instructions for updating:\n",
            "Colocations handled automatically by placer.\n",
            "\n",
            "WARNING: The TensorFlow contrib module will not be included in TensorFlow 2.0.\n",
            "For more information, please see:\n",
            "  * https://github.com/tensorflow/community/blob/master/rfcs/20180907-contrib-sunset.md\n",
            "  * https://github.com/tensorflow/addons\n",
            "If you depend on functionality not listed there, please file an issue.\n",
            "\n",
            "WARNING:tensorflow:From <ipython-input-4-f8462a540110>:25: BasicLSTMCell.__init__ (from tensorflow.python.ops.rnn_cell_impl) is deprecated and will be removed in a future version.\n",
            "Instructions for updating:\n",
            "This class is equivalent as tf.keras.layers.LSTMCell, and will be replaced by that in Tensorflow 2.0.\n",
            "WARNING:tensorflow:From <ipython-input-4-f8462a540110>:29: MultiRNNCell.__init__ (from tensorflow.python.ops.rnn_cell_impl) is deprecated and will be removed in a future version.\n",
            "Instructions for updating:\n",
            "This class is equivalent as tf.keras.layers.StackedRNNCells, and will be replaced by that in Tensorflow 2.0.\n",
            "WARNING:tensorflow:From <ipython-input-4-f8462a540110>:33: dynamic_rnn (from tensorflow.python.ops.rnn) is deprecated and will be removed in a future version.\n",
            "Instructions for updating:\n",
            "Please use `keras.layers.RNN(cell)`, which is equivalent to this API\n",
            "WARNING:tensorflow:From /usr/local/lib/python3.6/dist-packages/tensorflow/python/ops/rnn_cell_impl.py:1259: calling dropout (from tensorflow.python.ops.nn_ops) with keep_prob is deprecated and will be removed in a future version.\n",
            "Instructions for updating:\n",
            "Please use `rate` instead of `keep_prob`. Rate should be set to `rate = 1 - keep_prob`.\n",
            "WARNING:tensorflow:From /usr/local/lib/python3.6/dist-packages/tensorflow/python/ops/losses/losses_impl.py:667: to_float (from tensorflow.python.ops.math_ops) is deprecated and will be removed in a future version.\n",
            "Instructions for updating:\n",
            "Use tf.cast instead.\n",
            "WARNING:tensorflow:From /usr/local/lib/python3.6/dist-packages/tensorflow/python/ops/array_grad.py:425: to_int32 (from tensorflow.python.ops.math_ops) is deprecated and will be removed in a future version.\n",
            "Instructions for updating:\n",
            "Use tf.cast instead.\n",
            "WARNING:tensorflow:From /usr/local/lib/python3.6/dist-packages/tensorflow/python/training/saver.py:1266: checkpoint_exists (from tensorflow.python.training.checkpoint_management) is deprecated and will be removed in a future version.\n",
            "Instructions for updating:\n",
            "Use standard file APIs to check for files with this prefix.\n",
            "INFO:tensorflow:Restoring parameters from gdrive/My Drive/models/modeling_stock_market/sentiment.ckpt\n",
            "Test Accuracy: 0.590\n"
          ],
          "name": "stdout"
        }
      ]
    }
  ]
}