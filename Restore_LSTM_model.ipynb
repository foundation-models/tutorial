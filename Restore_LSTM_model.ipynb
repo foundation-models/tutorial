{
  "nbformat": 4,
  "nbformat_minor": 0,
  "metadata": {
    "colab": {
      "name": "Restore LSTM model.ipynb",
      "version": "0.3.2",
      "provenance": [],
      "include_colab_link": true
    },
    "kernelspec": {
      "name": "python3",
      "display_name": "Python 3"
    }
  },
  "cells": [
    {
      "cell_type": "markdown",
      "metadata": {
        "id": "view-in-github",
        "colab_type": "text"
      },
      "source": [
        "<a href=\"https://colab.research.google.com/github/hossein20s/tutorial/blob/master/Restore_LSTM_model.ipynb\" target=\"_parent\"><img src=\"https://colab.research.google.com/assets/colab-badge.svg\" alt=\"Open In Colab\"/></a>"
      ]
    },
    {
      "metadata": {
        "id": "hENln8hN15w2",
        "colab_type": "code",
        "colab": {
          "base_uri": "https://localhost:8080/",
          "height": 34
        },
        "outputId": "a9e80926-dd34-4b7e-d177-b8d5dd7721ce"
      },
      "cell_type": "code",
      "source": [
        "import tensorflow as tf\n",
        "\n",
        "print(tf.__version__)"
      ],
      "execution_count": 1,
      "outputs": [
        {
          "output_type": "stream",
          "text": [
            "1.13.1\n"
          ],
          "name": "stdout"
        }
      ]
    },
    {
      "metadata": {
        "id": "HaC37m1h2M0g",
        "colab_type": "code",
        "colab": {}
      },
      "cell_type": "code",
      "source": [
        "from collections import Counter\n",
        "import numpy as np\n",
        "import utils as utl\n",
        "import pandas as pd\n",
        "\n",
        "data = pd.read_csv(\"https://github.com/GarrettHoffman/lstm-oreilly/raw/master/data/StockTwits_SPY_Sentiment_2017.gz\",\n",
        "                   encoding=\"utf-8\",\n",
        "                   compression=\"gzip\",\n",
        "                   index_col=0)\n",
        "\n",
        "# get messages and sentiment labels\n",
        "messages = data.message.values\n",
        "labels = data.sentiment.values\n",
        "\n",
        "# make everything lower case and remove punctuation\n",
        "messages = np.array([utl.preprocess_ST_message(message) for message in messages])\n",
        "\n",
        "# keeping a collection of our full vocabularly and creating a mapping of each word to a unique index\n",
        "\n",
        "full_lexicon = \" \".join(messages).split()\n",
        "vocab_to_int, int_to_vocab = utl.create_lookup_tables(full_lexicon)\n",
        "messages_lens = Counter([len(x) for x in messages])\n",
        "messages, labels = utl.drop_empty_messages(messages, labels)\n",
        "\n",
        "messages = utl.encode_ST_messages(messages, vocab_to_int)\n",
        "labels = utl.encode_ST_labels(labels)\n",
        "messages = utl.zero_pad_messages(messages, seq_len=244)\n",
        "\n",
        "train_x, val_x, test_x, train_y, val_y, test_y = utl.train_val_test_split(messages, labels, split_frac=0.80)"
      ],
      "execution_count": 0,
      "outputs": []
    },
    {
      "metadata": {
        "id": "ZtkDJrNp4tTi",
        "colab_type": "code",
        "colab": {}
      },
      "cell_type": "code",
      "source": [
        "def model_inputs():\n",
        "    \"\"\"\n",
        "    Create the model inputs\n",
        "    \"\"\"\n",
        "    inputs_ = tf.placeholder(tf.int32, [None, None], name='inputs')\n",
        "    labels_ = tf.placeholder(tf.int32, [None, None], name='labels')\n",
        "    keep_prob_ = tf.placeholder(tf.float32, name='keep_prob')\n",
        "    \n",
        "    return inputs_, labels_, keep_prob_\n",
        "\n",
        "  \n",
        "def build_embedding_layer(inputs_, vocab_size, embed_size):\n",
        "    \"\"\"\n",
        "    Create the embedding layer\n",
        "    \"\"\"\n",
        "    embedding = tf.Variable(tf.random_uniform((vocab_size, embed_size), -1, 1))\n",
        "    embed = tf.nn.embedding_lookup(embedding, inputs_)\n",
        "    \n",
        "    return embed\n",
        "  \n",
        "def build_lstm_layers(lstm_sizes, embed, keep_prob_, batch_size):\n",
        "    \"\"\"\n",
        "    Create the LSTM layers\n",
        "    \"\"\"\n",
        "    lstms = [tf.contrib.rnn.BasicLSTMCell(size) for size in lstm_sizes]\n",
        "    # Add dropout to the cell\n",
        "    drops = [tf.contrib.rnn.DropoutWrapper(lstm, output_keep_prob=keep_prob_) for lstm in lstms]\n",
        "    # Stack up multiple LSTM layers, for deep learning\n",
        "    cell = tf.contrib.rnn.MultiRNNCell(drops)\n",
        "    # Getting an initial state of all zeros\n",
        "    initial_state = cell.zero_state(batch_size, tf.float32)\n",
        "    \n",
        "    lstm_outputs, final_state = tf.nn.dynamic_rnn(cell, embed, initial_state=initial_state)\n",
        "    \n",
        "    return initial_state, lstm_outputs, cell, final_state\n",
        "\n",
        "def build_cost_fn_and_opt(lstm_outputs, labels_, learning_rate):\n",
        "    \"\"\"\n",
        "    Create the Loss function and Optimizer\n",
        "    \"\"\"\n",
        "    predictions = tf.contrib.layers.fully_connected(lstm_outputs[:, -1], 1, activation_fn=tf.sigmoid)\n",
        "    loss = tf.losses.mean_squared_error(labels_, predictions)\n",
        "    optimzer = tf.train.AdadeltaOptimizer(learning_rate).minimize(loss)\n",
        "    \n",
        "    return predictions, loss, optimzer\n",
        "\n",
        "def build_accuracy(predictions, labels_):\n",
        "    \"\"\"\n",
        "    Create accuracy\n",
        "    \"\"\"\n",
        "    correct_pred = tf.equal(tf.cast(tf.round(predictions), tf.int32), labels_)\n",
        "    accuracy = tf.reduce_mean(tf.cast(correct_pred, tf.float32))\n",
        "    \n",
        "    return accuracy\n",
        "\n",
        "  "
      ],
      "execution_count": 0,
      "outputs": []
    },
    {
      "metadata": {
        "id": "H1rz6cIo23ne",
        "colab_type": "code",
        "colab": {
          "base_uri": "https://localhost:8080/",
          "height": 469
        },
        "outputId": "93382fea-8d8d-47b5-a81a-8001eaddef1b"
      },
      "cell_type": "code",
      "source": [
        "from google.colab import drive\n",
        "drive.mount('/content/gdrive')\n",
        "\n",
        "modelSavingPath = F\"/content/gdrive/My Drive/ml-models/checkpoints/checkpoints\"\n",
        "batch_size = 256\n",
        "vocab_size = len(vocab_to_int) + 1 #add one for padding\n",
        "embed_size = 300\n",
        "lstm_sizes = [128, 64]\n",
        "learning_rate = 0.1\n",
        "\n",
        "\n",
        "def test_network(model_dir, batch_size, test_x, test_y):\n",
        "    \n",
        "    inputs_, labels_, keep_prob_ = model_inputs()\n",
        "    embed = build_embedding_layer(inputs_, vocab_size, embed_size)\n",
        "    initial_state, lstm_outputs, lstm_cell, final_state = build_lstm_layers(lstm_sizes, embed, keep_prob_, batch_size)\n",
        "    predictions, loss, optimizer = build_cost_fn_and_opt(lstm_outputs, labels_, learning_rate)\n",
        "    accuracy = build_accuracy(predictions, labels_)\n",
        "    \n",
        "    saver = tf.train.Saver()\n",
        "    \n",
        "    test_acc = []\n",
        "    with tf.Session() as sess:\n",
        "        saver.restore(sess, tf.train.latest_checkpoint(model_dir))\n",
        "        test_state = sess.run(lstm_cell.zero_state(batch_size, tf.float32))\n",
        "        for ii, (x, y) in enumerate(utl.get_batches(test_x, test_y, batch_size), 1):\n",
        "            feed = {inputs_: x,\n",
        "                    labels_: y[:, None],\n",
        "                    keep_prob_: 1,\n",
        "                    initial_state: test_state}\n",
        "            batch_acc, test_state = sess.run([accuracy, final_state], feed_dict=feed)\n",
        "            test_acc.append(batch_acc)\n",
        "        print(\"Test Accuracy: {:.3f}\".format(np.mean(test_acc)))\n",
        "        \n",
        "\n",
        "\n",
        "#from google.colab import files\n",
        "#files.download( modelSavingPath ) \n",
        "\n",
        "with tf.Graph().as_default():\n",
        "    test_network(modelSavingPath, batch_size, test_x, test_y)\n",
        "   \n"
      ],
      "execution_count": 19,
      "outputs": [
        {
          "output_type": "stream",
          "text": [
            "Drive already mounted at /content/gdrive; to attempt to forcibly remount, call drive.mount(\"/content/gdrive\", force_remount=True).\n"
          ],
          "name": "stdout"
        },
        {
          "output_type": "error",
          "ename": "ValueError",
          "evalue": "ignored",
          "traceback": [
            "\u001b[0;31m---------------------------------------------------------------------------\u001b[0m",
            "\u001b[0;31mValueError\u001b[0m                                Traceback (most recent call last)",
            "\u001b[0;32m<ipython-input-19-fbfb8bd016cf>\u001b[0m in \u001b[0;36m<module>\u001b[0;34m()\u001b[0m\n\u001b[1;32m     39\u001b[0m \u001b[0;34m\u001b[0m\u001b[0m\n\u001b[1;32m     40\u001b[0m \u001b[0;32mwith\u001b[0m \u001b[0mtf\u001b[0m\u001b[0;34m.\u001b[0m\u001b[0mGraph\u001b[0m\u001b[0;34m(\u001b[0m\u001b[0;34m)\u001b[0m\u001b[0;34m.\u001b[0m\u001b[0mas_default\u001b[0m\u001b[0;34m(\u001b[0m\u001b[0;34m)\u001b[0m\u001b[0;34m:\u001b[0m\u001b[0;34m\u001b[0m\u001b[0;34m\u001b[0m\u001b[0m\n\u001b[0;32m---> 41\u001b[0;31m     \u001b[0mtest_network\u001b[0m\u001b[0;34m(\u001b[0m\u001b[0mmodelSavingPath\u001b[0m\u001b[0;34m,\u001b[0m \u001b[0mbatch_size\u001b[0m\u001b[0;34m,\u001b[0m \u001b[0mtest_x\u001b[0m\u001b[0;34m,\u001b[0m \u001b[0mtest_y\u001b[0m\u001b[0;34m)\u001b[0m\u001b[0;34m\u001b[0m\u001b[0;34m\u001b[0m\u001b[0m\n\u001b[0m\u001b[1;32m     42\u001b[0m \u001b[0;34m\u001b[0m\u001b[0m\n",
            "\u001b[0;32m<ipython-input-19-fbfb8bd016cf>\u001b[0m in \u001b[0;36mtest_network\u001b[0;34m(model_dir, batch_size, test_x, test_y)\u001b[0m\n\u001b[1;32m     22\u001b[0m     \u001b[0mtest_acc\u001b[0m \u001b[0;34m=\u001b[0m \u001b[0;34m[\u001b[0m\u001b[0;34m]\u001b[0m\u001b[0;34m\u001b[0m\u001b[0;34m\u001b[0m\u001b[0m\n\u001b[1;32m     23\u001b[0m     \u001b[0;32mwith\u001b[0m \u001b[0mtf\u001b[0m\u001b[0;34m.\u001b[0m\u001b[0mSession\u001b[0m\u001b[0;34m(\u001b[0m\u001b[0;34m)\u001b[0m \u001b[0;32mas\u001b[0m \u001b[0msess\u001b[0m\u001b[0;34m:\u001b[0m\u001b[0;34m\u001b[0m\u001b[0;34m\u001b[0m\u001b[0m\n\u001b[0;32m---> 24\u001b[0;31m         \u001b[0msaver\u001b[0m\u001b[0;34m.\u001b[0m\u001b[0mrestore\u001b[0m\u001b[0;34m(\u001b[0m\u001b[0msess\u001b[0m\u001b[0;34m,\u001b[0m \u001b[0mtf\u001b[0m\u001b[0;34m.\u001b[0m\u001b[0mtrain\u001b[0m\u001b[0;34m.\u001b[0m\u001b[0mlatest_checkpoint\u001b[0m\u001b[0;34m(\u001b[0m\u001b[0mmodel_dir\u001b[0m\u001b[0;34m)\u001b[0m\u001b[0;34m)\u001b[0m\u001b[0;34m\u001b[0m\u001b[0;34m\u001b[0m\u001b[0m\n\u001b[0m\u001b[1;32m     25\u001b[0m         \u001b[0mtest_state\u001b[0m \u001b[0;34m=\u001b[0m \u001b[0msess\u001b[0m\u001b[0;34m.\u001b[0m\u001b[0mrun\u001b[0m\u001b[0;34m(\u001b[0m\u001b[0mlstm_cell\u001b[0m\u001b[0;34m.\u001b[0m\u001b[0mzero_state\u001b[0m\u001b[0;34m(\u001b[0m\u001b[0mbatch_size\u001b[0m\u001b[0;34m,\u001b[0m \u001b[0mtf\u001b[0m\u001b[0;34m.\u001b[0m\u001b[0mfloat32\u001b[0m\u001b[0;34m)\u001b[0m\u001b[0;34m)\u001b[0m\u001b[0;34m\u001b[0m\u001b[0;34m\u001b[0m\u001b[0m\n\u001b[1;32m     26\u001b[0m         \u001b[0;32mfor\u001b[0m \u001b[0mii\u001b[0m\u001b[0;34m,\u001b[0m \u001b[0;34m(\u001b[0m\u001b[0mx\u001b[0m\u001b[0;34m,\u001b[0m \u001b[0my\u001b[0m\u001b[0;34m)\u001b[0m \u001b[0;32min\u001b[0m \u001b[0menumerate\u001b[0m\u001b[0;34m(\u001b[0m\u001b[0mutl\u001b[0m\u001b[0;34m.\u001b[0m\u001b[0mget_batches\u001b[0m\u001b[0;34m(\u001b[0m\u001b[0mtest_x\u001b[0m\u001b[0;34m,\u001b[0m \u001b[0mtest_y\u001b[0m\u001b[0;34m,\u001b[0m \u001b[0mbatch_size\u001b[0m\u001b[0;34m)\u001b[0m\u001b[0;34m,\u001b[0m \u001b[0;36m1\u001b[0m\u001b[0;34m)\u001b[0m\u001b[0;34m:\u001b[0m\u001b[0;34m\u001b[0m\u001b[0;34m\u001b[0m\u001b[0m\n",
            "\u001b[0;32m/usr/local/lib/python3.6/dist-packages/tensorflow/python/training/saver.py\u001b[0m in \u001b[0;36mrestore\u001b[0;34m(self, sess, save_path)\u001b[0m\n\u001b[1;32m   1262\u001b[0m       \u001b[0;32mreturn\u001b[0m\u001b[0;34m\u001b[0m\u001b[0;34m\u001b[0m\u001b[0m\n\u001b[1;32m   1263\u001b[0m     \u001b[0;32mif\u001b[0m \u001b[0msave_path\u001b[0m \u001b[0;32mis\u001b[0m \u001b[0;32mNone\u001b[0m\u001b[0;34m:\u001b[0m\u001b[0;34m\u001b[0m\u001b[0;34m\u001b[0m\u001b[0m\n\u001b[0;32m-> 1264\u001b[0;31m       \u001b[0;32mraise\u001b[0m \u001b[0mValueError\u001b[0m\u001b[0;34m(\u001b[0m\u001b[0;34m\"Can't load save_path when it is None.\"\u001b[0m\u001b[0;34m)\u001b[0m\u001b[0;34m\u001b[0m\u001b[0;34m\u001b[0m\u001b[0m\n\u001b[0m\u001b[1;32m   1265\u001b[0m \u001b[0;34m\u001b[0m\u001b[0m\n\u001b[1;32m   1266\u001b[0m     \u001b[0;32mif\u001b[0m \u001b[0;32mnot\u001b[0m \u001b[0mcheckpoint_management\u001b[0m\u001b[0;34m.\u001b[0m\u001b[0mcheckpoint_exists\u001b[0m\u001b[0;34m(\u001b[0m\u001b[0mcompat\u001b[0m\u001b[0;34m.\u001b[0m\u001b[0mas_text\u001b[0m\u001b[0;34m(\u001b[0m\u001b[0msave_path\u001b[0m\u001b[0;34m)\u001b[0m\u001b[0;34m)\u001b[0m\u001b[0;34m:\u001b[0m\u001b[0;34m\u001b[0m\u001b[0;34m\u001b[0m\u001b[0m\n",
            "\u001b[0;31mValueError\u001b[0m: Can't load save_path when it is None."
          ]
        }
      ]
    }
  ]
}