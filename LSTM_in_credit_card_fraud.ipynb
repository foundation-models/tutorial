{
  "nbformat": 4,
  "nbformat_minor": 0,
  "metadata": {
    "colab": {
      "name": "LSTM in credit card fraud.ipynb",
      "version": "0.3.2",
      "provenance": [],
      "collapsed_sections": [],
      "include_colab_link": true
    },
    "kernelspec": {
      "display_name": "Python 2",
      "language": "python",
      "name": "python2"
    }
  },
  "cells": [
    {
      "cell_type": "markdown",
      "metadata": {
        "id": "view-in-github",
        "colab_type": "text"
      },
      "source": [
        "<a href=\"https://colab.research.google.com/github/hossein20s/tutorial/blob/master/LSTM_in_credit_card_fraud.ipynb\" target=\"_parent\"><img src=\"https://colab.research.google.com/assets/colab-badge.svg\" alt=\"Open In Colab\"/></a>"
      ]
    },
    {
      "metadata": {
        "collapsed": true,
        "id": "NQZnOtlMiFXd",
        "colab_type": "code",
        "outputId": "111bd237-4754-48eb-8717-9bfb8070dd53",
        "colab": {
          "base_uri": "https://localhost:8080/",
          "height": 34
        }
      },
      "cell_type": "code",
      "source": [
        "import tensorflow as tf\n",
        "\n",
        "print(tf.__version__)"
      ],
      "execution_count": 1,
      "outputs": [
        {
          "output_type": "stream",
          "text": [
            "1.13.1\n"
          ],
          "name": "stdout"
        }
      ]
    },
    {
      "metadata": {
        "id": "C6a6JgQgjZgZ",
        "colab_type": "code",
        "outputId": "55b6684d-5141-469c-d549-ddb3a75e797a",
        "colab": {
          "base_uri": "https://localhost:8080/",
          "height": 122
        }
      },
      "cell_type": "code",
      "source": [
        "import sys\n",
        "sys.path.append('/content/gdrive/My Drive/python-lib')\n",
        "\n",
        "from google.colab import drive\n",
        "drive.mount('/content/gdrive')\n",
        "\n",
        "persist_path = \"gdrive/My Drive/models/creditcardfraud\"\n"
      ],
      "execution_count": 2,
      "outputs": [
        {
          "output_type": "stream",
          "text": [
            "Go to this URL in a browser: https://accounts.google.com/o/oauth2/auth?client_id=947318989803-6bn6qk8qdgf4n4g3pfee6491hc0brc4i.apps.googleusercontent.com&redirect_uri=urn%3Aietf%3Awg%3Aoauth%3A2.0%3Aoob&scope=email%20https%3A%2F%2Fwww.googleapis.com%2Fauth%2Fdocs.test%20https%3A%2F%2Fwww.googleapis.com%2Fauth%2Fdrive%20https%3A%2F%2Fwww.googleapis.com%2Fauth%2Fdrive.photos.readonly%20https%3A%2F%2Fwww.googleapis.com%2Fauth%2Fpeopleapi.readonly&response_type=code\n",
            "\n",
            "Enter your authorization code:\n",
            "··········\n",
            "Mounted at /content/gdrive\n"
          ],
          "name": "stdout"
        }
      ]
    },
    {
      "metadata": {
        "id": "VKoILXtkiFXq",
        "colab_type": "code",
        "outputId": "ddea6612-a5de-4a57-c091-c593cbce0cee",
        "colab": {
          "base_uri": "https://localhost:8080/",
          "height": 510
        }
      },
      "cell_type": "code",
      "source": [
        "import pandas as pd\n",
        "\n",
        "data = pd.read_csv('/content/gdrive/My Drive//data/creditcard.csv.zip',\n",
        "                   compression='zip', skiprows=[0], header=None)\n",
        "\n",
        "features = data.iloc[:, 1:30]\n",
        "labels = data.iloc[:, -1]\n",
        "\n",
        "print(data[:2])\n",
        "print(features[:2])\n",
        "print(labels[:2])"
      ],
      "execution_count": 3,
      "outputs": [
        {
          "output_type": "stream",
          "text": [
            "    0         1         2         3         4         5         6         7   \\\n",
            "0  0.0 -1.359807 -0.072781  2.536347  1.378155 -0.338321  0.462388  0.239599   \n",
            "1  0.0  1.191857  0.266151  0.166480  0.448154  0.060018 -0.082361 -0.078803   \n",
            "\n",
            "         8         9  ...        21        22        23        24        25  \\\n",
            "0  0.098698  0.363787 ... -0.018307  0.277838 -0.110474  0.066928  0.128539   \n",
            "1  0.085102 -0.255425 ... -0.225775 -0.638672  0.101288 -0.339846  0.167170   \n",
            "\n",
            "         26        27        28      29  30  \n",
            "0 -0.189115  0.133558 -0.021053  149.62   0  \n",
            "1  0.125895 -0.008983  0.014724    2.69   0  \n",
            "\n",
            "[2 rows x 31 columns]\n",
            "         1         2         3         4         5         6         7   \\\n",
            "0 -1.359807 -0.072781  2.536347  1.378155 -0.338321  0.462388  0.239599   \n",
            "1  1.191857  0.266151  0.166480  0.448154  0.060018 -0.082361 -0.078803   \n",
            "\n",
            "         8         9         10   ...          20        21        22  \\\n",
            "0  0.098698  0.363787  0.090794   ...    0.251412 -0.018307  0.277838   \n",
            "1  0.085102 -0.255425 -0.166974   ...   -0.069083 -0.225775 -0.638672   \n",
            "\n",
            "         23        24        25        26        27        28      29  \n",
            "0 -0.110474  0.066928  0.128539 -0.189115  0.133558 -0.021053  149.62  \n",
            "1  0.101288 -0.339846  0.167170  0.125895 -0.008983  0.014724    2.69  \n",
            "\n",
            "[2 rows x 29 columns]\n",
            "0    0\n",
            "1    0\n",
            "Name: 30, dtype: int64\n"
          ],
          "name": "stdout"
        }
      ]
    },
    {
      "metadata": {
        "id": "u4IbZHkeiFX4",
        "colab_type": "code",
        "colab": {}
      },
      "cell_type": "code",
      "source": [
        "from sklearn.model_selection import train_test_split\n",
        "\n",
        "train_x,test_x,train_y,test_y = train_test_split(features, labels, \n",
        "                        test_size=0.2, shuffle=False, random_state=42)"
      ],
      "execution_count": 0,
      "outputs": []
    },
    {
      "metadata": {
        "id": "gKYn6kpxiFYA",
        "colab_type": "code",
        "colab": {}
      },
      "cell_type": "code",
      "source": [
        "from tensorflow.contrib import rnn\n",
        "import numpy as np\n",
        "from sklearn.metrics import f1_score, accuracy_score, recall_score, precision_score\n",
        "\n",
        "epochs = 2\n",
        "batch_size = 35\n",
        "n_classes = 1\n",
        "n_units = 200\n",
        "n_features = 29\n",
        "\n",
        "\n",
        "def recurrent_neural_network_model():\n",
        "    layer ={ 'weights': tf.Variable(tf.random_normal([n_units, n_classes])),\n",
        "            'bias': tf.Variable(tf.random_normal([n_classes]))}\n",
        "\n",
        "    x = tf.split(xplaceholder, n_features, 1)\n",
        "\n",
        "    lstm_cell = rnn.BasicLSTMCell(n_units)\n",
        "    \n",
        "    outputs, states = rnn.static_rnn(lstm_cell, x, dtype=tf.float32)\n",
        "    \n",
        "    output = tf.matmul(outputs[-1], layer['weights']) + layer['bias']\n",
        "\n",
        "    return output\n"
      ],
      "execution_count": 0,
      "outputs": []
    },
    {
      "metadata": {
        "id": "mCni9qTPrJVU",
        "colab_type": "code",
        "colab": {}
      },
      "cell_type": "code",
      "source": [
        "\n",
        "def train_neural_network(model_dir, X_train, y_train, X_test, y_test):\n",
        "    logit = recurrent_neural_network_model()\n",
        "    logit = tf.reshape(logit, [-1])\n",
        "\n",
        "    cost = tf.reduce_mean(tf.nn.sigmoid_cross_entropy_with_logits(logits=logit,\n",
        "                                                       labels=yplaceholder))\n",
        "    optimizer = tf.train.AdamOptimizer().minimize(cost)\n",
        "\n",
        "    saver = tf.train.Saver()\n",
        "      \n",
        "    with tf.Session() as sess:\n",
        "\n",
        "        tf.global_variables_initializer().run()\n",
        "        tf.local_variables_initializer().run()\n",
        "\n",
        "        for epoch in range(epochs):\n",
        "            epoch_loss = 0\n",
        "\n",
        "            i = 0\n",
        "            for i in range(int(len(X_train) / batch_size)):\n",
        "\n",
        "                start = i\n",
        "                end = i + batch_size\n",
        "\n",
        "                batch_x = np.array(X_train[start:end])\n",
        "                batch_y = np.array(y_train[start:end])\n",
        "                \n",
        "                _, c = sess.run([optimizer, cost],\n",
        "                      feed_dict={xplaceholder: batch_x, yplaceholder: batch_y})\n",
        "                epoch_loss += c\n",
        "                i += batch_size\n",
        "\n",
        "            print('Epoch', epoch, 'completed out of', epochs, 'loss:', epoch_loss)\n",
        "\n",
        "        saver.save(sess, model_dir + '/fraud.ckpt')\n",
        "        \n",
        "        pred = tf.round(tf.nn.sigmoid(logit)).eval({xplaceholder: \n",
        "                             np.array(X_test), yplaceholder: np.array(y_test)})\n",
        "        f1 = f1_score(np.array(y_test), pred, average='macro')\n",
        "        accuracy=accuracy_score(np.array(y_test), pred)\n",
        "        recall = recall_score(y_true=np.array(y_test), y_pred= pred)\n",
        "        precision = precision_score(y_true=np.array(y_test), y_pred=pred)\n",
        "        print(\"F1 Score:\", f1)\n",
        "        print(\"Accuracy Score:\",accuracy)\n",
        "        print(\"Recall:\", recall)\n",
        "        print(\"Precision:\", precision)\n",
        "\n",
        "if False:        \n",
        "  #clear you computational graph\n",
        "  with tf.Graph().as_default():\n",
        "    xplaceholder= tf.placeholder('float',[None,n_features])\n",
        "    yplaceholder = tf.placeholder('float')\n",
        "\n",
        "    train_neural_network(persist_path, train_x, train_y, test_x, test_y)\n",
        "\n"
      ],
      "execution_count": 0,
      "outputs": []
    },
    {
      "metadata": {
        "id": "qDWtknnEnBYx",
        "colab_type": "code",
        "outputId": "9e2ab320-2b72-4661-b301-f4b7053ad3ee",
        "colab": {
          "base_uri": "https://localhost:8080/",
          "height": 326
        }
      },
      "cell_type": "code",
      "source": [
        "from tensorflow.contrib import rnn\n",
        "import numpy as np\n",
        "from sklearn.metrics import f1_score, accuracy_score, recall_score, precision_score\n",
        "\n",
        "\n",
        "def test_network(model_dir, batch_size, y_test):\n",
        "\n",
        "  logit = recurrent_neural_network_model()\n",
        "  logit = tf.reshape(logit, [-1])\n",
        "  \n",
        "    \n",
        "  saver = tf.train.Saver()\n",
        "    \n",
        "  test_acc = []\n",
        "  with tf.Session() as sess:\n",
        "    saver.restore(sess, tf.train.latest_checkpoint(model_dir))\n",
        "    \n",
        "    pred = tf.round(tf.nn.sigmoid(logit)).eval({xplaceholder: np.array(test_x), \n",
        "                                                yplaceholder: np.array(test_y)})                                         \n",
        "    f1 = f1_score(np.array(y_test), pred, average='macro')\n",
        "    accuracy=accuracy_score(np.array(y_test), pred)\n",
        "    recall = recall_score(y_true=np.array(y_test), y_pred= pred)\n",
        "    precision = precision_score(y_true=np.array(y_test), y_pred=pred)\n",
        "\n",
        "    print(\"F1 Score:\", f1)\n",
        "    print(\"Accuracy Score:\",accuracy)\n",
        "    print(\"Recall:\", recall)\n",
        "    print(\"Precision:\", precision)        \n",
        "        \n",
        "\n",
        "#clear you computational graph\n",
        "with tf.Graph().as_default():\n",
        "  xplaceholder= tf.placeholder('float',[None,n_features])\n",
        "  yplaceholder = tf.placeholder('float')\n",
        "\n",
        "\n",
        "  test_network(persist_path, batch_size, test_y)"
      ],
      "execution_count": 7,
      "outputs": [
        {
          "output_type": "stream",
          "text": [
            "WARNING:tensorflow:From /usr/local/lib/python2.7/dist-packages/tensorflow/python/framework/op_def_library.py:263: colocate_with (from tensorflow.python.framework.ops) is deprecated and will be removed in a future version.\n",
            "Instructions for updating:\n",
            "Colocations handled automatically by placer.\n",
            "WARNING:tensorflow:From <ipython-input-5-23953d6cb850>:17: __init__ (from tensorflow.python.ops.rnn_cell_impl) is deprecated and will be removed in a future version.\n",
            "Instructions for updating:\n",
            "This class is equivalent as tf.keras.layers.LSTMCell, and will be replaced by that in Tensorflow 2.0.\n",
            "WARNING:tensorflow:From <ipython-input-5-23953d6cb850>:19: static_rnn (from tensorflow.python.ops.rnn) is deprecated and will be removed in a future version.\n",
            "Instructions for updating:\n",
            "Please use `keras.layers.RNN(cell, unroll=True)`, which is equivalent to this API\n",
            "WARNING:tensorflow:From /usr/local/lib/python2.7/dist-packages/tensorflow/python/training/saver.py:1266: checkpoint_exists (from tensorflow.python.training.checkpoint_management) is deprecated and will be removed in a future version.\n",
            "Instructions for updating:\n",
            "Use standard file APIs to check for files with this prefix.\n",
            "INFO:tensorflow:Restoring parameters from gdrive/My Drive/models/creditcardfraud/fraud.ckpt\n",
            "('F1 Score:', 0.6049982068679287)\n",
            "('Accuracy Score:', 0.9964713317650363)\n",
            "('Recall:', 0.36)\n",
            "('Precision:', 0.15)\n"
          ],
          "name": "stdout"
        }
      ]
    }
  ]
}