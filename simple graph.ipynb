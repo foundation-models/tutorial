{
 "cells": [
  {
   "cell_type": "code",
   "execution_count": 2,
   "metadata": {},
   "outputs": [
    {
     "name": "stdout",
     "output_type": "stream",
     "text": [
      "2.0.0-alpha0\n"
     ]
    }
   ],
   "source": [
    "\n",
    "# from https://github.com/tensorflow/tensorflow/issues/25385\n",
    "\n",
    "\n",
    "import time\n",
    "import numpy as np\n",
    "\n",
    "import tensorflow as tf\n",
    "print(tf.__version__)\n",
    "layers = tf.keras.layers\n"
   ]
  },
  {
   "cell_type": "code",
   "execution_count": 3,
   "metadata": {},
   "outputs": [],
   "source": [
    "def create_model():\n",
    "    max_pool = layers.MaxPooling2D((2, 2), (2, 2), padding='same')\n",
    "    # The model consists of a sequential chain of layers, so tf.keras.Sequential\n",
    "    # (a subclass of tf.keras.Model) makes for a compact description.\n",
    "    return tf.keras.Sequential([\n",
    "        layers.Reshape(\n",
    "            target_shape=[28, 28, 1],\n",
    "            input_shape=(28, 28,)),\n",
    "        layers.Conv2D(2, 5, padding='same', activation=tf.nn.relu),\n",
    "        max_pool,\n",
    "        layers.Conv2D(4, 5, padding='same', activation=tf.nn.relu),\n",
    "        max_pool,\n",
    "        layers.Flatten(),\n",
    "        layers.Dense(32, activation=tf.nn.relu),\n",
    "        layers.Dropout(0.4),\n",
    "        layers.Dense(10)])\n",
    "\n",
    "\n",
    "# Define a loss function and accuracy function\n",
    "def compute_loss(logits, labels):\n",
    "    return tf.reduce_mean(tf.keras.losses.sparse_categorical_crossentropy(labels, logits))\n",
    "\n",
    "\n",
    "def compute_accuracy(logits, labels):\n",
    "    return tf.keras.metrics.categorical_accuracy(labels, logits)\n",
    "\n",
    "# Set up datasets\n",
    "def mnist_datasets():\n",
    "    (x_train, y_train), (x_test, y_test) = tf.keras.datasets.mnist.load_data()\n",
    "    # Numpy defaults to dtype=float64; TF defaults to float32. Stick with float32.\n",
    "    x_train, x_test = x_train / np.float32(255), x_test / np.float32(255)\n",
    "    y_train, y_test = y_train.astype(np.int64), y_test.astype(np.int64)\n",
    "    train_dataset = tf.data.Dataset.from_tensor_slices((x_train, y_train))\n",
    "    test_dataset = tf.data.Dataset.from_tensor_slices((x_test, y_test))\n",
    "    return train_dataset, test_dataset\n",
    "\n"
   ]
  },
  {
   "cell_type": "code",
   "execution_count": null,
   "metadata": {},
   "outputs": [],
   "source": [
    "\n",
    "#@tf.function\n",
    "#def square_if_positive_vectorized(x):\n",
    "#  return tf.where(x > 0, x ** 2, x)\n",
    "\n",
    "\n",
    "#square_if_positive_vectorized(tf.range(-5, 5))\n",
    "\n",
    "#summary_writer = tf.summary.create_file_writer('/tmp/summaries')\n",
    "#with summary_writer.as_default():\n",
    "#  tf.summary.scalar('loss', 0.1, step=42)\n",
    "  "
   ]
  },
  {
   "cell_type": "code",
   "execution_count": 8,
   "metadata": {},
   "outputs": [],
   "source": [
    "@tf.function\n",
    "def train_step(model, optimizer, images, labels):\n",
    "    # Record the operations used to compute the loss, so that the gradient\n",
    "    # of the loss with respect to the variables can be computed.\n",
    "    with tf.GradientTape() as tape:\n",
    "        logits = model(images, training=True)\n",
    "        loss = compute_loss(logits, labels)\n",
    "        accuracy = compute_accuracy(logits, labels)\n",
    "    grads = tape.gradient(loss, model.trainable_variables)\n",
    "    optimizer.apply_gradients(zip(grads, model.trainable_variables))\n",
    "    return loss, accuracy\n"
   ]
  },
  {
   "cell_type": "code",
   "execution_count": 5,
   "metadata": {},
   "outputs": [],
   "source": [
    "def train(model, optimizer, dataset, log_freq=10):\n",
    "\n",
    "    \"\"\"Trains model on `dataset` using `optimizer`.\"\"\"\n",
    "    start = time.time()\n",
    "    # Metrics are stateful. They accumulate values and return a cumulative\n",
    "    # result when you call .result(). Clear accumulated values with .reset_states()\n",
    "    avg_loss = tf.keras.metrics.Mean('loss', dtype=tf.float32)\n",
    "    avg_accuracy = tf.keras.metrics.Mean('accuracy', dtype=tf.float32)\n",
    "    # Datasets can be iterated over like any other Python iterable.\n",
    "    for images, labels in dataset:\n",
    "        loss, accuracy = train_step(model, optimizer, images, labels)\n",
    "        avg_loss.update_state(loss) #\n",
    "        avg_loss(loss)\n",
    "        avg_accuracy(accuracy)\n",
    "        if tf.equal(optimizer.iterations % log_freq, 0):\n",
    "            tf.summary.scalar('loss', avg_loss.result(), step=optimizer.iterations)\n",
    "            tf.summary.scalar('accuracy', avg_accuracy.result(), step=optimizer.iterations)\n",
    "            avg_loss.reset_states()\n",
    "            avg_accuracy.reset_states()\n",
    "            rate = log_freq / (time.time() - start)\n",
    "            print('Step #%d\\tLoss: %.6f (%d steps/sec)' % (optimizer.iterations, loss, rate))\n",
    "            start = time.time()\n",
    "\n",
    "\n",
    "def test(model, dataset, step_num):\n",
    "    \"\"\"Perform an evaluation of `model` on the examples from `dataset`.\"\"\"\n",
    "    avg_loss = tf.keras.metrics.Mean('loss', dtype=tf.float32)\n",
    "    avg_accuracy = tf.keras.metrics.Mean('accuracy', dtype=tf.float32)\n",
    "\n",
    "    for (images, labels) in dataset:\n",
    "        logits = model(images, training=False)\n",
    "        avg_loss(compute_loss(logits, labels))\n",
    "        avg_accuracy(compute_accuracy(logits, labels))\n",
    "    print('Model test set loss: {:0.4f} accuracy: {:0.2f}%'.format(\n",
    "        avg_loss.result(), avg_accuracy.result() * 100))\n",
    "    tf.summary.scalar('loss', avg_loss.result(), step=step_num)\n",
    "    tf.summary.scalar('accuracy', avg_accuracy.result(), step=step_num)\n"
   ]
  },
  {
   "cell_type": "code",
   "execution_count": 9,
   "metadata": {},
   "outputs": [
    {
     "name": "stdout",
     "output_type": "stream",
     "text": [
      "Step #10\tLoss: 5.856485 (5 steps/sec)\nStep #20\tLoss: 3.922565 (62 steps/sec)\n"
     ]
    },
    {
     "name": "stdout",
     "output_type": "stream",
     "text": [
      "Step #30\tLoss: 3.815340 (60 steps/sec)\nStep #40\tLoss: 4.469736 (61 steps/sec)\n"
     ]
    },
    {
     "name": "stdout",
     "output_type": "stream",
     "text": [
      "Step #50\tLoss: 2.636707 (60 steps/sec)\nStep #60\tLoss: 2.421503 (62 steps/sec)\n"
     ]
    },
    {
     "name": "stdout",
     "output_type": "stream",
     "text": [
      "Step #70\tLoss: 2.265695 (61 steps/sec)\nStep #80\tLoss: 2.320066 (62 steps/sec)\n"
     ]
    },
    {
     "name": "stdout",
     "output_type": "stream",
     "text": [
      "Step #90\tLoss: 2.316339 (58 steps/sec)\nStep #100\tLoss: 2.479807 (59 steps/sec)\n"
     ]
    },
    {
     "name": "stdout",
     "output_type": "stream",
     "text": [
      "Step #110\tLoss: 2.307603 (60 steps/sec)\nStep #120\tLoss: 2.309491 (62 steps/sec)\n"
     ]
    },
    {
     "name": "stdout",
     "output_type": "stream",
     "text": [
      "Step #130\tLoss: 2.299224 (59 steps/sec)\nStep #140\tLoss: 2.438537 (62 steps/sec)\n"
     ]
    },
    {
     "name": "stdout",
     "output_type": "stream",
     "text": [
      "Step #150\tLoss: 2.311606 (59 steps/sec)\nStep #160\tLoss: 2.349885 (50 steps/sec)\n"
     ]
    },
    {
     "name": "stdout",
     "output_type": "stream",
     "text": [
      "Step #170\tLoss: 2.298428 (60 steps/sec)\n"
     ]
    },
    {
     "name": "stdout",
     "output_type": "stream",
     "text": [
      "Step #180\tLoss: 2.297641 (37 steps/sec)\n"
     ]
    },
    {
     "name": "stdout",
     "output_type": "stream",
     "text": [
      "Step #190\tLoss: 2.304823 (46 steps/sec)\nStep #200\tLoss: 2.456319 (50 steps/sec)\n"
     ]
    },
    {
     "name": "stdout",
     "output_type": "stream",
     "text": [
      "Step #210\tLoss: 2.284550 (51 steps/sec)\nStep #220\tLoss: 2.344688 (53 steps/sec)\n"
     ]
    },
    {
     "name": "stdout",
     "output_type": "stream",
     "text": [
      "Step #230\tLoss: 2.320680 (49 steps/sec)\nStep #240\tLoss: 2.296840 (61 steps/sec)\n"
     ]
    },
    {
     "name": "stdout",
     "output_type": "stream",
     "text": [
      "Step #250\tLoss: 2.303637 (61 steps/sec)\nStep #260\tLoss: 2.316387 (60 steps/sec)\n"
     ]
    },
    {
     "name": "stdout",
     "output_type": "stream",
     "text": [
      "Step #270\tLoss: 2.305165 (61 steps/sec)\nStep #280\tLoss: 2.303137 (62 steps/sec)\n"
     ]
    },
    {
     "name": "stdout",
     "output_type": "stream",
     "text": [
      "Step #290\tLoss: 2.308042 (56 steps/sec)\nStep #300\tLoss: 2.294959 (56 steps/sec)\n"
     ]
    },
    {
     "name": "stdout",
     "output_type": "stream",
     "text": [
      "Step #310\tLoss: 2.310703 (60 steps/sec)\nStep #320\tLoss: 2.309644 (61 steps/sec)\n"
     ]
    },
    {
     "name": "stdout",
     "output_type": "stream",
     "text": [
      "Step #330\tLoss: 2.285279 (61 steps/sec)\nStep #340\tLoss: 2.287995 (62 steps/sec)\n"
     ]
    },
    {
     "name": "stdout",
     "output_type": "stream",
     "text": [
      "Step #350\tLoss: 2.289398 (61 steps/sec)\nStep #360\tLoss: 2.302442 (62 steps/sec)\n"
     ]
    },
    {
     "name": "stdout",
     "output_type": "stream",
     "text": [
      "Step #370\tLoss: 2.299378 (56 steps/sec)\nStep #380\tLoss: 2.284511 (58 steps/sec)\n"
     ]
    },
    {
     "name": "stdout",
     "output_type": "stream",
     "text": [
      "Step #390\tLoss: 2.279860 (60 steps/sec)\nStep #400\tLoss: 2.300466 (59 steps/sec)\n"
     ]
    },
    {
     "name": "stdout",
     "output_type": "stream",
     "text": [
      "Step #410\tLoss: 2.292597 (59 steps/sec)\nStep #420\tLoss: 2.284180 (53 steps/sec)\n"
     ]
    },
    {
     "name": "stdout",
     "output_type": "stream",
     "text": [
      "Step #430\tLoss: 2.272156 (57 steps/sec)\nStep #440\tLoss: 2.271044 (62 steps/sec)\n"
     ]
    },
    {
     "name": "stdout",
     "output_type": "stream",
     "text": [
      "Step #450\tLoss: 2.310977 (60 steps/sec)\nStep #460\tLoss: 2.266132 (63 steps/sec)\n"
     ]
    },
    {
     "name": "stdout",
     "output_type": "stream",
     "text": [
      "Step #470\tLoss: 2.267526 (61 steps/sec)\nStep #480\tLoss: 2.267692 (62 steps/sec)\n"
     ]
    },
    {
     "name": "stdout",
     "output_type": "stream",
     "text": [
      "Step #490\tLoss: 2.262700 (61 steps/sec)\nStep #500\tLoss: 2.266371 (61 steps/sec)\n"
     ]
    },
    {
     "name": "stdout",
     "output_type": "stream",
     "text": [
      "Step #510\tLoss: 2.286563 (56 steps/sec)\nStep #520\tLoss: 2.315441 (61 steps/sec)\n"
     ]
    },
    {
     "name": "stdout",
     "output_type": "stream",
     "text": [
      "Step #530\tLoss: 2.262698 (56 steps/sec)\nStep #540\tLoss: 2.261061 (62 steps/sec)\n"
     ]
    },
    {
     "name": "stdout",
     "output_type": "stream",
     "text": [
      "Step #550\tLoss: 2.263377 (61 steps/sec)\nStep #560\tLoss: 2.252961 (61 steps/sec)\n"
     ]
    },
    {
     "name": "stdout",
     "output_type": "stream",
     "text": [
      "Step #570\tLoss: 2.258171 (61 steps/sec)\nStep #580\tLoss: 2.212961 (61 steps/sec)\n"
     ]
    },
    {
     "name": "stdout",
     "output_type": "stream",
     "text": [
      "Step #590\tLoss: 2.263379 (61 steps/sec)\nStep #600\tLoss: 2.238737 (62 steps/sec)\n\nTrain time for epoch #1 (<tf.Variable 'iter:0' shape=() dtype=int64, numpy=600> total steps): 11.740727424621582\n"
     ]
    },
    {
     "name": "stdout",
     "output_type": "stream",
     "text": [
      "Model test set loss: 2.2239 accuracy: 6.00%\n"
     ]
    },
    {
     "name": "stdout",
     "output_type": "stream",
     "text": [
      "Step #610\tLoss: 2.280394 (18 steps/sec)\nStep #620\tLoss: 2.274814 (62 steps/sec)\n"
     ]
    },
    {
     "name": "stdout",
     "output_type": "stream",
     "text": [
      "Step #630\tLoss: 2.281293 (60 steps/sec)\nStep #640\tLoss: 2.268119 (60 steps/sec)\n"
     ]
    },
    {
     "name": "stdout",
     "output_type": "stream",
     "text": [
      "Step #650\tLoss: 2.274280 (60 steps/sec)\nStep #660\tLoss: 2.235934 (62 steps/sec)\n"
     ]
    },
    {
     "name": "stdout",
     "output_type": "stream",
     "text": [
      "Step #670\tLoss: 2.264748 (60 steps/sec)\nStep #680\tLoss: 2.282430 (62 steps/sec)\n"
     ]
    },
    {
     "name": "stdout",
     "output_type": "stream",
     "text": [
      "Step #690\tLoss: 2.284778 (59 steps/sec)\nStep #700\tLoss: 2.270220 (62 steps/sec)\n"
     ]
    },
    {
     "name": "stdout",
     "output_type": "stream",
     "text": [
      "Step #710\tLoss: 2.214031 (60 steps/sec)\nStep #720\tLoss: 2.248174 (62 steps/sec)\n"
     ]
    },
    {
     "name": "stdout",
     "output_type": "stream",
     "text": [
      "Step #730\tLoss: 2.253397 (61 steps/sec)\nStep #740\tLoss: 2.289207 (62 steps/sec)\n"
     ]
    },
    {
     "name": "stdout",
     "output_type": "stream",
     "text": [
      "Step #750\tLoss: 2.282368 (60 steps/sec)\nStep #760\tLoss: 2.267545 (62 steps/sec)\n"
     ]
    },
    {
     "name": "stdout",
     "output_type": "stream",
     "text": [
      "Step #770\tLoss: 2.247453 (59 steps/sec)\nStep #780\tLoss: 2.263826 (61 steps/sec)\n"
     ]
    },
    {
     "name": "stdout",
     "output_type": "stream",
     "text": [
      "Step #790\tLoss: 2.279449 (61 steps/sec)\nStep #800\tLoss: 2.304233 (61 steps/sec)\n"
     ]
    },
    {
     "name": "stdout",
     "output_type": "stream",
     "text": [
      "Step #810\tLoss: 2.264429 (60 steps/sec)\nStep #820\tLoss: 2.283865 (63 steps/sec)\n"
     ]
    },
    {
     "name": "stdout",
     "output_type": "stream",
     "text": [
      "Step #830\tLoss: 2.273183 (61 steps/sec)\nStep #840\tLoss: 2.271207 (62 steps/sec)\n"
     ]
    },
    {
     "name": "stdout",
     "output_type": "stream",
     "text": [
      "Step #850\tLoss: 2.246196 (59 steps/sec)\nStep #860\tLoss: 2.251561 (63 steps/sec)\n"
     ]
    },
    {
     "name": "stdout",
     "output_type": "stream",
     "text": [
      "Step #870\tLoss: 2.242735 (60 steps/sec)\nStep #880\tLoss: 2.240398 (62 steps/sec)\n"
     ]
    },
    {
     "name": "stdout",
     "output_type": "stream",
     "text": [
      "Step #890\tLoss: 2.243175 (58 steps/sec)\nStep #900\tLoss: 2.227882 (63 steps/sec)\n"
     ]
    },
    {
     "name": "stdout",
     "output_type": "stream",
     "text": [
      "Step #910\tLoss: 2.241029 (60 steps/sec)\nStep #920\tLoss: 2.214156 (63 steps/sec)\n"
     ]
    },
    {
     "name": "stdout",
     "output_type": "stream",
     "text": [
      "Step #930\tLoss: 2.255654 (60 steps/sec)\nStep #940\tLoss: 2.265444 (62 steps/sec)\n"
     ]
    },
    {
     "name": "stdout",
     "output_type": "stream",
     "text": [
      "Step #950\tLoss: 2.241821 (60 steps/sec)\nStep #960\tLoss: 2.227712 (62 steps/sec)\n"
     ]
    },
    {
     "name": "stdout",
     "output_type": "stream",
     "text": [
      "Step #970\tLoss: 2.218015 (61 steps/sec)\nStep #980\tLoss: 2.280403 (63 steps/sec)\n"
     ]
    },
    {
     "name": "stdout",
     "output_type": "stream",
     "text": [
      "Step #990\tLoss: 2.218307 (61 steps/sec)\nStep #1000\tLoss: 2.255302 (63 steps/sec)\n"
     ]
    },
    {
     "name": "stdout",
     "output_type": "stream",
     "text": [
      "Step #1010\tLoss: 2.237094 (59 steps/sec)\nStep #1020\tLoss: 2.259851 (62 steps/sec)\n"
     ]
    },
    {
     "name": "stdout",
     "output_type": "stream",
     "text": [
      "Step #1030\tLoss: 2.226943 (61 steps/sec)\nStep #1040\tLoss: 2.222027 (62 steps/sec)\n"
     ]
    },
    {
     "name": "stdout",
     "output_type": "stream",
     "text": [
      "Step #1050\tLoss: 2.248913 (59 steps/sec)\nStep #1060\tLoss: 2.211307 (62 steps/sec)\n"
     ]
    },
    {
     "name": "stdout",
     "output_type": "stream",
     "text": [
      "Step #1070\tLoss: 2.331267 (59 steps/sec)\nStep #1080\tLoss: 2.222152 (62 steps/sec)\n"
     ]
    },
    {
     "name": "stdout",
     "output_type": "stream",
     "text": [
      "Step #1090\tLoss: 2.165718 (60 steps/sec)\nStep #1100\tLoss: 2.231402 (61 steps/sec)\n"
     ]
    },
    {
     "name": "stdout",
     "output_type": "stream",
     "text": [
      "Step #1110\tLoss: 2.204699 (61 steps/sec)\nStep #1120\tLoss: 2.238610 (62 steps/sec)\n"
     ]
    },
    {
     "name": "stdout",
     "output_type": "stream",
     "text": [
      "Step #1130\tLoss: 2.260386 (61 steps/sec)\nStep #1140\tLoss: 2.198831 (62 steps/sec)\n"
     ]
    },
    {
     "name": "stdout",
     "output_type": "stream",
     "text": [
      "Step #1150\tLoss: 2.198437 (59 steps/sec)\nStep #1160\tLoss: 2.218923 (62 steps/sec)\n"
     ]
    },
    {
     "name": "stdout",
     "output_type": "stream",
     "text": [
      "Step #1170\tLoss: 2.192769 (60 steps/sec)\nStep #1180\tLoss: 2.185762 (61 steps/sec)\n"
     ]
    },
    {
     "name": "stdout",
     "output_type": "stream",
     "text": [
      "Step #1190\tLoss: 2.204174 (59 steps/sec)\nStep #1200\tLoss: 2.224585 (63 steps/sec)\n\nTrain time for epoch #2 (<tf.Variable 'iter:0' shape=() dtype=int64, numpy=1200> total steps): 10.163500785827637\n"
     ]
    },
    {
     "name": "stdout",
     "output_type": "stream",
     "text": [
      "Model test set loss: 2.2310 accuracy: 5.28%\n"
     ]
    },
    {
     "name": "stdout",
     "output_type": "stream",
     "text": [
      "Step #1210\tLoss: 2.206578 (18 steps/sec)\nStep #1220\tLoss: 2.158788 (63 steps/sec)\n"
     ]
    },
    {
     "name": "stdout",
     "output_type": "stream",
     "text": [
      "Step #1230\tLoss: 2.185512 (60 steps/sec)\nStep #1240\tLoss: 2.195860 (62 steps/sec)\n"
     ]
    },
    {
     "name": "stdout",
     "output_type": "stream",
     "text": [
      "Step #1250\tLoss: 2.188924 (60 steps/sec)\nStep #1260\tLoss: 2.291534 (62 steps/sec)\n"
     ]
    },
    {
     "name": "stdout",
     "output_type": "stream",
     "text": [
      "Step #1270\tLoss: 2.153279 (59 steps/sec)\nStep #1280\tLoss: 2.130147 (63 steps/sec)\n"
     ]
    },
    {
     "name": "stdout",
     "output_type": "stream",
     "text": [
      "Step #1290\tLoss: 2.205616 (61 steps/sec)\nStep #1300\tLoss: 2.103042 (63 steps/sec)\n"
     ]
    },
    {
     "name": "stdout",
     "output_type": "stream",
     "text": [
      "Step #1310\tLoss: 2.142567 (61 steps/sec)\nStep #1320\tLoss: 2.130660 (62 steps/sec)\n"
     ]
    },
    {
     "name": "stdout",
     "output_type": "stream",
     "text": [
      "Step #1330\tLoss: 2.144097 (60 steps/sec)\nStep #1340\tLoss: 2.161626 (62 steps/sec)\n"
     ]
    },
    {
     "name": "stdout",
     "output_type": "stream",
     "text": [
      "Step #1350\tLoss: 2.085743 (60 steps/sec)\nStep #1360\tLoss: 2.089820 (62 steps/sec)\n"
     ]
    },
    {
     "name": "stdout",
     "output_type": "stream",
     "text": [
      "Step #1370\tLoss: 2.163037 (59 steps/sec)\nStep #1380\tLoss: 2.373014 (62 steps/sec)\n"
     ]
    },
    {
     "name": "stdout",
     "output_type": "stream",
     "text": [
      "Step #1390\tLoss: 4.406868 (59 steps/sec)\nStep #1400\tLoss: 3.972693 (61 steps/sec)\n"
     ]
    },
    {
     "name": "stdout",
     "output_type": "stream",
     "text": [
      "Step #1410\tLoss: 3.035172 (59 steps/sec)\nStep #1420\tLoss: 3.802556 (63 steps/sec)\n"
     ]
    },
    {
     "name": "stdout",
     "output_type": "stream",
     "text": [
      "Step #1430\tLoss: 3.822118 (61 steps/sec)\nStep #1440\tLoss: 3.010198 (63 steps/sec)\n"
     ]
    },
    {
     "name": "stdout",
     "output_type": "stream",
     "text": [
      "Step #1450\tLoss: 3.647191 (60 steps/sec)\nStep #1460\tLoss: 2.741185 (62 steps/sec)\n"
     ]
    },
    {
     "name": "stdout",
     "output_type": "stream",
     "text": [
      "Step #1470\tLoss: 2.438059 (59 steps/sec)\nStep #1480\tLoss: 2.299483 (62 steps/sec)\n"
     ]
    },
    {
     "name": "stdout",
     "output_type": "stream",
     "text": [
      "Step #1490\tLoss: 2.598636 (61 steps/sec)\nStep #1500\tLoss: 2.442649 (63 steps/sec)\n"
     ]
    },
    {
     "name": "stdout",
     "output_type": "stream",
     "text": [
      "Step #1510\tLoss: 2.452558 (59 steps/sec)\nStep #1520\tLoss: 2.614524 (61 steps/sec)\n"
     ]
    },
    {
     "name": "stdout",
     "output_type": "stream",
     "text": [
      "Step #1530\tLoss: 2.925748 (60 steps/sec)\nStep #1540\tLoss: 2.574532 (62 steps/sec)\n"
     ]
    },
    {
     "name": "stdout",
     "output_type": "stream",
     "text": [
      "Step #1550\tLoss: 2.752323 (59 steps/sec)\nStep #1560\tLoss: 2.300942 (62 steps/sec)\n"
     ]
    },
    {
     "name": "stdout",
     "output_type": "stream",
     "text": [
      "Step #1570\tLoss: 2.473152 (60 steps/sec)\nStep #1580\tLoss: 2.294158 (62 steps/sec)\n"
     ]
    },
    {
     "name": "stdout",
     "output_type": "stream",
     "text": [
      "Step #1590\tLoss: 2.296016 (60 steps/sec)\nStep #1600\tLoss: 2.467027 (61 steps/sec)\n"
     ]
    },
    {
     "name": "stdout",
     "output_type": "stream",
     "text": [
      "Step #1610\tLoss: 2.448198 (60 steps/sec)\nStep #1620\tLoss: 2.452311 (62 steps/sec)\n"
     ]
    },
    {
     "name": "stdout",
     "output_type": "stream",
     "text": [
      "Step #1630\tLoss: 2.329995 (60 steps/sec)\nStep #1640\tLoss: 2.290530 (61 steps/sec)\n"
     ]
    },
    {
     "name": "stdout",
     "output_type": "stream",
     "text": [
      "Step #1650\tLoss: 2.453786 (60 steps/sec)\nStep #1660\tLoss: 2.300324 (62 steps/sec)\n"
     ]
    },
    {
     "name": "stdout",
     "output_type": "stream",
     "text": [
      "Step #1670\tLoss: 2.296181 (61 steps/sec)\nStep #1680\tLoss: 2.297734 (63 steps/sec)\n"
     ]
    },
    {
     "name": "stdout",
     "output_type": "stream",
     "text": [
      "Step #1690\tLoss: 2.299087 (59 steps/sec)\nStep #1700\tLoss: 2.302552 (61 steps/sec)\n"
     ]
    },
    {
     "name": "stdout",
     "output_type": "stream",
     "text": [
      "Step #1710\tLoss: 2.300042 (61 steps/sec)\nStep #1720\tLoss: 2.309865 (62 steps/sec)\n"
     ]
    },
    {
     "name": "stdout",
     "output_type": "stream",
     "text": [
      "Step #1730\tLoss: 2.300976 (61 steps/sec)\nStep #1740\tLoss: 2.293707 (62 steps/sec)\n"
     ]
    },
    {
     "name": "stdout",
     "output_type": "stream",
     "text": [
      "Step #1750\tLoss: 2.288823 (59 steps/sec)\nStep #1760\tLoss: 2.459730 (62 steps/sec)\n"
     ]
    },
    {
     "name": "stdout",
     "output_type": "stream",
     "text": [
      "Step #1770\tLoss: 2.290272 (59 steps/sec)\nStep #1780\tLoss: 2.303077 (62 steps/sec)\n"
     ]
    },
    {
     "name": "stdout",
     "output_type": "stream",
     "text": [
      "Step #1790\tLoss: 2.301902 (60 steps/sec)\nStep #1800\tLoss: 2.299495 (63 steps/sec)\n\nTrain time for epoch #3 (<tf.Variable 'iter:0' shape=() dtype=int64, numpy=1800> total steps): 10.153306484222412\n"
     ]
    },
    {
     "name": "stdout",
     "output_type": "stream",
     "text": [
      "Model test set loss: 2.3026 accuracy: 3.02%\n"
     ]
    },
    {
     "name": "stdout",
     "output_type": "stream",
     "text": [
      "Step #1810\tLoss: 2.293290 (18 steps/sec)\nStep #1820\tLoss: 2.295658 (63 steps/sec)\n"
     ]
    },
    {
     "name": "stdout",
     "output_type": "stream",
     "text": [
      "Step #1830\tLoss: 2.293823 (60 steps/sec)\nStep #1840\tLoss: 2.298558 (63 steps/sec)\n"
     ]
    },
    {
     "name": "stdout",
     "output_type": "stream",
     "text": [
      "Step #1850\tLoss: 2.300993 (59 steps/sec)\nStep #1860\tLoss: 2.299621 (62 steps/sec)\n"
     ]
    },
    {
     "name": "stdout",
     "output_type": "stream",
     "text": [
      "Step #1870\tLoss: 2.305051 (61 steps/sec)\nStep #1880\tLoss: 2.296682 (63 steps/sec)\n"
     ]
    },
    {
     "name": "stdout",
     "output_type": "stream",
     "text": [
      "Step #1890\tLoss: 2.301507 (61 steps/sec)\nStep #1900\tLoss: 2.301416 (63 steps/sec)\n"
     ]
    },
    {
     "name": "stdout",
     "output_type": "stream",
     "text": [
      "Step #1910\tLoss: 2.316728 (60 steps/sec)\nStep #1920\tLoss: 2.288637 (64 steps/sec)\n"
     ]
    },
    {
     "name": "stdout",
     "output_type": "stream",
     "text": [
      "Step #1930\tLoss: 2.305130 (60 steps/sec)\nStep #1940\tLoss: 2.292632 (64 steps/sec)\n"
     ]
    },
    {
     "name": "stdout",
     "output_type": "stream",
     "text": [
      "Step #1950\tLoss: 2.291522 (60 steps/sec)\nStep #1960\tLoss: 2.305901 (63 steps/sec)\n"
     ]
    },
    {
     "name": "stdout",
     "output_type": "stream",
     "text": [
      "Step #1970\tLoss: 2.303437 (59 steps/sec)\nStep #1980\tLoss: 2.293591 (63 steps/sec)\n"
     ]
    },
    {
     "name": "stdout",
     "output_type": "stream",
     "text": [
      "Step #1990\tLoss: 2.299207 (60 steps/sec)\nStep #2000\tLoss: 2.300965 (62 steps/sec)\n"
     ]
    },
    {
     "name": "stdout",
     "output_type": "stream",
     "text": [
      "Step #2010\tLoss: 2.292503 (60 steps/sec)\nStep #2020\tLoss: 2.285531 (64 steps/sec)\n"
     ]
    },
    {
     "name": "stdout",
     "output_type": "stream",
     "text": [
      "Step #2030\tLoss: 2.296302 (59 steps/sec)\nStep #2040\tLoss: 2.298944 (62 steps/sec)\n"
     ]
    },
    {
     "name": "stdout",
     "output_type": "stream",
     "text": [
      "Step #2050\tLoss: 2.288964 (61 steps/sec)\nStep #2060\tLoss: 2.298178 (64 steps/sec)\n"
     ]
    },
    {
     "name": "stdout",
     "output_type": "stream",
     "text": [
      "Step #2070\tLoss: 2.297162 (60 steps/sec)\nStep #2080\tLoss: 2.305640 (63 steps/sec)\n"
     ]
    },
    {
     "name": "stdout",
     "output_type": "stream",
     "text": [
      "Step #2090\tLoss: 2.298685 (60 steps/sec)\nStep #2100\tLoss: 2.315524 (63 steps/sec)\n"
     ]
    },
    {
     "name": "stdout",
     "output_type": "stream",
     "text": [
      "Step #2110\tLoss: 2.296437 (61 steps/sec)\nStep #2120\tLoss: 2.307768 (61 steps/sec)\n"
     ]
    },
    {
     "name": "stdout",
     "output_type": "stream",
     "text": [
      "Step #2130\tLoss: 2.293961 (60 steps/sec)\nStep #2140\tLoss: 2.304626 (61 steps/sec)\n"
     ]
    },
    {
     "name": "stdout",
     "output_type": "stream",
     "text": [
      "Step #2150\tLoss: 2.293342 (59 steps/sec)\nStep #2160\tLoss: 2.303713 (61 steps/sec)\n"
     ]
    },
    {
     "name": "stdout",
     "output_type": "stream",
     "text": [
      "Step #2170\tLoss: 2.285711 (60 steps/sec)\nStep #2180\tLoss: 2.306075 (62 steps/sec)\n"
     ]
    },
    {
     "name": "stdout",
     "output_type": "stream",
     "text": [
      "Step #2190\tLoss: 2.289996 (59 steps/sec)\nStep #2200\tLoss: 2.328839 (61 steps/sec)\n"
     ]
    },
    {
     "name": "stdout",
     "output_type": "stream",
     "text": [
      "Step #2210\tLoss: 2.298206 (60 steps/sec)\nStep #2220\tLoss: 2.296174 (61 steps/sec)\n"
     ]
    },
    {
     "name": "stdout",
     "output_type": "stream",
     "text": [
      "Step #2230\tLoss: 2.295854 (60 steps/sec)\nStep #2240\tLoss: 2.293300 (62 steps/sec)\n"
     ]
    },
    {
     "name": "stdout",
     "output_type": "stream",
     "text": [
      "Step #2250\tLoss: 2.294532 (60 steps/sec)\nStep #2260\tLoss: 2.297209 (62 steps/sec)\n"
     ]
    },
    {
     "name": "stdout",
     "output_type": "stream",
     "text": [
      "Step #2270\tLoss: 2.296659 (58 steps/sec)\nStep #2280\tLoss: 2.297483 (61 steps/sec)\n"
     ]
    },
    {
     "name": "stdout",
     "output_type": "stream",
     "text": [
      "Step #2290\tLoss: 2.296988 (55 steps/sec)\nStep #2300\tLoss: 2.295071 (60 steps/sec)\n"
     ]
    },
    {
     "name": "stdout",
     "output_type": "stream",
     "text": [
      "Step #2310\tLoss: 2.300472 (60 steps/sec)\nStep #2320\tLoss: 2.305043 (61 steps/sec)\n"
     ]
    },
    {
     "name": "stdout",
     "output_type": "stream",
     "text": [
      "Step #2330\tLoss: 2.284517 (59 steps/sec)\nStep #2340\tLoss: 2.285038 (62 steps/sec)\n"
     ]
    },
    {
     "name": "stdout",
     "output_type": "stream",
     "text": [
      "Step #2350\tLoss: 2.300518 (59 steps/sec)\nStep #2360\tLoss: 2.289777 (63 steps/sec)\n"
     ]
    },
    {
     "name": "stdout",
     "output_type": "stream",
     "text": [
      "Step #2370\tLoss: 2.297587 (60 steps/sec)\nStep #2380\tLoss: 2.293300 (63 steps/sec)\n"
     ]
    },
    {
     "name": "stdout",
     "output_type": "stream",
     "text": [
      "Step #2390\tLoss: 2.319064 (60 steps/sec)\nStep #2400\tLoss: 2.285469 (61 steps/sec)\n\nTrain time for epoch #4 (<tf.Variable 'iter:0' shape=() dtype=int64, numpy=2400> total steps): 10.161819458007812\n"
     ]
    },
    {
     "name": "stdout",
     "output_type": "stream",
     "text": [
      "Model test set loss: 2.3026 accuracy: 3.03%\n"
     ]
    },
    {
     "name": "stdout",
     "output_type": "stream",
     "text": [
      "Step #2410\tLoss: 2.293743 (18 steps/sec)\nStep #2420\tLoss: 2.299278 (62 steps/sec)\n"
     ]
    },
    {
     "name": "stdout",
     "output_type": "stream",
     "text": [
      "Step #2430\tLoss: 2.299594 (60 steps/sec)\nStep #2440\tLoss: 2.297665 (63 steps/sec)\n"
     ]
    },
    {
     "name": "stdout",
     "output_type": "stream",
     "text": [
      "Step #2450\tLoss: 2.297634 (61 steps/sec)\nStep #2460\tLoss: 2.293806 (62 steps/sec)\n"
     ]
    },
    {
     "name": "stdout",
     "output_type": "stream",
     "text": [
      "Step #2470\tLoss: 2.298250 (58 steps/sec)\nStep #2480\tLoss: 2.290411 (62 steps/sec)\n"
     ]
    },
    {
     "name": "stdout",
     "output_type": "stream",
     "text": [
      "Step #2490\tLoss: 2.299941 (59 steps/sec)\nStep #2500\tLoss: 2.296838 (61 steps/sec)\n"
     ]
    },
    {
     "name": "stdout",
     "output_type": "stream",
     "text": [
      "Step #2510\tLoss: 2.299432 (59 steps/sec)\nStep #2520\tLoss: 2.298254 (62 steps/sec)\n"
     ]
    },
    {
     "name": "stdout",
     "output_type": "stream",
     "text": [
      "Step #2530\tLoss: 2.294449 (60 steps/sec)\nStep #2540\tLoss: 2.296071 (62 steps/sec)\n"
     ]
    },
    {
     "name": "stdout",
     "output_type": "stream",
     "text": [
      "Step #2550\tLoss: 2.281019 (59 steps/sec)\nStep #2560\tLoss: 2.286288 (62 steps/sec)\n"
     ]
    },
    {
     "name": "stdout",
     "output_type": "stream",
     "text": [
      "Step #2570\tLoss: 2.300462 (59 steps/sec)\nStep #2580\tLoss: 2.298598 (62 steps/sec)\n"
     ]
    },
    {
     "name": "stdout",
     "output_type": "stream",
     "text": [
      "Step #2590\tLoss: 2.284107 (60 steps/sec)\nStep #2600\tLoss: 2.307421 (62 steps/sec)\n"
     ]
    },
    {
     "name": "stdout",
     "output_type": "stream",
     "text": [
      "Step #2610\tLoss: 2.297086 (59 steps/sec)\nStep #2620\tLoss: 2.301591 (63 steps/sec)\n"
     ]
    },
    {
     "name": "stdout",
     "output_type": "stream",
     "text": [
      "Step #2630\tLoss: 2.294255 (59 steps/sec)\nStep #2640\tLoss: 2.289464 (63 steps/sec)\n"
     ]
    },
    {
     "name": "stdout",
     "output_type": "stream",
     "text": [
      "Step #2650\tLoss: 2.296523 (59 steps/sec)\nStep #2660\tLoss: 2.292700 (62 steps/sec)\n"
     ]
    },
    {
     "name": "stdout",
     "output_type": "stream",
     "text": [
      "Step #2670\tLoss: 2.299613 (60 steps/sec)\nStep #2680\tLoss: 2.289382 (62 steps/sec)\n"
     ]
    },
    {
     "name": "stdout",
     "output_type": "stream",
     "text": [
      "Step #2690\tLoss: 2.304537 (60 steps/sec)\nStep #2700\tLoss: 2.297995 (62 steps/sec)\n"
     ]
    },
    {
     "name": "stdout",
     "output_type": "stream",
     "text": [
      "Step #2710\tLoss: 2.296005 (60 steps/sec)\nStep #2720\tLoss: 2.295671 (61 steps/sec)\n"
     ]
    },
    {
     "name": "stdout",
     "output_type": "stream",
     "text": [
      "Step #2730\tLoss: 2.304856 (59 steps/sec)\nStep #2740\tLoss: 2.298708 (62 steps/sec)\n"
     ]
    },
    {
     "name": "stdout",
     "output_type": "stream",
     "text": [
      "Step #2750\tLoss: 2.302263 (58 steps/sec)\nStep #2760\tLoss: 2.293247 (62 steps/sec)\n"
     ]
    },
    {
     "name": "stdout",
     "output_type": "stream",
     "text": [
      "Step #2770\tLoss: 2.289858 (59 steps/sec)\nStep #2780\tLoss: 2.302659 (60 steps/sec)\n"
     ]
    },
    {
     "name": "stdout",
     "output_type": "stream",
     "text": [
      "Step #2790\tLoss: 2.293250 (58 steps/sec)\nStep #2800\tLoss: 2.299011 (61 steps/sec)\n"
     ]
    },
    {
     "name": "stdout",
     "output_type": "stream",
     "text": [
      "Step #2810\tLoss: 2.296670 (59 steps/sec)\nStep #2820\tLoss: 2.314367 (62 steps/sec)\n"
     ]
    },
    {
     "name": "stdout",
     "output_type": "stream",
     "text": [
      "Step #2830\tLoss: 2.287364 (59 steps/sec)\nStep #2840\tLoss: 2.295436 (62 steps/sec)\n"
     ]
    },
    {
     "name": "stdout",
     "output_type": "stream",
     "text": [
      "Step #2850\tLoss: 2.295237 (58 steps/sec)\nStep #2860\tLoss: 2.292190 (62 steps/sec)\n"
     ]
    },
    {
     "name": "stdout",
     "output_type": "stream",
     "text": [
      "Step #2870\tLoss: 2.290823 (60 steps/sec)\nStep #2880\tLoss: 2.289543 (63 steps/sec)\n"
     ]
    },
    {
     "name": "stdout",
     "output_type": "stream",
     "text": [
      "Step #2890\tLoss: 2.291321 (58 steps/sec)\nStep #2900\tLoss: 2.303058 (61 steps/sec)\n"
     ]
    },
    {
     "name": "stdout",
     "output_type": "stream",
     "text": [
      "Step #2910\tLoss: 2.292723 (59 steps/sec)\nStep #2920\tLoss: 2.295786 (62 steps/sec)\n"
     ]
    },
    {
     "name": "stdout",
     "output_type": "stream",
     "text": [
      "Step #2930\tLoss: 2.298689 (59 steps/sec)\nStep #2940\tLoss: 2.293736 (62 steps/sec)\n"
     ]
    },
    {
     "name": "stdout",
     "output_type": "stream",
     "text": [
      "Step #2950\tLoss: 2.285311 (58 steps/sec)\nStep #2960\tLoss: 2.292963 (62 steps/sec)\n"
     ]
    },
    {
     "name": "stdout",
     "output_type": "stream",
     "text": [
      "Step #2970\tLoss: 2.285270 (59 steps/sec)\nStep #2980\tLoss: 2.297681 (63 steps/sec)\n"
     ]
    },
    {
     "name": "stdout",
     "output_type": "stream",
     "text": [
      "Step #2990\tLoss: 2.292130 (60 steps/sec)\nStep #3000\tLoss: 2.291575 (62 steps/sec)\n\nTrain time for epoch #5 (<tf.Variable 'iter:0' shape=() dtype=int64, numpy=3000> total steps): 10.207914590835571\n"
     ]
    },
    {
     "name": "stdout",
     "output_type": "stream",
     "text": [
      "Model test set loss: 2.3026 accuracy: 3.08%\n"
     ]
    },
    {
     "name": "stdout",
     "output_type": "stream",
     "text": [
      "Step #3010\tLoss: 2.298524 (17 steps/sec)\nStep #3020\tLoss: 2.294575 (54 steps/sec)\n"
     ]
    },
    {
     "name": "stdout",
     "output_type": "stream",
     "text": [
      "Step #3030\tLoss: 2.301204 (52 steps/sec)\nStep #3040\tLoss: 2.289488 (62 steps/sec)\n"
     ]
    },
    {
     "name": "stdout",
     "output_type": "stream",
     "text": [
      "Step #3050\tLoss: 2.300186 (60 steps/sec)\nStep #3060\tLoss: 2.289733 (62 steps/sec)\n"
     ]
    },
    {
     "name": "stdout",
     "output_type": "stream",
     "text": [
      "Step #3070\tLoss: 2.310185 (59 steps/sec)\nStep #3080\tLoss: 2.282083 (62 steps/sec)\n"
     ]
    },
    {
     "name": "stdout",
     "output_type": "stream",
     "text": [
      "Step #3090\tLoss: 2.280926 (59 steps/sec)\nStep #3100\tLoss: 2.302380 (62 steps/sec)\n"
     ]
    },
    {
     "name": "stdout",
     "output_type": "stream",
     "text": [
      "Step #3110\tLoss: 2.287650 (59 steps/sec)\nStep #3120\tLoss: 2.300539 (62 steps/sec)\n"
     ]
    },
    {
     "name": "stdout",
     "output_type": "stream",
     "text": [
      "Step #3130\tLoss: 2.288318 (57 steps/sec)\nStep #3140\tLoss: 2.296440 (62 steps/sec)\n"
     ]
    },
    {
     "name": "stdout",
     "output_type": "stream",
     "text": [
      "Step #3150\tLoss: 2.305368 (59 steps/sec)\nStep #3160\tLoss: 2.277070 (62 steps/sec)\n"
     ]
    },
    {
     "name": "stdout",
     "output_type": "stream",
     "text": [
      "Step #3170\tLoss: 2.289908 (59 steps/sec)\nStep #3180\tLoss: 2.305656 (61 steps/sec)\n"
     ]
    },
    {
     "name": "stdout",
     "output_type": "stream",
     "text": [
      "Step #3190\tLoss: 2.284856 (60 steps/sec)\nStep #3200\tLoss: 2.294819 (63 steps/sec)\n"
     ]
    },
    {
     "name": "stdout",
     "output_type": "stream",
     "text": [
      "Step #3210\tLoss: 2.305235 (59 steps/sec)\nStep #3220\tLoss: 2.286560 (63 steps/sec)\n"
     ]
    },
    {
     "name": "stdout",
     "output_type": "stream",
     "text": [
      "Step #3230\tLoss: 2.291934 (59 steps/sec)\nStep #3240\tLoss: 2.275826 (61 steps/sec)\n"
     ]
    },
    {
     "name": "stdout",
     "output_type": "stream",
     "text": [
      "Step #3250\tLoss: 2.316317 (58 steps/sec)\nStep #3260\tLoss: 2.298918 (63 steps/sec)\n"
     ]
    },
    {
     "name": "stdout",
     "output_type": "stream",
     "text": [
      "Step #3270\tLoss: 2.287815 (60 steps/sec)\nStep #3280\tLoss: 2.298460 (62 steps/sec)\n"
     ]
    },
    {
     "name": "stdout",
     "output_type": "stream",
     "text": [
      "Step #3290\tLoss: 2.286779 (57 steps/sec)\nStep #3300\tLoss: 2.320369 (62 steps/sec)\n"
     ]
    },
    {
     "name": "stdout",
     "output_type": "stream",
     "text": [
      "Step #3310\tLoss: 2.293067 (59 steps/sec)\nStep #3320\tLoss: 2.290588 (62 steps/sec)\n"
     ]
    },
    {
     "name": "stdout",
     "output_type": "stream",
     "text": [
      "Step #3330\tLoss: 2.290851 (58 steps/sec)\nStep #3340\tLoss: 2.292324 (63 steps/sec)\n"
     ]
    },
    {
     "name": "stdout",
     "output_type": "stream",
     "text": [
      "Step #3350\tLoss: 2.288607 (58 steps/sec)\nStep #3360\tLoss: 2.289733 (62 steps/sec)\n"
     ]
    },
    {
     "name": "stdout",
     "output_type": "stream",
     "text": [
      "Step #3370\tLoss: 2.294055 (59 steps/sec)\nStep #3380\tLoss: 2.270587 (62 steps/sec)\n"
     ]
    },
    {
     "name": "stdout",
     "output_type": "stream",
     "text": [
      "Step #3390\tLoss: 2.301327 (59 steps/sec)\nStep #3400\tLoss: 2.286421 (61 steps/sec)\n"
     ]
    },
    {
     "name": "stdout",
     "output_type": "stream",
     "text": [
      "Step #3410\tLoss: 2.295143 (59 steps/sec)\nStep #3420\tLoss: 2.294675 (63 steps/sec)\n"
     ]
    },
    {
     "name": "stdout",
     "output_type": "stream",
     "text": [
      "Step #3430\tLoss: 2.296942 (59 steps/sec)\nStep #3440\tLoss: 2.285841 (63 steps/sec)\n"
     ]
    },
    {
     "name": "stdout",
     "output_type": "stream",
     "text": [
      "Step #3450\tLoss: 2.279955 (60 steps/sec)\nStep #3460\tLoss: 2.286692 (60 steps/sec)\n"
     ]
    },
    {
     "name": "stdout",
     "output_type": "stream",
     "text": [
      "Step #3470\tLoss: 2.295457 (57 steps/sec)\nStep #3480\tLoss: 2.291409 (62 steps/sec)\n"
     ]
    },
    {
     "name": "stdout",
     "output_type": "stream",
     "text": [
      "Step #3490\tLoss: 2.290575 (59 steps/sec)\nStep #3500\tLoss: 2.284331 (63 steps/sec)\n"
     ]
    },
    {
     "name": "stdout",
     "output_type": "stream",
     "text": [
      "Step #3510\tLoss: 2.291841 (58 steps/sec)\nStep #3520\tLoss: 2.300870 (61 steps/sec)\n"
     ]
    },
    {
     "name": "stdout",
     "output_type": "stream",
     "text": [
      "Step #3530\tLoss: 2.293959 (58 steps/sec)\nStep #3540\tLoss: 2.289925 (62 steps/sec)\n"
     ]
    },
    {
     "name": "stdout",
     "output_type": "stream",
     "text": [
      "Step #3550\tLoss: 2.288842 (59 steps/sec)\nStep #3560\tLoss: 2.298480 (63 steps/sec)\n"
     ]
    },
    {
     "name": "stdout",
     "output_type": "stream",
     "text": [
      "Step #3570\tLoss: 2.281154 (59 steps/sec)\nStep #3580\tLoss: 2.306452 (62 steps/sec)\n"
     ]
    },
    {
     "name": "stdout",
     "output_type": "stream",
     "text": [
      "Step #3590\tLoss: 2.281710 (59 steps/sec)\nStep #3600\tLoss: 2.282895 (64 steps/sec)\n\nTrain time for epoch #6 (<tf.Variable 'iter:0' shape=() dtype=int64, numpy=3600> total steps): 10.325063943862915\n"
     ]
    },
    {
     "name": "stdout",
     "output_type": "stream",
     "text": [
      "Model test set loss: 2.3026 accuracy: 3.19%\n"
     ]
    },
    {
     "name": "stdout",
     "output_type": "stream",
     "text": [
      "Step #3610\tLoss: 2.315722 (17 steps/sec)\nStep #3620\tLoss: 2.277133 (63 steps/sec)\n"
     ]
    },
    {
     "name": "stdout",
     "output_type": "stream",
     "text": [
      "Step #3630\tLoss: 2.273204 (59 steps/sec)\nStep #3640\tLoss: 2.286930 (62 steps/sec)\n"
     ]
    },
    {
     "name": "stdout",
     "output_type": "stream",
     "text": [
      "Step #3650\tLoss: 2.294641 (59 steps/sec)\nStep #3660\tLoss: 2.318483 (62 steps/sec)\n"
     ]
    },
    {
     "name": "stdout",
     "output_type": "stream",
     "text": [
      "Step #3670\tLoss: 2.292203 (59 steps/sec)\nStep #3680\tLoss: 2.287049 (64 steps/sec)\n"
     ]
    },
    {
     "name": "stdout",
     "output_type": "stream",
     "text": [
      "Step #3690\tLoss: 2.287616 (59 steps/sec)\nStep #3700\tLoss: 2.298868 (62 steps/sec)\n"
     ]
    },
    {
     "name": "stdout",
     "output_type": "stream",
     "text": [
      "Step #3710\tLoss: 2.288189 (59 steps/sec)\nStep #3720\tLoss: 2.301908 (62 steps/sec)\n"
     ]
    },
    {
     "name": "stdout",
     "output_type": "stream",
     "text": [
      "Step #3730\tLoss: 2.299770 (59 steps/sec)\nStep #3740\tLoss: 2.267818 (62 steps/sec)\n"
     ]
    },
    {
     "name": "stdout",
     "output_type": "stream",
     "text": [
      "Step #3750\tLoss: 2.280949 (59 steps/sec)\nStep #3760\tLoss: 2.290044 (62 steps/sec)\n"
     ]
    },
    {
     "name": "stdout",
     "output_type": "stream",
     "text": [
      "Step #3770\tLoss: 2.285279 (59 steps/sec)\nStep #3780\tLoss: 2.282128 (62 steps/sec)\n"
     ]
    },
    {
     "name": "stdout",
     "output_type": "stream",
     "text": [
      "Step #3790\tLoss: 2.285331 (57 steps/sec)\nStep #3800\tLoss: 2.282966 (64 steps/sec)\n"
     ]
    },
    {
     "name": "stdout",
     "output_type": "stream",
     "text": [
      "Step #3810\tLoss: 2.295707 (60 steps/sec)\nStep #3820\tLoss: 2.288857 (64 steps/sec)\n"
     ]
    },
    {
     "name": "stdout",
     "output_type": "stream",
     "text": [
      "Step #3830\tLoss: 2.293416 (59 steps/sec)\nStep #3840\tLoss: 2.281471 (64 steps/sec)\n"
     ]
    },
    {
     "name": "stdout",
     "output_type": "stream",
     "text": [
      "Step #3850\tLoss: 2.290117 (58 steps/sec)\nStep #3860\tLoss: 2.276586 (63 steps/sec)\n"
     ]
    },
    {
     "name": "stdout",
     "output_type": "stream",
     "text": [
      "Step #3870\tLoss: 2.293076 (59 steps/sec)\nStep #3880\tLoss: 2.282603 (62 steps/sec)\n"
     ]
    },
    {
     "name": "stdout",
     "output_type": "stream",
     "text": [
      "Step #3890\tLoss: 2.296879 (59 steps/sec)\nStep #3900\tLoss: 2.283507 (63 steps/sec)\n"
     ]
    },
    {
     "name": "stdout",
     "output_type": "stream",
     "text": [
      "Step #3910\tLoss: 2.278483 (59 steps/sec)\nStep #3920\tLoss: 2.270684 (63 steps/sec)\n"
     ]
    },
    {
     "name": "stdout",
     "output_type": "stream",
     "text": [
      "Step #3930\tLoss: 2.278212 (58 steps/sec)\nStep #3940\tLoss: 2.278025 (62 steps/sec)\n"
     ]
    },
    {
     "name": "stdout",
     "output_type": "stream",
     "text": [
      "Step #3950\tLoss: 2.279529 (60 steps/sec)\nStep #3960\tLoss: 2.261813 (62 steps/sec)\n"
     ]
    },
    {
     "name": "stdout",
     "output_type": "stream",
     "text": [
      "Step #3970\tLoss: 2.282501 (57 steps/sec)\nStep #3980\tLoss: 2.271601 (62 steps/sec)\n"
     ]
    },
    {
     "name": "stdout",
     "output_type": "stream",
     "text": [
      "Step #3990\tLoss: 2.247688 (59 steps/sec)\nStep #4000\tLoss: 2.256288 (62 steps/sec)\n"
     ]
    },
    {
     "name": "stdout",
     "output_type": "stream",
     "text": [
      "Step #4010\tLoss: 2.272829 (57 steps/sec)\nStep #4020\tLoss: 2.243871 (62 steps/sec)\n"
     ]
    },
    {
     "name": "stdout",
     "output_type": "stream",
     "text": [
      "Step #4030\tLoss: 2.204652 (59 steps/sec)\nStep #4040\tLoss: 2.264836 (61 steps/sec)\n"
     ]
    },
    {
     "name": "stdout",
     "output_type": "stream",
     "text": [
      "Step #4050\tLoss: 2.258139 (58 steps/sec)\nStep #4060\tLoss: 2.239815 (62 steps/sec)\n"
     ]
    },
    {
     "name": "stdout",
     "output_type": "stream",
     "text": [
      "Step #4070\tLoss: 2.250069 (58 steps/sec)\nStep #4080\tLoss: 2.219624 (63 steps/sec)\n"
     ]
    },
    {
     "name": "stdout",
     "output_type": "stream",
     "text": [
      "Step #4090\tLoss: 2.195652 (59 steps/sec)\nStep #4100\tLoss: 2.191721 (54 steps/sec)\n"
     ]
    },
    {
     "name": "stdout",
     "output_type": "stream",
     "text": [
      "Step #4110\tLoss: 2.255559 (59 steps/sec)\nStep #4120\tLoss: 2.205963 (63 steps/sec)\n"
     ]
    },
    {
     "name": "stdout",
     "output_type": "stream",
     "text": [
      "Step #4130\tLoss: 2.219985 (56 steps/sec)\nStep #4140\tLoss: 2.165117 (61 steps/sec)\n"
     ]
    },
    {
     "name": "stdout",
     "output_type": "stream",
     "text": [
      "Step #4150\tLoss: 2.110889 (58 steps/sec)\nStep #4160\tLoss: 2.138607 (62 steps/sec)\n"
     ]
    },
    {
     "name": "stdout",
     "output_type": "stream",
     "text": [
      "Step #4170\tLoss: 2.140926 (59 steps/sec)\nStep #4180\tLoss: 2.114324 (63 steps/sec)\n"
     ]
    },
    {
     "name": "stdout",
     "output_type": "stream",
     "text": [
      "Step #4190\tLoss: 2.130846 (58 steps/sec)\nStep #4200\tLoss: 2.043112 (62 steps/sec)\n\nTrain time for epoch #7 (<tf.Variable 'iter:0' shape=() dtype=int64, numpy=4200> total steps): 10.277834415435791\n"
     ]
    },
    {
     "name": "stdout",
     "output_type": "stream",
     "text": [
      "Model test set loss: 2.0679 accuracy: 7.30%\n"
     ]
    },
    {
     "name": "stdout",
     "output_type": "stream",
     "text": [
      "Step #4210\tLoss: 2.110515 (18 steps/sec)\nStep #4220\tLoss: 2.168418 (62 steps/sec)\n"
     ]
    },
    {
     "name": "stdout",
     "output_type": "stream",
     "text": [
      "Step #4230\tLoss: 1.999907 (59 steps/sec)\nStep #4240\tLoss: 2.009968 (63 steps/sec)\n"
     ]
    },
    {
     "name": "stdout",
     "output_type": "stream",
     "text": [
      "Step #4250\tLoss: 1.946796 (58 steps/sec)\nStep #4260\tLoss: 2.082023 (63 steps/sec)\n"
     ]
    },
    {
     "name": "stdout",
     "output_type": "stream",
     "text": [
      "Step #4270\tLoss: 1.949946 (60 steps/sec)\nStep #4280\tLoss: 1.935690 (63 steps/sec)\n"
     ]
    },
    {
     "name": "stdout",
     "output_type": "stream",
     "text": [
      "Step #4290\tLoss: 2.106507 (60 steps/sec)\nStep #4300\tLoss: 1.822961 (61 steps/sec)\n"
     ]
    },
    {
     "name": "stdout",
     "output_type": "stream",
     "text": [
      "Step #4310\tLoss: 2.079972 (60 steps/sec)\nStep #4320\tLoss: 1.772637 (62 steps/sec)\n"
     ]
    },
    {
     "name": "stdout",
     "output_type": "stream",
     "text": [
      "Step #4330\tLoss: 1.894050 (59 steps/sec)\nStep #4340\tLoss: 1.881900 (63 steps/sec)\n"
     ]
    },
    {
     "name": "stdout",
     "output_type": "stream",
     "text": [
      "Step #4350\tLoss: 1.997388 (59 steps/sec)\nStep #4360\tLoss: 1.863774 (63 steps/sec)\n"
     ]
    },
    {
     "name": "stdout",
     "output_type": "stream",
     "text": [
      "Step #4370\tLoss: 1.741688 (60 steps/sec)\nStep #4380\tLoss: 2.003810 (62 steps/sec)\n"
     ]
    },
    {
     "name": "stdout",
     "output_type": "stream",
     "text": [
      "Step #4390\tLoss: 1.726317 (58 steps/sec)\nStep #4400\tLoss: 1.710308 (63 steps/sec)\n"
     ]
    },
    {
     "name": "stdout",
     "output_type": "stream",
     "text": [
      "Step #4410\tLoss: 2.055223 (59 steps/sec)\nStep #4420\tLoss: 1.791230 (62 steps/sec)\n"
     ]
    },
    {
     "name": "stdout",
     "output_type": "stream",
     "text": [
      "Step #4430\tLoss: 1.707825 (59 steps/sec)\nStep #4440\tLoss: 1.827412 (63 steps/sec)\n"
     ]
    },
    {
     "name": "stdout",
     "output_type": "stream",
     "text": [
      "Step #4450\tLoss: 1.695361 (58 steps/sec)\nStep #4460\tLoss: 1.604715 (63 steps/sec)\n"
     ]
    },
    {
     "name": "stdout",
     "output_type": "stream",
     "text": [
      "Step #4470\tLoss: 2.227531 (59 steps/sec)\nStep #4480\tLoss: 1.581748 (61 steps/sec)\n"
     ]
    },
    {
     "name": "stdout",
     "output_type": "stream",
     "text": [
      "Step #4490\tLoss: 2.070449 (59 steps/sec)\nStep #4500\tLoss: 1.740724 (62 steps/sec)\n"
     ]
    },
    {
     "name": "stdout",
     "output_type": "stream",
     "text": [
      "Step #4510\tLoss: 1.601538 (57 steps/sec)\nStep #4520\tLoss: 1.630361 (62 steps/sec)\n"
     ]
    },
    {
     "name": "stdout",
     "output_type": "stream",
     "text": [
      "Step #4530\tLoss: 1.862852 (59 steps/sec)\nStep #4540\tLoss: 1.756686 (62 steps/sec)\n"
     ]
    },
    {
     "name": "stdout",
     "output_type": "stream",
     "text": [
      "Step #4550\tLoss: 2.253508 (59 steps/sec)\nStep #4560\tLoss: 2.268654 (63 steps/sec)\n"
     ]
    },
    {
     "name": "stdout",
     "output_type": "stream",
     "text": [
      "Step #4570\tLoss: 2.050004 (58 steps/sec)\nStep #4580\tLoss: 2.155689 (63 steps/sec)\n"
     ]
    },
    {
     "name": "stdout",
     "output_type": "stream",
     "text": [
      "Step #4590\tLoss: 1.669910 (57 steps/sec)\nStep #4600\tLoss: 1.651140 (62 steps/sec)\n"
     ]
    },
    {
     "name": "stdout",
     "output_type": "stream",
     "text": [
      "Step #4610\tLoss: 1.801243 (59 steps/sec)\nStep #4620\tLoss: 2.857096 (63 steps/sec)\n"
     ]
    },
    {
     "name": "stdout",
     "output_type": "stream",
     "text": [
      "Step #4630\tLoss: 2.482269 (57 steps/sec)\nStep #4640\tLoss: 2.293194 (62 steps/sec)\n"
     ]
    },
    {
     "name": "stdout",
     "output_type": "stream",
     "text": [
      "Step #4650\tLoss: 2.618028 (58 steps/sec)\nStep #4660\tLoss: 2.568677 (61 steps/sec)\n"
     ]
    },
    {
     "name": "stdout",
     "output_type": "stream",
     "text": [
      "Step #4670\tLoss: 2.449631 (57 steps/sec)\nStep #4680\tLoss: 2.468964 (62 steps/sec)\n"
     ]
    },
    {
     "name": "stdout",
     "output_type": "stream",
     "text": [
      "Step #4690\tLoss: 1.892462 (58 steps/sec)\nStep #4700\tLoss: 2.334213 (62 steps/sec)\n"
     ]
    },
    {
     "name": "stdout",
     "output_type": "stream",
     "text": [
      "Step #4710\tLoss: 1.965706 (59 steps/sec)\nStep #4720\tLoss: 1.637936 (62 steps/sec)\n"
     ]
    },
    {
     "name": "stdout",
     "output_type": "stream",
     "text": [
      "Step #4730\tLoss: 2.033409 (59 steps/sec)\nStep #4740\tLoss: 1.661632 (63 steps/sec)\n"
     ]
    },
    {
     "name": "stdout",
     "output_type": "stream",
     "text": [
      "Step #4750\tLoss: 1.546794 (58 steps/sec)\nStep #4760\tLoss: 1.793893 (63 steps/sec)\n"
     ]
    },
    {
     "name": "stdout",
     "output_type": "stream",
     "text": [
      "Step #4770\tLoss: 1.987470 (58 steps/sec)\nStep #4780\tLoss: 1.671118 (62 steps/sec)\n"
     ]
    },
    {
     "name": "stdout",
     "output_type": "stream",
     "text": [
      "Step #4790\tLoss: 1.778049 (59 steps/sec)\nStep #4800\tLoss: 1.501353 (62 steps/sec)\n\nTrain time for epoch #8 (<tf.Variable 'iter:0' shape=() dtype=int64, numpy=4800> total steps): 10.227805852890015\n"
     ]
    },
    {
     "name": "stdout",
     "output_type": "stream",
     "text": [
      "Model test set loss: 1.4216 accuracy: 8.85%\n"
     ]
    },
    {
     "name": "stdout",
     "output_type": "stream",
     "text": [
      "Step #4810\tLoss: 1.498076 (18 steps/sec)\nStep #4820\tLoss: 1.919629 (63 steps/sec)\n"
     ]
    },
    {
     "name": "stdout",
     "output_type": "stream",
     "text": [
      "Step #4830\tLoss: 1.945727 (59 steps/sec)\nStep #4840\tLoss: 2.038240 (62 steps/sec)\n"
     ]
    },
    {
     "name": "stdout",
     "output_type": "stream",
     "text": [
      "Step #4850\tLoss: 1.663368 (58 steps/sec)\nStep #4860\tLoss: 2.133146 (61 steps/sec)\n"
     ]
    },
    {
     "name": "stdout",
     "output_type": "stream",
     "text": [
      "Step #4870\tLoss: 1.718401 (59 steps/sec)\nStep #4880\tLoss: 1.913466 (63 steps/sec)\n"
     ]
    },
    {
     "name": "stdout",
     "output_type": "stream",
     "text": [
      "Step #4890\tLoss: 2.095012 (57 steps/sec)\nStep #4900\tLoss: 2.526614 (62 steps/sec)\n"
     ]
    },
    {
     "name": "stdout",
     "output_type": "stream",
     "text": [
      "Step #4910\tLoss: 2.057240 (58 steps/sec)\nStep #4920\tLoss: 2.340144 (61 steps/sec)\n"
     ]
    },
    {
     "name": "stdout",
     "output_type": "stream",
     "text": [
      "Step #4930\tLoss: 2.502369 (59 steps/sec)\nStep #4940\tLoss: 1.949926 (62 steps/sec)\n"
     ]
    },
    {
     "name": "stdout",
     "output_type": "stream",
     "text": [
      "Step #4950\tLoss: 1.900741 (60 steps/sec)\nStep #4960\tLoss: 2.070344 (64 steps/sec)\n"
     ]
    },
    {
     "name": "stdout",
     "output_type": "stream",
     "text": [
      "Step #4970\tLoss: 1.674223 (58 steps/sec)\nStep #4980\tLoss: 1.875691 (61 steps/sec)\n"
     ]
    },
    {
     "name": "stdout",
     "output_type": "stream",
     "text": [
      "Step #4990\tLoss: 1.806180 (60 steps/sec)\nStep #5000\tLoss: 4.510695 (63 steps/sec)\n"
     ]
    },
    {
     "name": "stdout",
     "output_type": "stream",
     "text": [
      "Step #5010\tLoss: 5.404928 (59 steps/sec)\nStep #5020\tLoss: 3.559721 (61 steps/sec)\n"
     ]
    },
    {
     "name": "stdout",
     "output_type": "stream",
     "text": [
      "Step #5030\tLoss: 3.405870 (58 steps/sec)\nStep #5040\tLoss: 4.254586 (62 steps/sec)\n"
     ]
    },
    {
     "name": "stdout",
     "output_type": "stream",
     "text": [
      "Step #5050\tLoss: 2.024063 (59 steps/sec)\nStep #5060\tLoss: 2.500128 (62 steps/sec)\n"
     ]
    },
    {
     "name": "stdout",
     "output_type": "stream",
     "text": [
      "Step #5070\tLoss: 2.474314 (58 steps/sec)\nStep #5080\tLoss: 2.253502 (62 steps/sec)\n"
     ]
    },
    {
     "name": "stdout",
     "output_type": "stream",
     "text": [
      "Step #5090\tLoss: 2.218605 (59 steps/sec)\nStep #5100\tLoss: 2.182080 (62 steps/sec)\n"
     ]
    },
    {
     "name": "stdout",
     "output_type": "stream",
     "text": [
      "Step #5110\tLoss: 2.055732 (57 steps/sec)\nStep #5120\tLoss: 1.876293 (62 steps/sec)\n"
     ]
    },
    {
     "name": "stdout",
     "output_type": "stream",
     "text": [
      "Step #5130\tLoss: 2.044343 (58 steps/sec)\nStep #5140\tLoss: 2.165626 (62 steps/sec)\n"
     ]
    },
    {
     "name": "stdout",
     "output_type": "stream",
     "text": [
      "Step #5150\tLoss: 1.871123 (59 steps/sec)\nStep #5160\tLoss: 2.042434 (63 steps/sec)\n"
     ]
    },
    {
     "name": "stdout",
     "output_type": "stream",
     "text": [
      "Step #5170\tLoss: 2.016708 (58 steps/sec)\nStep #5180\tLoss: 2.442348 (62 steps/sec)\n"
     ]
    },
    {
     "name": "stdout",
     "output_type": "stream",
     "text": [
      "Step #5190\tLoss: 2.322097 (57 steps/sec)\nStep #5200\tLoss: 2.075009 (62 steps/sec)\n"
     ]
    },
    {
     "name": "stdout",
     "output_type": "stream",
     "text": [
      "Step #5210\tLoss: 2.495028 (58 steps/sec)\nStep #5220\tLoss: 2.244993 (62 steps/sec)\n"
     ]
    },
    {
     "name": "stdout",
     "output_type": "stream",
     "text": [
      "Step #5230\tLoss: 2.400711 (59 steps/sec)\nStep #5240\tLoss: 2.019079 (62 steps/sec)\n"
     ]
    },
    {
     "name": "stdout",
     "output_type": "stream",
     "text": [
      "Step #5250\tLoss: 2.213559 (57 steps/sec)\nStep #5260\tLoss: 2.234719 (64 steps/sec)\n"
     ]
    },
    {
     "name": "stdout",
     "output_type": "stream",
     "text": [
      "Step #5270\tLoss: 2.172575 (58 steps/sec)\nStep #5280\tLoss: 2.142238 (62 steps/sec)\n"
     ]
    },
    {
     "name": "stdout",
     "output_type": "stream",
     "text": [
      "Step #5290\tLoss: 2.463721 (58 steps/sec)\nStep #5300\tLoss: 2.108993 (62 steps/sec)\n"
     ]
    },
    {
     "name": "stdout",
     "output_type": "stream",
     "text": [
      "Step #5310\tLoss: 2.195622 (59 steps/sec)\nStep #5320\tLoss: 1.979552 (62 steps/sec)\n"
     ]
    },
    {
     "name": "stdout",
     "output_type": "stream",
     "text": [
      "Step #5330\tLoss: 1.997564 (58 steps/sec)\nStep #5340\tLoss: 2.146025 (62 steps/sec)\n"
     ]
    },
    {
     "name": "stdout",
     "output_type": "stream",
     "text": [
      "Step #5350\tLoss: 1.983695 (58 steps/sec)\nStep #5360\tLoss: 2.287910 (63 steps/sec)\n"
     ]
    },
    {
     "name": "stdout",
     "output_type": "stream",
     "text": [
      "Step #5370\tLoss: 2.419264 (58 steps/sec)\nStep #5380\tLoss: 1.992889 (63 steps/sec)\n"
     ]
    },
    {
     "name": "stdout",
     "output_type": "stream",
     "text": [
      "Step #5390\tLoss: 2.123771 (58 steps/sec)\nStep #5400\tLoss: 2.134730 (62 steps/sec)\n\nTrain time for epoch #9 (<tf.Variable 'iter:0' shape=() dtype=int64, numpy=5400> total steps): 10.2669677734375\n"
     ]
    },
    {
     "name": "stdout",
     "output_type": "stream",
     "text": [
      "Model test set loss: 1.9997 accuracy: 10.49%\n"
     ]
    },
    {
     "name": "stdout",
     "output_type": "stream",
     "text": [
      "Step #5410\tLoss: 2.270367 (18 steps/sec)\nStep #5420\tLoss: 1.930564 (63 steps/sec)\n"
     ]
    },
    {
     "name": "stdout",
     "output_type": "stream",
     "text": [
      "Step #5430\tLoss: 1.972745 (57 steps/sec)\nStep #5440\tLoss: 1.888737 (63 steps/sec)\n"
     ]
    },
    {
     "name": "stdout",
     "output_type": "stream",
     "text": [
      "Step #5450\tLoss: 1.908799 (60 steps/sec)\nStep #5460\tLoss: 2.008686 (63 steps/sec)\n"
     ]
    },
    {
     "name": "stdout",
     "output_type": "stream",
     "text": [
      "Step #5470\tLoss: 2.300743 (58 steps/sec)\nStep #5480\tLoss: 1.989154 (62 steps/sec)\n"
     ]
    },
    {
     "name": "stdout",
     "output_type": "stream",
     "text": [
      "Step #5490\tLoss: 1.909939 (57 steps/sec)\nStep #5500\tLoss: 1.877865 (63 steps/sec)\n"
     ]
    },
    {
     "name": "stdout",
     "output_type": "stream",
     "text": [
      "Step #5510\tLoss: 2.033934 (58 steps/sec)\nStep #5520\tLoss: 1.871679 (62 steps/sec)\n"
     ]
    },
    {
     "name": "stdout",
     "output_type": "stream",
     "text": [
      "Step #5530\tLoss: 2.068515 (59 steps/sec)\nStep #5540\tLoss: 2.050280 (62 steps/sec)\n"
     ]
    },
    {
     "name": "stdout",
     "output_type": "stream",
     "text": [
      "Step #5550\tLoss: 2.084780 (58 steps/sec)\nStep #5560\tLoss: 1.858672 (64 steps/sec)\n"
     ]
    },
    {
     "name": "stdout",
     "output_type": "stream",
     "text": [
      "Step #5570\tLoss: 1.807837 (58 steps/sec)\nStep #5580\tLoss: 1.915344 (62 steps/sec)\n"
     ]
    },
    {
     "name": "stdout",
     "output_type": "stream",
     "text": [
      "Step #5590\tLoss: 2.032655 (57 steps/sec)\nStep #5600\tLoss: 4.586468 (62 steps/sec)\n"
     ]
    },
    {
     "name": "stdout",
     "output_type": "stream",
     "text": [
      "Step #5610\tLoss: 2.393905 (57 steps/sec)\nStep #5620\tLoss: 2.436882 (63 steps/sec)\n"
     ]
    },
    {
     "name": "stdout",
     "output_type": "stream",
     "text": [
      "Step #5630\tLoss: 2.400759 (60 steps/sec)\nStep #5640\tLoss: 2.299753 (64 steps/sec)\n"
     ]
    },
    {
     "name": "stdout",
     "output_type": "stream",
     "text": [
      "Step #5650\tLoss: 2.318349 (58 steps/sec)\nStep #5660\tLoss: 2.276862 (62 steps/sec)\n"
     ]
    },
    {
     "name": "stdout",
     "output_type": "stream",
     "text": [
      "Step #5670\tLoss: 2.315708 (58 steps/sec)\nStep #5680\tLoss: 2.345997 (61 steps/sec)\n"
     ]
    },
    {
     "name": "stdout",
     "output_type": "stream",
     "text": [
      "Step #5690\tLoss: 2.392696 (57 steps/sec)\nStep #5700\tLoss: 2.411598 (62 steps/sec)\n"
     ]
    },
    {
     "name": "stdout",
     "output_type": "stream",
     "text": [
      "Step #5710\tLoss: 2.337496 (58 steps/sec)\nStep #5720\tLoss: 2.357414 (63 steps/sec)\n"
     ]
    },
    {
     "name": "stdout",
     "output_type": "stream",
     "text": [
      "Step #5730\tLoss: 2.335492 (59 steps/sec)\nStep #5740\tLoss: 2.333491 (63 steps/sec)\n"
     ]
    },
    {
     "name": "stdout",
     "output_type": "stream",
     "text": [
      "Step #5750\tLoss: 2.361508 (59 steps/sec)\nStep #5760\tLoss: 2.371681 (63 steps/sec)\n"
     ]
    },
    {
     "name": "stdout",
     "output_type": "stream",
     "text": [
      "Step #5770\tLoss: 2.329743 (58 steps/sec)\nStep #5780\tLoss: 2.294544 (62 steps/sec)\n"
     ]
    },
    {
     "name": "stdout",
     "output_type": "stream",
     "text": [
      "Step #5790\tLoss: 2.324091 (57 steps/sec)\nStep #5800\tLoss: 2.327045 (62 steps/sec)\n"
     ]
    },
    {
     "name": "stdout",
     "output_type": "stream",
     "text": [
      "Step #5810\tLoss: 2.305867 (58 steps/sec)\nStep #5820\tLoss: 2.296640 (62 steps/sec)\n"
     ]
    },
    {
     "name": "stdout",
     "output_type": "stream",
     "text": [
      "Step #5830\tLoss: 2.329052 (58 steps/sec)\nStep #5840\tLoss: 2.311789 (62 steps/sec)\n"
     ]
    },
    {
     "name": "stdout",
     "output_type": "stream",
     "text": [
      "Step #5850\tLoss: 2.363767 (58 steps/sec)\nStep #5860\tLoss: 2.313207 (63 steps/sec)\n"
     ]
    },
    {
     "name": "stdout",
     "output_type": "stream",
     "text": [
      "Step #5870\tLoss: 2.335633 (58 steps/sec)\nStep #5880\tLoss: 2.312955 (63 steps/sec)\n"
     ]
    },
    {
     "name": "stdout",
     "output_type": "stream",
     "text": [
      "Step #5890\tLoss: 2.303750 (57 steps/sec)\nStep #5900\tLoss: 2.342286 (62 steps/sec)\n"
     ]
    },
    {
     "name": "stdout",
     "output_type": "stream",
     "text": [
      "Step #5910\tLoss: 2.355028 (57 steps/sec)\nStep #5920\tLoss: 2.320599 (63 steps/sec)\n"
     ]
    },
    {
     "name": "stdout",
     "output_type": "stream",
     "text": [
      "Step #5930\tLoss: 2.336907 (58 steps/sec)\nStep #5940\tLoss: 2.316281 (63 steps/sec)\n"
     ]
    },
    {
     "name": "stdout",
     "output_type": "stream",
     "text": [
      "Step #5950\tLoss: 2.301933 (57 steps/sec)\nStep #5960\tLoss: 2.327808 (62 steps/sec)\n"
     ]
    },
    {
     "name": "stdout",
     "output_type": "stream",
     "text": [
      "Step #5970\tLoss: 2.336436 (57 steps/sec)\nStep #5980\tLoss: 2.334354 (62 steps/sec)\n"
     ]
    },
    {
     "name": "stdout",
     "output_type": "stream",
     "text": [
      "Step #5990\tLoss: 2.326093 (58 steps/sec)\nStep #6000\tLoss: 2.303030 (63 steps/sec)\n\nTrain time for epoch #10 (<tf.Variable 'iter:0' shape=() dtype=int64, numpy=6000> total steps): 10.276298761367798\n"
     ]
    },
    {
     "name": "stdout",
     "output_type": "stream",
     "text": [
      "Model test set loss: 2.3146 accuracy: 15.00%\n"
     ]
    }
   ],
   "source": [
    "\n",
    "model = create_model()\n",
    "\n",
    "optimizer = tf.keras.optimizers.SGD(learning_rate=0.01, momentum=0.5)\n",
    "\n",
    "train_ds, test_ds = mnist_datasets()\n",
    "train_ds = train_ds.shuffle(60000).batch(100)\n",
    "test_ds = test_ds.batch(100)\n",
    "\n",
    "train_summary_writer = tf.summary.create_file_writer('/tmp/summaries/train')\n",
    "test_summary_writer = tf.summary.create_file_writer('/tmp/summaries/test')\n",
    "\n",
    "for epoch in range(10):\n",
    "  start = time.time()\n",
    "  with train_summary_writer.as_default():\n",
    "    train(model, optimizer, train_ds)\n",
    "  end = time.time()\n",
    "  print('\\nTrain time for epoch #{} ({} total steps): {}'.format(epoch + 1, optimizer.iterations, end - start))\n",
    "  with test_summary_writer.as_default():\n",
    "    test(model, test_ds, optimizer.iterations)"
   ]
  },
  {
   "cell_type": "code",
   "execution_count": null,
   "metadata": {},
   "outputs": [],
   "source": []
  }
 ],
 "metadata": {
  "kernelspec": {
   "display_name": "Python 3",
   "language": "python",
   "name": "python3"
  },
  "language_info": {
   "codemirror_mode": {
    "name": "ipython",
    "version": 3
   },
   "file_extension": ".py",
   "mimetype": "text/x-python",
   "name": "python",
   "nbconvert_exporter": "python",
   "pygments_lexer": "ipython3",
   "version": "3.5.2"
  }
 },
 "nbformat": 4,
 "nbformat_minor": 1
}
