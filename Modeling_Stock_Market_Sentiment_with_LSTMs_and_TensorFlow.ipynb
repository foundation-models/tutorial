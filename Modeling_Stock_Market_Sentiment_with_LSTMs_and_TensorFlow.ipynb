{
  "nbformat": 4,
  "nbformat_minor": 0,
  "metadata": {
    "colab": {
      "name": "Modeling Stock Market Sentiment with LSTMs and TensorFlow.ipynb",
      "version": "0.3.2",
      "provenance": [],
      "toc_visible": true,
      "include_colab_link": true
    },
    "kernelspec": {
      "name": "python3",
      "display_name": "Python 3"
    },
    "accelerator": "GPU"
  },
  "cells": [
    {
      "cell_type": "markdown",
      "metadata": {
        "id": "view-in-github",
        "colab_type": "text"
      },
      "source": [
        "<a href=\"https://colab.research.google.com/github/hossein20s/tutorial/blob/master/Modeling_Stock_Market_Sentiment_with_LSTMs_and_TensorFlow.ipynb\" target=\"_parent\"><img src=\"https://colab.research.google.com/assets/colab-badge.svg\" alt=\"Open In Colab\"/></a>"
      ]
    },
    {
      "metadata": {
        "id": "SdzYBRDtx6PJ",
        "colab_type": "code",
        "outputId": "1bbcc2bc-b235-4a37-e200-d6e8dd1bd46f",
        "colab": {
          "base_uri": "https://localhost:8080/",
          "height": 34
        }
      },
      "cell_type": "code",
      "source": [
        "import tensorflow as tf\n",
        "\n",
        "print(tf.__version__)\n"
      ],
      "execution_count": 19,
      "outputs": [
        {
          "output_type": "stream",
          "text": [
            "1.13.1\n"
          ],
          "name": "stdout"
        }
      ]
    },
    {
      "metadata": {
        "id": "LSRGul3SusXz",
        "colab_type": "code",
        "colab": {
          "base_uri": "https://localhost:8080/",
          "height": 34
        },
        "outputId": "598d3727-7ef8-4ed4-d7ce-ef35cd677fe2"
      },
      "cell_type": "code",
      "source": [
        "import sys\n",
        "\n",
        "from google.colab import drive\n",
        "drive.mount('/content/gdrive')\n",
        "\n",
        "sys.path.append('/content/gdrive/My Drive/python-lib')"
      ],
      "execution_count": 11,
      "outputs": [
        {
          "output_type": "stream",
          "text": [
            "Drive already mounted at /content/gdrive; to attempt to forcibly remount, call drive.mount(\"/content/gdrive\", force_remount=True).\n"
          ],
          "name": "stdout"
        }
      ]
    },
    {
      "metadata": {
        "id": "ypo-lioMySqP",
        "colab_type": "code",
        "outputId": "c53c66d1-25c5-4f2d-ddc3-1c121ab60a99",
        "colab": {
          "base_uri": "https://localhost:8080/",
          "height": 207
        }
      },
      "cell_type": "code",
      "source": [
        "\n",
        "import pandas as pd\n",
        "\n",
        "data = pd.read_csv(\"https://github.com/GarrettHoffman/lstm-oreilly/raw/master/data/StockTwits_SPY_Sentiment_2017.gz\",\n",
        "                   encoding=\"utf-8\",\n",
        "                   compression=\"gzip\",\n",
        "                   index_col=0)\n",
        "\n",
        "# get messages and sentiment labels\n",
        "messages = data.message.values\n",
        "labels = data.sentiment.values\n",
        "\n",
        "# View sample of messages with sentiment\n",
        "\n",
        "for i in range(10):\n",
        "    print(\"Messages: {}...\".format(messages[i]),\n",
        "          \"Sentiment: {}\".format(labels[i]))"
      ],
      "execution_count": 4,
      "outputs": [
        {
          "output_type": "stream",
          "text": [
            "Messages: $SPY crazy day so far!... Sentiment: bearish\n",
            "Messages: $SPY Will make a new ATH this week. Watch it!... Sentiment: bullish\n",
            "Messages: $SPY $DJIA white elephant in room is $AAPL. Up 14% since election. Strong headwinds w/Trump trade & Strong dollar. How many 7's do you see?... Sentiment: bearish\n",
            "Messages: $SPY blocks above. We break above them We should push to double top... Sentiment: bullish\n",
            "Messages: $SPY Nothing happening in the market today, guess I'll go to the store and spend some $.... Sentiment: bearish\n",
            "Messages: $SPY What an easy call. Good jobs report: good economy, markets go up.  Bad jobs report: no more rate hikes, markets go up.  Win-win.... Sentiment: bullish\n",
            "Messages: $SPY BS market.... Sentiment: bullish\n",
            "Messages: $SPY this rally all the cheerleaders were screaming about this morning is pretty weak. I keep adding 2 my short at all spikes... Sentiment: bearish\n",
            "Messages: $SPY Dollar ripping higher!... Sentiment: bearish\n",
            "Messages: $SPY no reason to go down !... Sentiment: bullish\n"
          ],
          "name": "stdout"
        }
      ]
    },
    {
      "metadata": {
        "id": "wEXk1iLVzXI1",
        "colab_type": "code",
        "colab": {}
      },
      "cell_type": "code",
      "source": [
        "import numpy as np\n",
        "import utils as utl\n",
        "\n",
        "\n",
        "# make everything lower case and remove punctuation\n",
        "messages = np.array([utl.preprocess_ST_message(message) for message in messages])\n",
        "\n",
        "# keeping a collection of our full vocabularly and creating a mapping of each word to a unique index\n",
        "\n",
        "full_lexicon = \" \".join(messages).split()\n",
        "vocab_to_int, int_to_vocab = utl.create_lookup_tables(full_lexicon)"
      ],
      "execution_count": 0,
      "outputs": []
    },
    {
      "metadata": {
        "id": "RD6oeSP-1grX",
        "colab_type": "code",
        "outputId": "5f7dddf8-aaf9-4b18-b5da-baa1703c9633",
        "colab": {
          "base_uri": "https://localhost:8080/",
          "height": 68
        }
      },
      "cell_type": "code",
      "source": [
        "from collections import Counter\n",
        "\n",
        "messages_lens = Counter([len(x) for x in messages])\n",
        "print(\"Zero-length messages: {}\".format(messages_lens[0]))\n",
        "print(\"Maximum message length: {}\".format(max(messages_lens)))\n",
        "print(\"Average message length: {}\".format(np.mean([len(x) for x in messages])))"
      ],
      "execution_count": 13,
      "outputs": [
        {
          "output_type": "stream",
          "text": [
            "Zero-length messages: 1\n",
            "Maximum message length: 244\n",
            "Average message length: 78.21856920395598\n"
          ],
          "name": "stdout"
        }
      ]
    },
    {
      "metadata": {
        "id": "hgPpCs6u1oTP",
        "colab_type": "code",
        "colab": {}
      },
      "cell_type": "code",
      "source": [
        "messages, labels = utl.drop_empty_messages(messages, labels)\n",
        "\n",
        "messages = utl.encode_ST_messages(messages, vocab_to_int)\n",
        "labels = utl.encode_ST_labels(labels)\n",
        "messages = utl.zero_pad_messages(messages, seq_len=244)"
      ],
      "execution_count": 0,
      "outputs": []
    },
    {
      "metadata": {
        "id": "mfNrSSk_1sA5",
        "colab_type": "code",
        "outputId": "a18b1de7-1f86-4679-9b61-f954bd0f6a28",
        "colab": {
          "base_uri": "https://localhost:8080/",
          "height": 85
        }
      },
      "cell_type": "code",
      "source": [
        "train_x, val_x, test_x, train_y, val_y, test_y = utl.train_val_test_split(messages, labels, split_frac=0.80)\n",
        "\n",
        "print(\"Data Set Size\")\n",
        "print(\"Train set: \\t\\t{}\".format(train_x.shape), \n",
        "      \"\\nValidation set: \\t{}\".format(val_x.shape),\n",
        "      \"\\nTest set: \\t\\t{}\".format(test_x.shape))"
      ],
      "execution_count": 15,
      "outputs": [
        {
          "output_type": "stream",
          "text": [
            "Data Set Size\n",
            "Train set: \t\t(77572, 244) \n",
            "Validation set: \t(9697, 244) \n",
            "Test set: \t\t(9697, 244)\n"
          ],
          "name": "stdout"
        }
      ]
    },
    {
      "metadata": {
        "id": "HL9DwFy01w4P",
        "colab_type": "code",
        "colab": {}
      },
      "cell_type": "code",
      "source": [
        "def model_inputs():\n",
        "    \"\"\"\n",
        "    Create the model inputs\n",
        "    \"\"\"\n",
        "    inputs_ = tf.placeholder(tf.int32, [None, None], name='inputs')\n",
        "    labels_ = tf.placeholder(tf.int32, [None, None], name='labels')\n",
        "    keep_prob_ = tf.placeholder(tf.float32, name='keep_prob')\n",
        "    \n",
        "    return inputs_, labels_, keep_prob_\n",
        "\n",
        "  \n",
        "def build_embedding_layer(inputs_, vocab_size, embed_size):\n",
        "    \"\"\"\n",
        "    Create the embedding layer\n",
        "    \"\"\"\n",
        "    embedding = tf.Variable(tf.random_uniform((vocab_size, embed_size), -1, 1))\n",
        "    embed = tf.nn.embedding_lookup(embedding, inputs_)\n",
        "    \n",
        "    return embed\n",
        "  \n",
        "def build_lstm_layers(lstm_sizes, embed, keep_prob_, batch_size):\n",
        "    \"\"\"\n",
        "    Create the LSTM layers\n",
        "    \"\"\"\n",
        "    lstms = [tf.contrib.rnn.BasicLSTMCell(size) for size in lstm_sizes]\n",
        "    # Add dropout to the cell\n",
        "    drops = [tf.contrib.rnn.DropoutWrapper(lstm, output_keep_prob=keep_prob_) for lstm in lstms]\n",
        "    # Stack up multiple LSTM layers, for deep learning\n",
        "    cell = tf.contrib.rnn.MultiRNNCell(drops)\n",
        "    # Getting an initial state of all zeros\n",
        "    initial_state = cell.zero_state(batch_size, tf.float32)\n",
        "    \n",
        "    lstm_outputs, final_state = tf.nn.dynamic_rnn(cell, embed, initial_state=initial_state)\n",
        "    \n",
        "    return initial_state, lstm_outputs, cell, final_state\n",
        "\n",
        "def build_cost_fn_and_opt(lstm_outputs, labels_, learning_rate):\n",
        "    \"\"\"\n",
        "    Create the Loss function and Optimizer\n",
        "    \"\"\"\n",
        "    predictions = tf.contrib.layers.fully_connected(lstm_outputs[:, -1], 1, activation_fn=tf.sigmoid)\n",
        "    loss = tf.losses.mean_squared_error(labels_, predictions)\n",
        "    optimzer = tf.train.AdadeltaOptimizer(learning_rate).minimize(loss)\n",
        "    \n",
        "    return predictions, loss, optimzer\n",
        "\n",
        "def build_accuracy(predictions, labels_):\n",
        "    \"\"\"\n",
        "    Create accuracy\n",
        "    \"\"\"\n",
        "    correct_pred = tf.equal(tf.cast(tf.round(predictions), tf.int32), labels_)\n",
        "    accuracy = tf.reduce_mean(tf.cast(correct_pred, tf.float32))\n",
        "    \n",
        "    return accuracy\n",
        "\n",
        "  "
      ],
      "execution_count": 0,
      "outputs": []
    },
    {
      "metadata": {
        "id": "njtas80P2GFK",
        "colab_type": "code",
        "colab": {}
      },
      "cell_type": "code",
      "source": [
        "checkpoint_path = \"gdrive/My Drive/models/modeling_stock_market\"\n",
        "\n",
        "def build_and_train_network(lstm_sizes, vocab_size, embed_size, epochs, batch_size,\n",
        "                            learning_rate, keep_prob, train_x, val_x, train_y, val_y):\n",
        "    \n",
        "    inputs_, labels_, keep_prob_ = model_inputs()\n",
        "    embed = build_embedding_layer(inputs_, vocab_size, embed_size)\n",
        "    initial_state, lstm_outputs, lstm_cell, final_state = build_lstm_layers(lstm_sizes, embed, keep_prob_, batch_size)\n",
        "    predictions, loss, optimizer = build_cost_fn_and_opt(lstm_outputs, labels_, learning_rate)\n",
        "    accuracy = build_accuracy(predictions, labels_)\n",
        "    \n",
        "    saver = tf.train.Saver()\n",
        "    \n",
        "    with tf.Session() as sess:\n",
        "        \n",
        "        sess.run(tf.global_variables_initializer())\n",
        "        n_batches = len(train_x)//batch_size\n",
        "        for e in range(epochs):\n",
        "            state = sess.run(initial_state)\n",
        "            \n",
        "            train_acc = []\n",
        "            for ii, (x, y) in enumerate(utl.get_batches(train_x, train_y, batch_size), 1):\n",
        "                feed = {inputs_: x,\n",
        "                        labels_: y[:, None],\n",
        "                        keep_prob_: keep_prob,\n",
        "                        initial_state: state}\n",
        "                loss_, state, _,  batch_acc = sess.run([loss, final_state, optimizer, accuracy], feed_dict=feed)\n",
        "                train_acc.append(batch_acc)\n",
        "                \n",
        "                if (ii + 1) % n_batches == 0:\n",
        "                    \n",
        "                    val_acc = []\n",
        "                    val_state = sess.run(lstm_cell.zero_state(batch_size, tf.float32))\n",
        "                    for xx, yy in utl.get_batches(val_x, val_y, batch_size):\n",
        "                        feed = {inputs_: xx,\n",
        "                                labels_: yy[:, None],\n",
        "                                keep_prob_: 1,\n",
        "                                initial_state: val_state}\n",
        "                        val_batch_acc, val_state = sess.run([accuracy, final_state], feed_dict=feed)\n",
        "                        val_acc.append(val_batch_acc)\n",
        "                    \n",
        "                    print(\"Epoch: {}/{}...\".format(e+1, epochs),\n",
        "                          \"Batch: {}/{}...\".format(ii+1, n_batches),\n",
        "                          \"Train Loss: {:.3f}...\".format(loss_),\n",
        "                          \"Train Accruacy: {:.3f}...\".format(np.mean(train_acc)),\n",
        "                          \"Val Accuracy: {:.3f}\".format(np.mean(val_acc)))\n",
        "    \n",
        "        saver.save(sess, checkpoint_path + '/sentiment.ckpt')"
      ],
      "execution_count": 0,
      "outputs": []
    },
    {
      "metadata": {
        "id": "rn8aqfalpQ08",
        "colab_type": "code",
        "colab": {}
      },
      "cell_type": "code",
      "source": [
        ""
      ],
      "execution_count": 0,
      "outputs": []
    },
    {
      "metadata": {
        "id": "JxFd0Ub22LiS",
        "colab_type": "code",
        "outputId": "8000730d-2b88-4eb2-c51c-4046d7204141",
        "colab": {
          "base_uri": "https://localhost:8080/",
          "height": 34
        }
      },
      "cell_type": "code",
      "source": [
        "# Define Inputs and Hyperparameters\n",
        "lstm_sizes = [128, 64]\n",
        "vocab_size = len(vocab_to_int) + 1 #add one for padding\n",
        "embed_size = 300\n",
        "epochs = 1\n",
        "batch_size = 256\n",
        "learning_rate = 0.1\n",
        "keep_prob = 0.5\n",
        "\n",
        "with tf.Graph().as_default():\n",
        "    build_and_train_network(lstm_sizes, vocab_size, embed_size, epochs, batch_size,\n",
        "                            learning_rate, keep_prob, train_x, val_x, train_y, val_y)"
      ],
      "execution_count": 22,
      "outputs": [
        {
          "output_type": "stream",
          "text": [
            "Epoch: 1/1... Batch: 303/303... Train Loss: 0.240... Train Accruacy: 0.555... Val Accuracy: 0.580\n"
          ],
          "name": "stdout"
        }
      ]
    },
    {
      "metadata": {
        "id": "-X5LwC06oT6I",
        "colab_type": "code",
        "outputId": "c5a24192-6951-4838-c7d8-9817ab8de043",
        "colab": {
          "base_uri": "https://localhost:8080/",
          "height": 122
        }
      },
      "cell_type": "code",
      "source": [
        "def test_network(model_dir, batch_size, test_x, test_y):\n",
        "    \n",
        "    inputs_, labels_, keep_prob_ = model_inputs()\n",
        "    embed = build_embedding_layer(inputs_, vocab_size, embed_size)\n",
        "    initial_state, lstm_outputs, lstm_cell, final_state = build_lstm_layers(lstm_sizes, embed, keep_prob_, batch_size)\n",
        "    predictions, loss, optimizer = build_cost_fn_and_opt(lstm_outputs, labels_, learning_rate)\n",
        "    accuracy = build_accuracy(predictions, labels_)\n",
        "    \n",
        "    saver = tf.train.Saver()\n",
        "    \n",
        "    test_acc = []\n",
        "    with tf.Session() as sess:\n",
        "        saver.restore(sess, tf.train.latest_checkpoint(model_dir))\n",
        "        test_state = sess.run(lstm_cell.zero_state(batch_size, tf.float32))\n",
        "        for ii, (x, y) in enumerate(utl.get_batches(test_x, test_y, batch_size), 1):\n",
        "            feed = {inputs_: x,\n",
        "                    labels_: y[:, None],\n",
        "                    keep_prob_: 1,\n",
        "                    initial_state: test_state}\n",
        "            batch_acc, test_state = sess.run([accuracy, final_state], feed_dict=feed)\n",
        "            test_acc.append(batch_acc)\n",
        "        print(\"Test Accuracy: {:.3f}\".format(np.mean(test_acc)))\n",
        "\n",
        "with tf.Graph().as_default():\n",
        "    test_network(checkpoint_path, batch_size, test_x, test_y)\n",
        "   "
      ],
      "execution_count": 25,
      "outputs": [
        {
          "output_type": "stream",
          "text": [
            "WARNING:tensorflow:From /usr/local/lib/python3.6/dist-packages/tensorflow/python/training/saver.py:1266: checkpoint_exists (from tensorflow.python.training.checkpoint_management) is deprecated and will be removed in a future version.\n",
            "Instructions for updating:\n",
            "Use standard file APIs to check for files with this prefix.\n",
            "INFO:tensorflow:Restoring parameters from gdrive/My Drive/models/modeling_stock_market/sentiment.ckpt\n",
            "Test Accuracy: 0.588\n"
          ],
          "name": "stdout"
        }
      ]
    },
    {
      "metadata": {
        "id": "2Jn_5PgE37jo",
        "colab_type": "text"
      },
      "cell_type": "markdown",
      "source": [
        "# New Section"
      ]
    }
  ]
}