{
  "nbformat": 4,
  "nbformat_minor": 0,
  "metadata": {
    "colab": {
      "name": "synthetic-mass.ipynb",
      "version": "0.3.2",
      "provenance": [],
      "collapsed_sections": [],
      "include_colab_link": true
    },
    "kernelspec": {
      "name": "python3",
      "display_name": "Python 3"
    }
  },
  "cells": [
    {
      "cell_type": "markdown",
      "metadata": {
        "id": "view-in-github",
        "colab_type": "text"
      },
      "source": [
        "<a href=\"https://colab.research.google.com/github/hossein20s/tutorial/blob/master/synthetic_mass.ipynb\" target=\"_parent\"><img src=\"https://colab.research.google.com/assets/colab-badge.svg\" alt=\"Open In Colab\"/></a>"
      ]
    },
    {
      "metadata": {
        "id": "lv-ofXSxGDye",
        "colab_type": "code",
        "outputId": "8a43dbaf-eb91-407f-bbdd-6bec5a76a450",
        "colab": {
          "base_uri": "https://localhost:8080/",
          "height": 34
        }
      },
      "cell_type": "code",
      "source": [
        "import tensorflow as tf\n",
        "print(tf.__version__)"
      ],
      "execution_count": 0,
      "outputs": [
        {
          "output_type": "stream",
          "text": [
            "1.13.1\n"
          ],
          "name": "stdout"
        }
      ]
    },
    {
      "metadata": {
        "id": "I1A2gTL_Hyy8",
        "colab_type": "code",
        "outputId": "67860c3b-e3e0-4ad6-907e-4be956b2a96b",
        "colab": {
          "base_uri": "https://localhost:8080/",
          "height": 34
        }
      },
      "cell_type": "code",
      "source": [
        "import sys\n",
        "sys.path.append('/content/gdrive/My Drive/python-lib')\n",
        "\n",
        "from google.colab import drive\n",
        "drive.mount('/content/gdrive')\n",
        "\n",
        "persist_path = \"gdrive/My Drive/models/synthetic-mass/\"\n",
        "data_path = \"gdrive/My Drive/data/synthetic-mass/\""
      ],
      "execution_count": 0,
      "outputs": [
        {
          "output_type": "stream",
          "text": [
            "Drive already mounted at /content/gdrive; to attempt to forcibly remount, call drive.mount(\"/content/gdrive\", force_remount=True).\n"
          ],
          "name": "stdout"
        }
      ]
    },
    {
      "metadata": {
        "id": "M8saXruPGg6V",
        "colab_type": "code",
        "outputId": "f442bfe4-9c2d-4db5-9d93-409fde4b95fb",
        "colab": {
          "base_uri": "https://localhost:8080/",
          "height": 1785
        }
      },
      "cell_type": "code",
      "source": [
        "import pandas as pd\n",
        "\n",
        "patients = pd.read_csv(data_path + 'patients.csv', parse_dates=['BIRTHDATE', 'DEATHDATE'], infer_datetime_format=True)\n",
        "\n",
        "print(patients.shape)\n",
        "print('-'*80)   \n",
        "print(patients.info())\n",
        "print('-'*80)   \n",
        "print(patients.dtypes)\n",
        "print('-'*80)   \n",
        "print(patients.describe())\n",
        "print('-'*80)   \n",
        "print(patients.head())\n"
      ],
      "execution_count": 0,
      "outputs": [
        {
          "output_type": "stream",
          "text": [
            "(1462, 17)\n",
            "--------------------------------------------------------------------------------\n",
            "<class 'pandas.core.frame.DataFrame'>\n",
            "RangeIndex: 1462 entries, 0 to 1461\n",
            "Data columns (total 17 columns):\n",
            "ID            1462 non-null object\n",
            "BIRTHDATE     1462 non-null datetime64[ns]\n",
            "DEATHDATE     457 non-null datetime64[ns]\n",
            "SSN           1462 non-null object\n",
            "DRIVERS       1196 non-null object\n",
            "PASSPORT      1123 non-null object\n",
            "PREFIX        1166 non-null object\n",
            "FIRST         1462 non-null object\n",
            "LAST          1462 non-null object\n",
            "SUFFIX        45 non-null object\n",
            "MAIDEN        403 non-null object\n",
            "MARITAL       1033 non-null object\n",
            "RACE          1462 non-null object\n",
            "ETHNICITY     1462 non-null object\n",
            "GENDER        1462 non-null object\n",
            "BIRTHPLACE    1462 non-null object\n",
            "ADDRESS       1462 non-null object\n",
            "dtypes: datetime64[ns](2), object(15)\n",
            "memory usage: 194.2+ KB\n",
            "None\n",
            "--------------------------------------------------------------------------------\n",
            "ID                    object\n",
            "BIRTHDATE     datetime64[ns]\n",
            "DEATHDATE     datetime64[ns]\n",
            "SSN                   object\n",
            "DRIVERS               object\n",
            "PASSPORT              object\n",
            "PREFIX                object\n",
            "FIRST                 object\n",
            "LAST                  object\n",
            "SUFFIX                object\n",
            "MAIDEN                object\n",
            "MARITAL               object\n",
            "RACE                  object\n",
            "ETHNICITY             object\n",
            "GENDER                object\n",
            "BIRTHPLACE            object\n",
            "ADDRESS               object\n",
            "dtype: object\n",
            "--------------------------------------------------------------------------------\n",
            "                                          ID            BIRTHDATE  \\\n",
            "count                                   1462                 1462   \n",
            "unique                                  1462                 1431   \n",
            "top     50bc138e-189b-429d-a65a-8037d112d27d  2011-03-14 00:00:00   \n",
            "freq                                       1                    2   \n",
            "first                                    NaN  1916-11-09 00:00:00   \n",
            "last                                     NaN  2017-11-07 00:00:00   \n",
            "\n",
            "                  DEATHDATE          SSN    DRIVERS PASSPORT PREFIX  \\\n",
            "count                   457         1462       1196     1123   1166   \n",
            "unique                  448         1460       1189      560      3   \n",
            "top     2006-02-12 00:00:00  999-92-1074  S99995948    false    Mr.   \n",
            "freq                      3            2          2      564    597   \n",
            "first   1920-02-19 00:00:00          NaN        NaN      NaN    NaN   \n",
            "last    2017-10-22 00:00:00          NaN        NaN      NaN    NaN   \n",
            "\n",
            "            FIRST      LAST SUFFIX      MAIDEN MARITAL   RACE ETHNICITY  \\\n",
            "count        1462      1462     45         403    1033   1462      1462   \n",
            "unique       1203       453      3         271       2      4        20   \n",
            "top     Austin204  Tromp573    PhD  Douglas998       M  white     irish   \n",
            "freq            4        10     16           6     822   1085       306   \n",
            "first         NaN       NaN    NaN         NaN     NaN    NaN       NaN   \n",
            "last          NaN       NaN    NaN         NaN     NaN    NaN       NaN   \n",
            "\n",
            "       GENDER    BIRTHPLACE                                    ADDRESS  \n",
            "count    1462          1462                                       1462  \n",
            "unique      2           265                                       1462  \n",
            "top         M  Boston MA US  66817 Ignacio Crescent Newton MA 02460 US  \n",
            "freq      741           157                                          1  \n",
            "first     NaN           NaN                                        NaN  \n",
            "last      NaN           NaN                                        NaN  \n",
            "--------------------------------------------------------------------------------\n",
            "                                     ID  BIRTHDATE  DEATHDATE          SSN  \\\n",
            "0  71949668-1c2e-43ae-ab0a-64654608defb 1988-05-28        NaT  999-60-7250   \n",
            "1  c2caaace-9119-4b2d-a2c3-4040f5a9cf32 1936-09-22 1987-11-06  999-25-1103   \n",
            "2  96b24072-e1fe-49cd-a22a-6dfb92c3994c 1939-08-09        NaT  999-31-1262   \n",
            "3  de43eb48-496c-46d4-8c5b-be6125a38c15 1931-09-04 1981-10-09  999-32-6726   \n",
            "4  79266ca2-b4e3-45e5-af65-7914bd4511a0 1968-08-20        NaT  999-92-1525   \n",
            "\n",
            "     DRIVERS    PASSPORT PREFIX         FIRST         LAST SUFFIX    MAIDEN  \\\n",
            "0  S99965240  X22244130X   Mrs.       Elly802      Koss811    NaN  Upton199   \n",
            "1  S99982785  X64352363X    Mr.        Kim254   Barrows624    NaN       NaN   \n",
            "2  S99997863  X20513467X    Ms.  Jacquelyn868   Shanahan20    NaN       NaN   \n",
            "3  S99920382       false    Mr.   Nicholas299      Lind290    NaN       NaN   \n",
            "4  S99919354  X71872112X    Mr.    Maxwell713  Dietrich937    NaN       NaN   \n",
            "\n",
            "  MARITAL   RACE   ETHNICITY GENDER         BIRTHPLACE  \\\n",
            "0       M  white       irish      F    Lexington MA US   \n",
            "1       S  asian     chinese      M    Worcester MA US   \n",
            "2       S  white       irish      F   Bellingham MA US   \n",
            "3       S  white  portuguese      M    Arlington MA US   \n",
            "4       M  black   dominican      M  Springfield MA US   \n",
            "\n",
            "                                             ADDRESS  \n",
            "0              609 Lizeth Streets Bolton MA 01740 US  \n",
            "1  646 McCullough Points Suite 161 Attleboro MA 0...  \n",
            "2  365 Della Crossroad Suite 202 Deerfield MA 013...  \n",
            "3            126 Kshlerin Ville Chicopee MA 01013 US  \n",
            "4           635 Smitham Burgs Fall River MA 02721 US  \n"
          ],
          "name": "stdout"
        }
      ]
    },
    {
      "metadata": {
        "id": "70hEk_seYIjI",
        "colab_type": "code",
        "outputId": "5da63dd3-a234-4a8e-e279-9aea1c23a992",
        "colab": {
          "base_uri": "https://localhost:8080/",
          "height": 187
        }
      },
      "cell_type": "code",
      "source": [
        "procedures = pd.read_csv(data_path + 'procedures.csv', parse_dates=['DATE'] )\n",
        "\n",
        "print(procedures.shape)\n",
        "print('-'*80)   \n",
        "print(procedures.iloc[0])\n"
      ],
      "execution_count": 0,
      "outputs": [
        {
          "output_type": "stream",
          "text": [
            "(10184, 7)\n",
            "--------------------------------------------------------------------------------\n",
            "DATE                                             2013-02-09 00:00:00\n",
            "PATIENT                         71949668-1c2e-43ae-ab0a-64654608defb\n",
            "ENCOUNTER                       6f2e3935-b203-493e-a9c0-f23e847b9798\n",
            "CODE                                                        23426006\n",
            "DESCRIPTION          Measurement of respiratory function (procedure)\n",
            "REASONCODE                                                1.0509e+07\n",
            "REASONDESCRIPTION                        Acute bronchitis (disorder)\n",
            "Name: 0, dtype: object\n"
          ],
          "name": "stdout"
        }
      ]
    },
    {
      "metadata": {
        "id": "JPDzSfIOwZ98",
        "colab_type": "code",
        "outputId": "2b8c48ee-d181-4430-96c2-90b706caeb27",
        "colab": {
          "base_uri": "https://localhost:8080/",
          "height": 187
        }
      },
      "cell_type": "code",
      "source": [
        "encounters = pd.read_csv(data_path + 'encounters.csv', parse_dates=['DATE'])\n",
        "\n",
        "print(encounters.shape)\n",
        "print('-'*80)   \n",
        "print(encounters.iloc[0])\n"
      ],
      "execution_count": 0,
      "outputs": [
        {
          "output_type": "stream",
          "text": [
            "(20524, 7)\n",
            "--------------------------------------------------------------------------------\n",
            "ID                   5114a5b4-64b8-47b2-82a6-0ce24aae0943\n",
            "DATE                                  2008-03-11 00:00:00\n",
            "PATIENT              71949668-1c2e-43ae-ab0a-64654608defb\n",
            "CODE                                            185349003\n",
            "DESCRIPTION                          Outpatient Encounter\n",
            "REASONCODE                                            NaN\n",
            "REASONDESCRIPTION                                     NaN\n",
            "Name: 0, dtype: object\n"
          ],
          "name": "stdout"
        }
      ]
    },
    {
      "metadata": {
        "id": "fqw7DpgpxkIG",
        "colab_type": "code",
        "outputId": "c5b9dddf-902d-4459-98b9-c7c53c7464ec",
        "colab": {
          "base_uri": "https://localhost:8080/",
          "height": 170
        }
      },
      "cell_type": "code",
      "source": [
        "conditions = pd.read_csv(data_path + 'conditions.csv', )\n",
        "\n",
        "print(conditions.shape)\n",
        "print('-'*80)   \n",
        "print(conditions.iloc[0])\n"
      ],
      "execution_count": 0,
      "outputs": [
        {
          "output_type": "stream",
          "text": [
            "(7040, 6)\n",
            "--------------------------------------------------------------------------------\n",
            "START                                    2009-01-08\n",
            "STOP                                     2009-01-21\n",
            "PATIENT        71949668-1c2e-43ae-ab0a-64654608defb\n",
            "ENCOUNTER      4d451e22-a354-40c9-8b33-b6126158666d\n",
            "CODE                                       10509002\n",
            "DESCRIPTION             Acute bronchitis (disorder)\n",
            "Name: 0, dtype: object\n"
          ],
          "name": "stdout"
        }
      ]
    },
    {
      "metadata": {
        "id": "QUsGdFjNbGSS",
        "colab_type": "code",
        "outputId": "195b3150-1b0f-445e-fad4-25d449686da1",
        "colab": {
          "base_uri": "https://localhost:8080/",
          "height": 357
        }
      },
      "cell_type": "code",
      "source": [
        "patient_procedures = patients.merge(procedures, left_on='ID', right_on='PATIENT')\n",
        "print(patient_procedures.shape)\n",
        "print('-'*80)   \n",
        "\n",
        "selected_patient_procedures = patient_procedures[['ID', 'BIRTHDATE', 'MARITAL', 'RACE', 'ETHNICITY', 'GENDER', 'BIRTHPLACE', 'ENCOUNTER', 'CODE', 'DESCRIPTION', 'REASONCODE', 'REASONDESCRIPTION']]\n",
        "print(selected_patient_procedures.iloc[0])\n",
        "print('-'*80)  \n",
        "print(selected_patient_procedures.groupby(['GENDER']).size())"
      ],
      "execution_count": 0,
      "outputs": [
        {
          "output_type": "stream",
          "text": [
            "(10184, 24)\n",
            "--------------------------------------------------------------------------------\n",
            "ID                              71949668-1c2e-43ae-ab0a-64654608defb\n",
            "BIRTHDATE                                        1988-05-28 00:00:00\n",
            "MARITAL                                                            M\n",
            "RACE                                                           white\n",
            "ETHNICITY                                                      irish\n",
            "GENDER                                                             F\n",
            "BIRTHPLACE                                           Lexington MA US\n",
            "ENCOUNTER                       6f2e3935-b203-493e-a9c0-f23e847b9798\n",
            "CODE                                                        23426006\n",
            "DESCRIPTION          Measurement of respiratory function (procedure)\n",
            "REASONCODE                                                1.0509e+07\n",
            "REASONDESCRIPTION                        Acute bronchitis (disorder)\n",
            "Name: 0, dtype: object\n",
            "--------------------------------------------------------------------------------\n",
            "GENDER\n",
            "F    6311\n",
            "M    3873\n",
            "dtype: int64\n"
          ],
          "name": "stdout"
        }
      ]
    },
    {
      "metadata": {
        "id": "Gt13lAZpyZoP",
        "colab_type": "code",
        "outputId": "ec8dc608-7cb3-46f0-8f93-8964ecbe0241",
        "colab": {
          "base_uri": "https://localhost:8080/",
          "height": 323
        }
      },
      "cell_type": "code",
      "source": [
        "heart_conditions = conditions.iloc[conditions[conditions['DESCRIPTION'].str.contains(\"Heart\")].index.tolist()]\n",
        "X = patients.merge(heart_conditions, left_on='ID', right_on='PATIENT')\n",
        "print(X.shape)\n",
        "print('-'*80)   \n",
        "\n",
        "patient_heart_conditions = X[['ID', 'BIRTHDATE', 'MARITAL', 'RACE', 'ETHNICITY', 'GENDER', 'BIRTHPLACE', 'ENCOUNTER', 'CODE', 'DESCRIPTION']]\n",
        "print(patient_heart_conditions.iloc[0])\n",
        "print('-'*80)   \n",
        "print(patient_heart_conditions.groupby(['GENDER']).size())"
      ],
      "execution_count": 0,
      "outputs": [
        {
          "output_type": "stream",
          "text": [
            "(98, 23)\n",
            "--------------------------------------------------------------------------------\n",
            "ID             81979c08-df99-4792-b608-65fcf28f4019\n",
            "BIRTHDATE                       1968-07-11 00:00:00\n",
            "MARITAL                                           M\n",
            "RACE                                          white\n",
            "ETHNICITY                                  american\n",
            "GENDER                                            M\n",
            "BIRTHPLACE                           Brockton MA US\n",
            "ENCOUNTER      9a1ce976-5abc-4df4-9743-31d70c6bb571\n",
            "CODE                                       53741008\n",
            "DESCRIPTION                  Coronary Heart Disease\n",
            "Name: 0, dtype: object\n",
            "--------------------------------------------------------------------------------\n",
            "GENDER\n",
            "F    23\n",
            "M    75\n",
            "dtype: int64\n"
          ],
          "name": "stdout"
        }
      ]
    },
    {
      "metadata": {
        "id": "NdB40v3CJMw2",
        "colab_type": "code",
        "outputId": "32a2c9fc-07dc-4ead-fa5d-83e7ac2baf4d",
        "colab": {
          "base_uri": "https://localhost:8080/",
          "height": 486
        }
      },
      "cell_type": "code",
      "source": [
        "import datetime as DT\n",
        "import matplotlib.pyplot as plt # this is used for the plot the graph \n",
        "\n",
        "\n",
        "old = 70\n",
        "\n",
        "now = pd.Timestamp(DT.datetime.now())\n",
        "patient_heart_conditions['AGE'] = (now - patient_heart_conditions['BIRTHDATE']).astype('<m8[Y]') \n",
        "XY = patient_heart_conditions\n",
        "# .sort_values(by=['AGE'], ascending=False)\n",
        "XX = XY.iloc[0:30,:]\n",
        "\n",
        "#print(XX['AGE'])\n",
        "\n",
        "XX['AGE'].plot(kind='bar')\n",
        "plt.xticks(rotation=60)\n",
        "plt.ylabel('AGE')\n",
        "plt.title('Patients')\n",
        "plt.show()\n",
        "\n",
        "\n",
        "fifty_years = pd.to_timedelta(str(old * 365.25) + ' days')\n",
        "old_patient_heart_conditionss = patient_heart_conditionss.iloc[patient_heart_conditionss[patient_heart_conditionss['AGE'] > fifty_years ].index.tolist()]\n",
        "old_patient_heart_conditionss.shape\n"
      ],
      "execution_count": 0,
      "outputs": [
        {
          "output_type": "stream",
          "text": [
            "/usr/local/lib/python3.6/dist-packages/ipykernel_launcher.py:8: SettingWithCopyWarning: \n",
            "A value is trying to be set on a copy of a slice from a DataFrame.\n",
            "Try using .loc[row_indexer,col_indexer] = value instead\n",
            "\n",
            "See the caveats in the documentation: http://pandas.pydata.org/pandas-docs/stable/indexing.html#indexing-view-versus-copy\n",
            "  \n"
          ],
          "name": "stderr"
        },
        {
          "output_type": "display_data",
          "data": {
            "image/png": "[encoded data removed]",
            "text/plain": [
              "<Figure size 576x396 with 1 Axes>"
            ]
          },
          "metadata": {
            "tags": []
          }
        },
        {
          "output_type": "execute_result",
          "data": {
            "text/plain": [
              "(66, 11)"
            ]
          },
          "metadata": {
            "tags": []
          },
          "execution_count": 135
        }
      ]
    },
    {
      "metadata": {
        "id": "LA5vuLL5tvdd",
        "colab_type": "code",
        "outputId": "9fc331d2-38dd-4c49-d548-a737cfd33800",
        "colab": {
          "base_uri": "https://localhost:8080/",
          "height": 3298
        }
      },
      "cell_type": "code",
      "source": [
        "print(selected_patient_procedures.groupby(['BIRTHPLACE']).count().sort_values(by=['REASONCODE']))"
      ],
      "execution_count": 0,
      "outputs": [
        {
          "output_type": "stream",
          "text": [
            "                        ID  BIRTHDATE  MARITAL  RACE  ETHNICITY  GENDER  \\\n",
            "BIRTHPLACE                                                                \n",
            "Millville MA US          3          3        0     3          3       3   \n",
            "Middleborough MA US     22         22        8    22         22      22   \n",
            "Paxton MA US             5          5        0     5          5       5   \n",
            "Berkley MA US            9          9        6     9          9       9   \n",
            "Warwick MA US           17         17        0    17         17      17   \n",
            "Colrain MA US            3          3        3     3          3       3   \n",
            "Charlemont MA US         8          8        8     8          8       8   \n",
            "Franklin Town MA US     11         11       11    11         11      11   \n",
            "Hadley MA US             1          1        1     1          1       1   \n",
            "Westborough MA US        5          5        0     5          5       5   \n",
            "Boylston MA US           6          6        0     6          6       6   \n",
            "Stoughton MA US         16         16        6    16         16      16   \n",
            "Norfolk MA US           10         10       10    10         10      10   \n",
            "Stow MA US               6          6        2     6          6       6   \n",
            "Swansea MA US           17         17        0    17         17      17   \n",
            "Brookfield MA US         4          4        4     4          4       4   \n",
            "Medfield MA US           6          6        0     6          6       6   \n",
            "Douglas MA US            3          3        3     3          3       3   \n",
            "Dover MA US              8          8        8     8          8       8   \n",
            "Hampden MA US            3          3        3     3          3       3   \n",
            "Avon MA US               7          7        0     7          7       7   \n",
            "Palmer Town MA US        3          3        3     3          3       3   \n",
            "Millis MA US             8          8        6     8          8       8   \n",
            "Winchendon MA US        58         58        3    58         58      58   \n",
            "Lee MA US                2          2        0     2          2       2   \n",
            "Lancaster MA US          7          7        7     7          7       7   \n",
            "Milford MA US            3          3        3     3          3       3   \n",
            "Hancock MA US            4          4        4     4          4       4   \n",
            "Holbrook MA US           6          6        6     6          6       6   \n",
            "Plainville MA US        17         17        7    17         17      17   \n",
            "...                    ...        ...      ...   ...        ...     ...   \n",
            "Revere MA US            93         93       82    93         93      93   \n",
            "Brookline MA US        137        137      112   137        137     137   \n",
            "Arlington MA US         78         78       67    78         78      78   \n",
            "New Bedford MA US      155        155       59   155        155     155   \n",
            "Webster MA US           45         45       44    45         45      45   \n",
            "Lowell MA US           103        103       70   103        103     103   \n",
            "Plymouth MA US         177        177       98   177        177     177   \n",
            "Braintree Town MA US   105        105       80   105        105     105   \n",
            "Pittsfield MA US        54         54       49    54         54      54   \n",
            "Melrose MA US           57         57       39    57         57      57   \n",
            "Haverhill MA US         46         46       14    46         46      46   \n",
            "Quincy MA US           144        144       99   144        144     144   \n",
            "Everett MA US          100        100       80   100        100     100   \n",
            "Westport MA US          50         50       48    50         50      50   \n",
            "Swampscott MA US        53         53       43    53         53      53   \n",
            "Billerica MA US         62         62       49    62         62      62   \n",
            "Lawrence MA US         192        192       55   192        192     192   \n",
            "Malden MA US            80         80       69    80         80      80   \n",
            "Holyoke MA US           57         57       51    57         57      57   \n",
            "Westfield MA US         74         74       60    74         74      74   \n",
            "Lynn MA US             114        114       33   114        114     114   \n",
            "Falmouth MA US         132        132       42   132        132     132   \n",
            "Fall River MA US       171        171      143   171        171     171   \n",
            "Dartmouth MA US        145        145      136   145        145     145   \n",
            "Somerville MA US       118        118      113   118        118     118   \n",
            "Worcester MA US        197        197      131   197        197     197   \n",
            "Brockton MA US         244        244      148   244        244     244   \n",
            "Newton MA US           219        219       76   219        219     219   \n",
            "Springfield MA US      341        341      315   341        341     341   \n",
            "Boston MA US          1172       1172      680  1172       1172    1172   \n",
            "\n",
            "                      ENCOUNTER  CODE  DESCRIPTION  REASONCODE  \\\n",
            "BIRTHPLACE                                                       \n",
            "Millville MA US               3     3            3           0   \n",
            "Middleborough MA US          22    22           22           0   \n",
            "Paxton MA US                  5     5            5           0   \n",
            "Berkley MA US                 9     9            9           0   \n",
            "Warwick MA US                17    17           17           0   \n",
            "Colrain MA US                 3     3            3           0   \n",
            "Charlemont MA US              8     8            8           0   \n",
            "Franklin Town MA US          11    11           11           0   \n",
            "Hadley MA US                  1     1            1           0   \n",
            "Westborough MA US             5     5            5           0   \n",
            "Boylston MA US                6     6            6           0   \n",
            "Stoughton MA US              16    16           16           0   \n",
            "Norfolk MA US                10    10           10           0   \n",
            "Stow MA US                    6     6            6           0   \n",
            "Swansea MA US                17    17           17           0   \n",
            "Brookfield MA US              4     4            4           0   \n",
            "Medfield MA US                6     6            6           0   \n",
            "Douglas MA US                 3     3            3           0   \n",
            "Dover MA US                   8     8            8           0   \n",
            "Hampden MA US                 3     3            3           0   \n",
            "Avon MA US                    7     7            7           0   \n",
            "Palmer Town MA US             3     3            3           0   \n",
            "Millis MA US                  8     8            8           0   \n",
            "Winchendon MA US             58    58           58           0   \n",
            "Lee MA US                     2     2            2           0   \n",
            "Lancaster MA US               7     7            7           0   \n",
            "Milford MA US                 3     3            3           0   \n",
            "Hancock MA US                 4     4            4           0   \n",
            "Holbrook MA US                6     6            6           0   \n",
            "Plainville MA US             17    17           17           0   \n",
            "...                         ...   ...          ...         ...   \n",
            "Revere MA US                 93    93           93          20   \n",
            "Brookline MA US             137   137          137          21   \n",
            "Arlington MA US              78    78           78          21   \n",
            "New Bedford MA US           155   155          155          21   \n",
            "Webster MA US                45    45           45          21   \n",
            "Lowell MA US                103   103          103          21   \n",
            "Plymouth MA US              177   177          177          22   \n",
            "Braintree Town MA US        105   105          105          22   \n",
            "Pittsfield MA US             54    54           54          22   \n",
            "Melrose MA US                57    57           57          22   \n",
            "Haverhill MA US              46    46           46          23   \n",
            "Quincy MA US                144   144          144          23   \n",
            "Everett MA US               100   100          100          23   \n",
            "Westport MA US               50    50           50          26   \n",
            "Swampscott MA US             53    53           53          28   \n",
            "Billerica MA US              62    62           62          29   \n",
            "Lawrence MA US              192   192          192          32   \n",
            "Malden MA US                 80    80           80          33   \n",
            "Holyoke MA US                57    57           57          35   \n",
            "Westfield MA US              74    74           74          36   \n",
            "Lynn MA US                  114   114          114          39   \n",
            "Falmouth MA US              132   132          132          42   \n",
            "Fall River MA US            171   171          171          42   \n",
            "Dartmouth MA US             145   145          145          48   \n",
            "Somerville MA US            118   118          118          52   \n",
            "Worcester MA US             197   197          197          58   \n",
            "Brockton MA US              244   244          244          82   \n",
            "Newton MA US                219   219          219          85   \n",
            "Springfield MA US           341   341          341          91   \n",
            "Boston MA US               1172  1172         1172         307   \n",
            "\n",
            "                      REASONDESCRIPTION  \n",
            "BIRTHPLACE                               \n",
            "Millville MA US                       0  \n",
            "Middleborough MA US                   0  \n",
            "Paxton MA US                          0  \n",
            "Berkley MA US                         0  \n",
            "Warwick MA US                         0  \n",
            "Colrain MA US                         0  \n",
            "Charlemont MA US                      0  \n",
            "Franklin Town MA US                   0  \n",
            "Hadley MA US                          0  \n",
            "Westborough MA US                     0  \n",
            "Boylston MA US                        0  \n",
            "Stoughton MA US                       0  \n",
            "Norfolk MA US                         0  \n",
            "Stow MA US                            0  \n",
            "Swansea MA US                         0  \n",
            "Brookfield MA US                      0  \n",
            "Medfield MA US                        0  \n",
            "Douglas MA US                         0  \n",
            "Dover MA US                           0  \n",
            "Hampden MA US                         0  \n",
            "Avon MA US                            0  \n",
            "Palmer Town MA US                     0  \n",
            "Millis MA US                          0  \n",
            "Winchendon MA US                      0  \n",
            "Lee MA US                             0  \n",
            "Lancaster MA US                       0  \n",
            "Milford MA US                         0  \n",
            "Hancock MA US                         0  \n",
            "Holbrook MA US                        0  \n",
            "Plainville MA US                      0  \n",
            "...                                 ...  \n",
            "Revere MA US                         20  \n",
            "Brookline MA US                      21  \n",
            "Arlington MA US                      21  \n",
            "New Bedford MA US                    21  \n",
            "Webster MA US                        21  \n",
            "Lowell MA US                         21  \n",
            "Plymouth MA US                       22  \n",
            "Braintree Town MA US                 22  \n",
            "Pittsfield MA US                     22  \n",
            "Melrose MA US                        22  \n",
            "Haverhill MA US                      23  \n",
            "Quincy MA US                         23  \n",
            "Everett MA US                        23  \n",
            "Westport MA US                       26  \n",
            "Swampscott MA US                     28  \n",
            "Billerica MA US                      29  \n",
            "Lawrence MA US                       32  \n",
            "Malden MA US                         33  \n",
            "Holyoke MA US                        35  \n",
            "Westfield MA US                      36  \n",
            "Lynn MA US                           39  \n",
            "Falmouth MA US                       42  \n",
            "Fall River MA US                     42  \n",
            "Dartmouth MA US                      48  \n",
            "Somerville MA US                     52  \n",
            "Worcester MA US                      58  \n",
            "Brockton MA US                       82  \n",
            "Newton MA US                         85  \n",
            "Springfield MA US                    91  \n",
            "Boston MA US                        307  \n",
            "\n",
            "[252 rows x 11 columns]\n"
          ],
          "name": "stdout"
        }
      ]
    },
    {
      "metadata": {
        "id": "Fq9fN_MJfERM",
        "colab_type": "code",
        "colab": {}
      },
      "cell_type": "code",
      "source": [
        "\n",
        "# Sum of 'Global_active_power' resampled over month\n",
        "df['Global_active_power'].resample('M').mean().plot(kind='bar')\n",
        "plt.xticks(rotation=60)\n",
        "plt.ylabel('Global_active_power')\n",
        "plt.title('Global_active_power per month (averaged over month)')\n",
        "plt.show()"
      ],
      "execution_count": 0,
      "outputs": []
    },
    {
      "metadata": {
        "id": "hd9eUW3HLtOd",
        "colab_type": "code",
        "outputId": "a0e5238c-2bcc-4122-9ad8-8cc300831631",
        "colab": {
          "base_uri": "https://localhost:8080/",
          "height": 306
        }
      },
      "cell_type": "code",
      "source": [
        "isnull = []\n",
        "\n",
        "for j in range(0,17):\n",
        "  print(patients.iloc[0, j])"
      ],
      "execution_count": 0,
      "outputs": [
        {
          "output_type": "stream",
          "text": [
            "71949668-1c2e-43ae-ab0a-64654608defb\n",
            "1988-05-28\n",
            "nan\n",
            "999-60-7250\n",
            "S99965240\n",
            "X22244130X\n",
            "Mrs.\n",
            "Elly802\n",
            "Koss811\n",
            "nan\n",
            "Upton199\n",
            "M\n",
            "white\n",
            "irish\n",
            "F\n",
            "Lexington MA US\n",
            "609 Lizeth Streets Bolton MA 01740 US\n"
          ],
          "name": "stdout"
        }
      ]
    }
  ]
}