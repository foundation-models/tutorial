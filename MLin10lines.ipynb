{
 "cells": [
  {
   "cell_type": "code",
   "execution_count": null,
   "metadata": {
    "colab": {
     "base_uri": "https://localhost:8080/",
     "height": 581.0
    },
    "colab_type": "code",
    "executionInfo": {
     "elapsed": 40569.0,
     "status": "ok",
     "timestamp": 1.552512786989E12,
     "user": {
      "displayName": "Hossein Akhlaghpour",
      "photoUrl": "https://lh4.googleusercontent.com/-mlpqFUaVkFg/AAAAAAAAAAI/AAAAAAAACmQ/pK_v5G4eX5g/s64/photo.jpg",
      "userId": "12694174172773933543"
     },
     "user_tz": 420.0
    },
    "id": "rxHUoabn9tFd",
    "outputId": "f84f1db0-5a3b-4e40-d5c7-5b9e8af02926"
   },
   "outputs": [],
   "source": [
    "!pip install tensorflow==2.0.0-alpha"
   ]
  },
  {
   "cell_type": "code",
   "execution_count": null,
   "metadata": {
    "colab": {},
    "colab_type": "code",
    "id": "13KZ4Jnw_hZx"
   },
   "outputs": [],
   "source": [
    "import tensorflow as tf\n",
    "\n",
    "mnist = tf.keras.datasets.mnist \n",
    "(x_train,y_train), (x_test,y_test) = mnist.load_data()\n",
    "x_test = x_test / 255.\n",
    "x_train = x_train / 255."
   ]
  },
  {
   "cell_type": "code",
   "execution_count": null,
   "metadata": {
    "colab": {},
    "colab_type": "code",
    "id": "1LcqqUblBM_s"
   },
   "outputs": [],
   "source": [
    "from tensorflow.keras import Sequential\n",
    "from tensorflow.keras.layers import Dense, Flatten, Dropout, Conv2D, MaxPooling2D\n",
    "from tensorflow.nn import relu, softmax\n",
    "from tensorflow.keras.backend import sparse_categorical_crossentropy\n",
    "\n",
    "\n",
    "model = Sequential([\n",
    "    Flatten(input_shape=(28,28)),\n",
    "    Dense(128, activation=relu),\n",
    "    Dropout(0.2),\n",
    "    Dense(10,  activation=softmax)\n",
    "])\n",
    "\n",
    "model.compile(optimizer='adam',\n",
    "              loss=sparse_categorical_crossentropy,\n",
    "              metrics=['accuracy']\n",
    ")"
   ]
  },
  {
   "cell_type": "code",
   "execution_count": null,
   "metadata": {
    "colab": {
     "base_uri": "https://localhost:8080/",
     "height": 221.0
    },
    "colab_type": "code",
    "executionInfo": {
     "elapsed": 29302.0,
     "status": "ok",
     "timestamp": 1.552514507534E12,
     "user": {
      "displayName": "Hossein Akhlaghpour",
      "photoUrl": "https://lh4.googleusercontent.com/-mlpqFUaVkFg/AAAAAAAAAAI/AAAAAAAACmQ/pK_v5G4eX5g/s64/photo.jpg",
      "userId": "12694174172773933543"
     },
     "user_tz": 420.0
    },
    "id": "1H0185IXEYiz",
    "outputId": "58e988a7-0138-4bd9-88a5-ec060a19011c"
   },
   "outputs": [],
   "source": [
    "model.fit(x_train, y_train,epochs=5)\n",
    "model.evaluate(x_test, y_test)\n"
   ]
  },
  {
   "cell_type": "markdown",
   "metadata": {
    "colab_type": "text",
    "id": "WwdWlz4wpTPP"
   },
   "source": []
  }
 ],
 "metadata": {
  "colab": {
   "name": "Untitled",
   "provenance": [],
   "version": "0.3.2"
  },
  "kernelspec": {
   "display_name": "Python 3",
   "language": "python",
   "name": "python3"
  },
  "language_info": {
   "codemirror_mode": {
    "name": "ipython",
    "version": 3
   },
   "file_extension": ".py",
   "mimetype": "text/x-python",
   "name": "python",
   "nbconvert_exporter": "python",
   "pygments_lexer": "ipython3",
   "version": "3.5.2"
  }
 },
 "nbformat": 4,
 "nbformat_minor": 1
}
