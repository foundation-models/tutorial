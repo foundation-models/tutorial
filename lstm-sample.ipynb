{
 "cells": [
  {
   "cell_type": "code",
   "execution_count": 1,
   "metadata": {
    "collapsed": true
   },
   "outputs": [
    {
     "name": "stdout",
     "output_type": "stream",
     "text": [
      "1.14.1-dev20190307\n"
     ]
    }
   ],
   "source": [
    "import tensorflow as tf\n",
    "\n",
    "print(tf.__version__)\n",
    "\n"
   ]
  },
  {
   "cell_type": "code",
   "execution_count": 3,
   "metadata": {},
   "outputs": [],
   "source": [
    "import pandas as pd\n",
    "\n",
    "data = pd.read_csv('data/creditcard.csv.zip', compression='zip', skiprows=[0], header=None)"
   ]
  },
  {
   "cell_type": "code",
   "execution_count": 4,
   "metadata": {},
   "outputs": [],
   "source": [
    "features = data.iloc[:, 1:30]\n",
    "labels = data.iloc[:, -1]"
   ]
  },
  {
   "cell_type": "code",
   "execution_count": 5,
   "metadata": {},
   "outputs": [
    {
     "name": "stdout",
     "output_type": "stream",
     "text": [
      "    0         1         2         3         4         5         6         7   \\\n0  0.0 -1.359807 -0.072781  2.536347  1.378155 -0.338321  0.462388  0.239599   \n1  0.0  1.191857  0.266151  0.166480  0.448154  0.060018 -0.082361 -0.078803   \n2  1.0 -1.358354 -1.340163  1.773209  0.379780 -0.503198  1.800499  0.791461   \n\n         8         9   ...        21        22        23        24        25  \\\n0  0.098698  0.363787  ... -0.018307  0.277838 -0.110474  0.066928  0.128539   \n1  0.085102 -0.255425  ... -0.225775 -0.638672  0.101288 -0.339846  0.167170   \n2  0.247676 -1.514654  ...  0.247998  0.771679  0.909412 -0.689281 -0.327642   \n\n         26        27        28      29  30  \n0 -0.189115  0.133558 -0.021053  149.62   0  \n1  0.125895 -0.008983  0.014724    2.69   0  \n2 -0.139097 -0.055353 -0.059752  378.66   0  \n\n[3 rows x 31 columns]\n         1         2         3         4         5         6         7   \\\n0 -1.359807 -0.072781  2.536347  1.378155 -0.338321  0.462388  0.239599   \n1  1.191857  0.266151  0.166480  0.448154  0.060018 -0.082361 -0.078803   \n2 -1.358354 -1.340163  1.773209  0.379780 -0.503198  1.800499  0.791461   \n\n         8         9         10  ...        20        21        22        23  \\\n0  0.098698  0.363787  0.090794  ...  0.251412 -0.018307  0.277838 -0.110474   \n1  0.085102 -0.255425 -0.166974  ... -0.069083 -0.225775 -0.638672  0.101288   \n2  0.247676 -1.514654  0.207643  ...  0.524980  0.247998  0.771679  0.909412   \n\n         24        25        26        27        28      29  \n0  0.066928  0.128539 -0.189115  0.133558 -0.021053  149.62  \n1 -0.339846  0.167170  0.125895 -0.008983  0.014724    2.69  \n2 -0.689281 -0.327642 -0.139097 -0.055353 -0.059752  378.66  \n\n[3 rows x 29 columns]\n0    0\n1    0\n2    0\nName: 30, dtype: int64\n"
     ]
    }
   ],
   "source": [
    "print(data[:3])\n",
    "print(features[:3])\n",
    "print(labels[:3])"
   ]
  },
  {
   "cell_type": "code",
   "execution_count": 6,
   "metadata": {},
   "outputs": [],
   "source": [
    "from sklearn.model_selection import train_test_split\n",
    "\n",
    "X_train,X_test,y_train,y_test = train_test_split(features, labels, test_size=0.2, shuffle=False, random_state=42)"
   ]
  },
  {
   "cell_type": "code",
   "execution_count": 7,
   "metadata": {},
   "outputs": [],
   "source": [
    "n_features = 29\n",
    "\n",
    "xplaceholder= tf.placeholder('float',[None,n_features])\n",
    "yplaceholder = tf.placeholder('float')\n",
    "\n",
    "# for TF 2.0\n",
    "#xplaceholder= tf.Variable(n_features)\n",
    "#yplaceholder = tf.Variable('float')\n",
    "\n",
    "\n"
   ]
  },
  {
   "cell_type": "code",
   "execution_count": null,
   "metadata": {},
   "outputs": [],
   "source": [
    "from tensorflow.contrib import rnn\n",
    "import numpy as np\n",
    "from sklearn.metrics import f1_score, accuracy_score, recall_score, precision_score\n",
    "\n",
    "epochs = 8\n",
    "n_classes = 1\n",
    "n_units = 200\n",
    "batch_size = 35\n",
    "\n",
    "def recurrent_neural_network_model():\n",
    "    layer ={ 'weights': tf.Variable(tf.random_normal([n_units, n_classes])),'bias': tf.Variable(tf.random_normal([n_classes]))}\n",
    "\n",
    "    x = tf.split(xplaceholder, n_features, 1)\n",
    "    print(x)\n",
    "\n",
    "    lstm_cell = rnn.BasicLSTMCell(n_units)\n",
    "    \n",
    "    outputs, states = rnn.static_rnn(lstm_cell, x, dtype=tf.float32)\n",
    "   \n",
    "    output = tf.matmul(outputs[-1], layer['weights']) + layer['bias']\n",
    "\n",
    "    return output\n",
    "\n",
    "def train_neural_network():\n",
    "    logit = recurrent_neural_network_model()\n",
    "    logit = tf.reshape(logit, [-1])\n",
    "\n",
    "    cost = tf.reduce_mean(tf.nn.sigmoid_cross_entropy_with_logits(logits=logit, labels=yplaceholder))\n",
    "    optimizer = tf.train.AdamOptimizer().minimize(cost)\n",
    "\n",
    "    with tf.Session() as sess:\n",
    "\n",
    "        tf.global_variables_initializer().run()\n",
    "        tf.local_variables_initializer().run()\n",
    "\n",
    "        for epoch in range(epochs):\n",
    "            epoch_loss = 0\n",
    "\n",
    "            i = 0\n",
    "            for i in range(int(len(X_train) / batch_size)):\n",
    "\n",
    "                start = i\n",
    "                end = i + batch_size\n",
    "\n",
    "                batch_x = np.array(X_train[start:end])\n",
    "                batch_y = np.array(y_train[start:end])\n",
    "                \n",
    "                _, c = sess.run([optimizer, cost], feed_dict={xplaceholder: batch_x, yplaceholder: batch_y})\n",
    "                epoch_loss += c\n",
    "                i += batch_size\n",
    "\n",
    "            print('Epoch', epoch, 'completed out of', epochs, 'loss:', epoch_loss)\n",
    "\n",
    "        pred = tf.round(tf.nn.sigmoid(logit)).eval({xplaceholder: np.array(X_test), yplaceholder: np.array(y_test)})\n",
    "        f1 = f1_score(np.array(y_test), pred, average='macro')\n",
    "        accuracy=accuracy_score(np.array(y_test), pred)\n",
    "        recall = recall_score(y_true=np.array(y_test), y_pred= pred)\n",
    "        precision = precision_score(y_true=np.array(y_test), y_pred=pred)\n",
    "        print(\"F1 Score:\", f1)\n",
    "        print(\"Accuracy Score:\",accuracy)\n",
    "        print(\"Recall:\", recall)\n",
    "        print(\"Precision:\", precision)\n",
    "\n",
    "#clear you computational graph\n",
    "#tf.reset_default_graph()\n",
    "train_neural_network()\n",
    "\n",
    "\n",
    "\n",
    "\n"
   ]
  }
 ],
 "metadata": {
  "kernelspec": {
   "display_name": "Python 2",
   "language": "python",
   "name": "python2"
  },
  "language_info": {
   "codemirror_mode": {
    "name": "ipython",
    "version": 2
   },
   "file_extension": ".py",
   "mimetype": "text/x-python",
   "name": "python",
   "nbconvert_exporter": "python",
   "pygments_lexer": "ipython2",
   "version": "2.7.6"
  }
 },
 "nbformat": 4,
 "nbformat_minor": 0
}
