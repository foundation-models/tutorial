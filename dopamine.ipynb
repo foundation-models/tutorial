{
 "cells": [
  {
   "cell_type": "code",
   "execution_count": 11,
   "metadata": {
    "collapsed": true
   },
   "outputs": [],
   "source": [
    "import datetime\n",
    "import os\n",
    "import shutil\n",
    "\n",
    "\n",
    "\n",
    "from absl import flags\n",
    "from dopamine.discrete_domains import train\n",
    "import tensorflow as tf\n",
    "\n",
    "import sys\n",
    "sys.argv = \"f\".split(\" \")\n",
    "# Note the space at the beginning\n",
    "\n",
    "\n",
    "FLAGS = flags.FLAGS\n",
    "\n",
    "\n"
   ]
  },
  {
   "cell_type": "code",
   "execution_count": 12,
   "metadata": {},
   "outputs": [
    {
     "name": "stderr",
     "output_type": "stream",
     "text": [
      "Running tests under Python 3.5.2: /usr/bin/python3\n[ RUN      ] AtariInitTest.test_atari_init\n[  FAILED  ] AtariInitTest.test_atari_init\n[ RUN      ] AtariInitTest.test_session\nW0309 02:52:51.112329 139674336716544 deprecation.py:323] From /usr/lib/python3.5/contextlib.py:38: TensorFlowTestCase.test_session (from tensorflow.python.framework.test_util) is deprecated and will be removed in a future version.\nInstructions for updating:\nUse `self.session()` or `self.cached_session()` instead.\n"
     ]
    },
    {
     "name": "stderr",
     "output_type": "stream",
     "text": [
      "[       OK ] AtariInitTest.test_session\n======================================================================\nERROR: test_atari_init (__main__.AtariInitTest)\ntest_atari_init (__main__.AtariInitTest)\nTests that a DQN agent is initialized.\n----------------------------------------------------------------------\nTraceback (most recent call last):\n  File \"<ipython-input-12-18fe0c6cd312>\", line 17, in test_atari_init\n    train.main([])\n  File \"/tf/dopamine/dopamine/discrete_domains/train.py\", line 54, in main\n    run_experiment.load_gin_configs(FLAGS.gin_files, FLAGS.gin_bindings)\n  File \"/tf/dopamine/dopamine/discrete_domains/run_experiment.py\", line 50, in load_gin_configs\n    skip_unknown=False)\n  File \"/usr/local/lib/python3.5/dist-packages/gin/config.py\", line 1470, in parse_config_files_and_bindings\n    parse_config_file(config_file, skip_unknown)\n  File \"/usr/local/lib/python3.5/dist-packages/gin/config.py\", line 1438, in parse_config_file\n    raise IOError('Unable to open file: {}'.format(config_file))\nOSError: Unable to open file: dopamine/agents/dqn/configs/dqn.gin\n\n----------------------------------------------------------------------\nRan 2 tests in 0.010s\n\nFAILED (errors=1)\n"
     ]
    },
    {
     "ename": "SystemExit",
     "evalue": "True",
     "traceback": [
      "An exception has occurred, use %tb to see the full traceback.\n",
      "\u001b[0;31mSystemExit\u001b[0m\u001b[0;31m:\u001b[0m True\n"
     ],
     "output_type": "error"
    },
    {
     "name": "stderr",
     "output_type": "stream",
     "text": [
      "/usr/local/lib/python3.5/dist-packages/IPython/core/interactiveshell.py:3299: UserWarning: To exit: use 'exit', 'quit', or Ctrl-D.\n  warn(\"To exit: use 'exit', 'quit', or Ctrl-D.\", stacklevel=1)\n"
     ]
    }
   ],
   "source": [
    "class AtariInitTest(tf.test.TestCase):\n",
    "\n",
    "  def setUp(self):\n",
    "    FLAGS.base_dir = os.path.join(\n",
    "        '/tmp/dopamine_tests',\n",
    "        datetime.datetime.utcnow().strftime('run_%Y_%m_%d_%H_%M_%S'))\n",
    "    FLAGS.gin_files = ['dopamine/agents/dqn/configs/dqn.gin']\n",
    "    # `num_iterations` set to zero to prevent runner execution.\n",
    "    FLAGS.gin_bindings = [\n",
    "        'Runner.num_iterations=0',\n",
    "        'WrappedReplayBuffer.replay_capacity = 100'  # To prevent OOM.\n",
    "    ]\n",
    "    FLAGS.alsologtostderr = True\n",
    "\n",
    "  def test_atari_init(self):\n",
    "    \"\"\"Tests that a DQN agent is initialized.\"\"\"\n",
    "    train.main([])\n",
    "    shutil.rmtree(FLAGS.base_dir)\n",
    "      \n",
    "      \n",
    "if __name__ == '__main__':\n",
    "  tf.test.main()\n",
    "\n"
   ]
  },
  {
   "cell_type": "code",
   "execution_count": null,
   "metadata": {},
   "outputs": [],
   "source": []
  }
 ],
 "metadata": {
  "kernelspec": {
   "display_name": "Python 2",
   "language": "python",
   "name": "python2"
  },
  "language_info": {
   "codemirror_mode": {
    "name": "ipython",
    "version": 2
   },
   "file_extension": ".py",
   "mimetype": "text/x-python",
   "name": "python",
   "nbconvert_exporter": "python",
   "pygments_lexer": "ipython2",
   "version": "2.7.6"
  }
 },
 "nbformat": 4,
 "nbformat_minor": 0
}
