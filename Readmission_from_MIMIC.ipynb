{
  "nbformat": 4,
  "nbformat_minor": 0,
  "metadata": {
    "colab": {
      "name": "Readmission from MIMIC.ipynb",
      "version": "0.3.2",
      "provenance": [],
      "collapsed_sections": [
        "QAMRRXuNpFgc",
        "23kVibC2pFia",
        "kOl2g-PUpFi0",
        "Ag4cjR2VpFkT",
        "VzkroTYEpFlN",
        "MKBFMI4XpFlw",
        "sMGcB_vHpFmH",
        "1d9OmiVtpFm6",
        "S8lD760_pFnL",
        "B9-AVs97pFn5",
        "7L1-X968pFpB"
      ],
      "include_colab_link": true
    },
    "language_info": {
      "codemirror_mode": {
        "name": "ipython",
        "version": 3
      },
      "file_extension": ".py",
      "mimetype": "text/x-python",
      "name": "python",
      "nbconvert_exporter": "python",
      "pygments_lexer": "ipython3",
      "version": "3.6.1"
    },
    "kernelspec": {
      "name": "python3",
      "display_name": "Python 3"
    },
    "accelerator": "GPU"
  },
  "cells": [
    {
      "cell_type": "markdown",
      "metadata": {
        "id": "view-in-github",
        "colab_type": "text"
      },
      "source": [
        "<a href=\"https://colab.research.google.com/github/hossein20s/tutorial/blob/master/Readmission_from_MIMIC.ipynb\" target=\"_parent\"><img src=\"https://colab.research.google.com/assets/colab-badge.svg\" alt=\"Open In Colab\"/></a>"
      ]
    },
    {
      "metadata": {
        "id": "_ofxVGiupFOT",
        "colab_type": "text"
      },
      "cell_type": "markdown",
      "source": [
        "Doctors have always written clinical notes about their patients - originally, the notes were on paper and were locked away in a cabinet. Fortunately for data scientists, doctors now enter their notes in an electronic medical record. These notes represent a vast wealth of knowledge and insight that can be utilized for predictive models using Natural Language Processing (NLP) to improve patient care and hospital workflow."
      ]
    },
    {
      "metadata": {
        "id": "kNiiqoZ8pFOw",
        "colab_type": "text"
      },
      "cell_type": "markdown",
      "source": [
        "This notebook is intended for people interested in healthcare data science and predictive modeling and will help you learn\n",
        "- How to prepare data for a machine learning project\n",
        "- How to preprocess the unstructured notes\n",
        "- How to build a simple predictive model using a bag-of-words approach\n",
        "- How to assess the quality of your model\n",
        "- How to decide the next step for improving the model"
      ]
    },
    {
      "metadata": {
        "id": "d9VjIrOUpFO5",
        "colab_type": "text"
      },
      "cell_type": "markdown",
      "source": [
        "I recently read this great paper \"Scalable and accurate deep learning for electronic health records\" by Rajkomar et al. (paper at https://arxiv.org/abs/1801.07860). The authors built many state-of-the-art deep learning models with hospital data to predict in-hospital mortality (AUC = 0.93–0.94), 30-day unplanned readmission (AUC = 0.75–76), prolonged length of stay (AUC = 0.85–0.86) and discharge diagnoses (AUC = 0.90). AUC is a data science performance metric (more about this below) where closer to 1 is better. It is clear that predicting readmission is the hardest task since it has a lower AUC. I was curious how good of a model we can get if use the discharge free-text summaries with a simple predictive model."
      ]
    },
    {
      "metadata": {
        "id": "2e1dQa2RpFPC",
        "colab_type": "text"
      },
      "cell_type": "markdown",
      "source": [
        "# Model definition"
      ]
    },
    {
      "metadata": {
        "id": "kbGkh34zpFPJ",
        "colab_type": "text"
      },
      "cell_type": "markdown",
      "source": [
        "Predict which patients are at risk for 30-day unplanned readmission utilizing free-text hospital discharge summaries."
      ]
    },
    {
      "metadata": {
        "id": "FwgZVqUtpFPQ",
        "colab_type": "text"
      },
      "cell_type": "markdown",
      "source": [
        "# Data set"
      ]
    },
    {
      "metadata": {
        "id": "F-jURw2vpFPV",
        "colab_type": "text"
      },
      "cell_type": "markdown",
      "source": [
        "We will utilize the MIMIC-III (Medical Information Mart for Intensive Care III), an amazing free hospital database. This database contains de-identified data from over 40,000 patients who were admitted to Beth Israel Deaconess Medical Center in Boston, Massachusetts from 2001 to 2012. In order to get access to the data for this project, you will need to request access at this link (https://mimic.physionet.org/gettingstarted/access/)."
      ]
    },
    {
      "metadata": {
        "id": "flJnyV4RpFPb",
        "colab_type": "text"
      },
      "cell_type": "markdown",
      "source": [
        "In this project, we will make use of the following MIMIC tables\n",
        "- ADMISSIONS - a table containing admission and discharge dates (has a unique identifier HADM_ID for each admission)\n",
        "- NOTEEVENTS - contains all notes for each hospitalization (links with HADM_ID)"
      ]
    },
    {
      "metadata": {
        "id": "-Dv50V3spFPu",
        "colab_type": "text"
      },
      "cell_type": "markdown",
      "source": [
        "This notebook assumes that ADMISSIONS.csv and NOTEEVENTS.csv were downloaded and placed in the same folder as this notebook. \n",
        "\n",
        "Due to the restricted access, the github version of this code will not show any individual patient data. "
      ]
    },
    {
      "metadata": {
        "id": "6CaPjNu1pFPz",
        "colab_type": "text"
      },
      "cell_type": "markdown",
      "source": [
        "# Step 1. Prepare data"
      ]
    },
    {
      "metadata": {
        "id": "zLGVAJ_ypFP5",
        "colab_type": "text"
      },
      "cell_type": "markdown",
      "source": [
        "<img src=\"https://github.com/andrewwlong/mimic_bow/blob/master/step_1.jpg?raw=1\">"
      ]
    },
    {
      "metadata": {
        "id": "qRZD_4hfpFP_",
        "colab_type": "text"
      },
      "cell_type": "markdown",
      "source": [
        "## Load admissions table"
      ]
    },
    {
      "metadata": {
        "id": "8LuMet8T3dpR",
        "colab_type": "text"
      },
      "cell_type": "markdown",
      "source": [
        ""
      ]
    },
    {
      "metadata": {
        "id": "iX27yvdF3f9B",
        "colab_type": "code",
        "colab": {
          "base_uri": "https://localhost:8080/",
          "height": 258
        },
        "outputId": "02eebdaf-56ee-46db-9523-925865e23e75"
      },
      "cell_type": "code",
      "source": [
        "!pip install -U nltk\n",
        "import nltk"
      ],
      "execution_count": 1,
      "outputs": [
        {
          "output_type": "stream",
          "text": [
            "Collecting nltk\n",
            "\u001b[?25l  Downloading https://files.pythonhosted.org/packages/73/56/90178929712ce427ebad179f8dc46c8deef4e89d4c853092bee1efd57d05/nltk-3.4.1.zip (3.1MB)\n",
            "\r\u001b[K     |                                | 10kB 16.9MB/s eta 0:00:01\r\u001b[K     |▏                               | 20kB 1.2MB/s eta 0:00:03\r\u001b[K     |▎                               | 30kB 1.8MB/s eta 0:00:02\r\u001b[K     |▍                               | 40kB 1.2MB/s eta 0:00:03\r\u001b[K     |▌                               | 51kB 1.5MB/s eta 0:00:03\r\u001b[K     |▋                               | 61kB 1.8MB/s eta 0:00:02\r\u001b[K     |▊                               | 71kB 2.1MB/s eta 0:00:02\r\u001b[K     |▉                               | 81kB 2.4MB/s eta 0:00:02\r\u001b[K     |█                               | 92kB 2.6MB/s eta 0:00:02\r\u001b[K     |█                               | 102kB 2.0MB/s eta 0:00:02\r\u001b[K     |█▏                              | 112kB 2.0MB/s eta 0:00:02\r\u001b[K     |█▎                              | 122kB 2.0MB/s eta 0:00:02\r\u001b[K     |█▍                              | 133kB 2.0MB/s eta 0:00:02\r\u001b[K     |█▌                              | 143kB 2.0MB/s eta 0:00:02\r\u001b[K     |█▋                              | 153kB 2.0MB/s eta 0:00:02\r\u001b[K     |█▊                              | 163kB 2.0MB/s eta 0:00:02\r\u001b[K     |█▉                              | 174kB 2.0MB/s eta 0:00:02\r\u001b[K     |██                              | 184kB 2.0MB/s eta 0:00:02\r\u001b[K     |██                              | 194kB 2.0MB/s eta 0:00:02\r\u001b[K     |██▏                             | 204kB 2.0MB/s eta 0:00:02\r\u001b[K     |██▎                             | 215kB 2.0MB/s eta 0:00:02\r\u001b[K     |██▍                             | 225kB 2.0MB/s eta 0:00:02\r\u001b[K     |██▌                             | 235kB 2.0MB/s eta 0:00:02\r\u001b[K     |██▋                             | 245kB 2.0MB/s eta 0:00:02\r\u001b[K     |██▊                             | 256kB 2.0MB/s eta 0:00:02\r\u001b[K     |██▉                             | 266kB 2.0MB/s eta 0:00:02\r\u001b[K     |███                             | 276kB 2.0MB/s eta 0:00:02\r\u001b[K     |███                             | 286kB 2.0MB/s eta 0:00:02\r\u001b[K     |███                             | 296kB 2.0MB/s eta 0:00:02\r\u001b[K     |███▏                            | 307kB 2.0MB/s eta 0:00:02\r\u001b[K     |███▎                            | 317kB 2.0MB/s eta 0:00:02\r\u001b[K     |███▍                            | 327kB 2.0MB/s eta 0:00:02\r\u001b[K     |███▌                            | 337kB 2.0MB/s eta 0:00:02\r\u001b[K     |███▋                            | 348kB 2.0MB/s eta 0:00:02\r\u001b[K     |███▊                            | 358kB 2.0MB/s eta 0:00:02\r\u001b[K     |███▉                            | 368kB 2.0MB/s eta 0:00:02\r\u001b[K     |████                            | 378kB 2.0MB/s eta 0:00:02\r\u001b[K     |████                            | 389kB 2.0MB/s eta 0:00:02\r\u001b[K     |████▏                           | 399kB 2.0MB/s eta 0:00:02\r\u001b[K     |████▎                           | 409kB 2.0MB/s eta 0:00:02\r\u001b[K     |████▍                           | 419kB 2.0MB/s eta 0:00:02\r\u001b[K     |████▌                           | 430kB 2.0MB/s eta 0:00:02\r\u001b[K     |████▋                           | 440kB 2.0MB/s eta 0:00:02\r\u001b[K     |████▊                           | 450kB 2.0MB/s eta 0:00:02\r\u001b[K     |████▉                           | 460kB 2.0MB/s eta 0:00:02\r\u001b[K     |█████                           | 471kB 2.0MB/s eta 0:00:02\r\u001b[K     |█████                           | 481kB 2.0MB/s eta 0:00:02\r\u001b[K     |█████▏                          | 491kB 2.0MB/s eta 0:00:02\r\u001b[K     |█████▎                          | 501kB 2.0MB/s eta 0:00:02\r\u001b[K     |█████▍                          | 512kB 2.0MB/s eta 0:00:02\r\u001b[K     |█████▌                          | 522kB 2.0MB/s eta 0:00:02\r\u001b[K     |█████▋                          | 532kB 2.0MB/s eta 0:00:02\r\u001b[K     |█████▊                          | 542kB 2.0MB/s eta 0:00:02\r\u001b[K     |█████▉                          | 552kB 2.0MB/s eta 0:00:02\r\u001b[K     |██████                          | 563kB 2.0MB/s eta 0:00:02\r\u001b[K     |██████                          | 573kB 2.0MB/s eta 0:00:02\r\u001b[K     |██████                          | 583kB 2.0MB/s eta 0:00:02\r\u001b[K     |██████▏                         | 593kB 2.0MB/s eta 0:00:02\r\u001b[K     |██████▎                         | 604kB 2.0MB/s eta 0:00:02\r\u001b[K     |██████▍                         | 614kB 2.0MB/s eta 0:00:02\r\u001b[K     |██████▌                         | 624kB 2.0MB/s eta 0:00:02\r\u001b[K     |██████▋                         | 634kB 2.0MB/s eta 0:00:02\r\u001b[K     |██████▊                         | 645kB 2.0MB/s eta 0:00:02\r\u001b[K     |██████▉                         | 655kB 2.0MB/s eta 0:00:02\r\u001b[K     |███████                         | 665kB 2.0MB/s eta 0:00:02\r\u001b[K     |███████                         | 675kB 2.0MB/s eta 0:00:02\r\u001b[K     |███████▏                        | 686kB 2.0MB/s eta 0:00:02\r\u001b[K     |███████▎                        | 696kB 2.0MB/s eta 0:00:02\r\u001b[K     |███████▍                        | 706kB 2.0MB/s eta 0:00:02\r\u001b[K     |███████▌                        | 716kB 2.0MB/s eta 0:00:02\r\u001b[K     |███████▋                        | 727kB 2.0MB/s eta 0:00:02\r\u001b[K     |███████▊                        | 737kB 2.0MB/s eta 0:00:02\r\u001b[K     |███████▉                        | 747kB 2.0MB/s eta 0:00:02\r\u001b[K     |████████                        | 757kB 2.0MB/s eta 0:00:02\r\u001b[K     |████████                        | 768kB 2.0MB/s eta 0:00:02\r\u001b[K     |████████▏                       | 778kB 2.0MB/s eta 0:00:02\r\u001b[K     |████████▎                       | 788kB 2.0MB/s eta 0:00:02\r\u001b[K     |████████▍                       | 798kB 2.0MB/s eta 0:00:02\r\u001b[K     |████████▌                       | 808kB 2.0MB/s eta 0:00:02\r\u001b[K     |████████▋                       | 819kB 2.0MB/s eta 0:00:02\r\u001b[K     |████████▊                       | 829kB 2.0MB/s eta 0:00:02\r\u001b[K     |████████▉                       | 839kB 2.0MB/s eta 0:00:02\r\u001b[K     |█████████                       | 849kB 2.0MB/s eta 0:00:02\r\u001b[K     |█████████                       | 860kB 2.0MB/s eta 0:00:02\r\u001b[K     |█████████                       | 870kB 2.0MB/s eta 0:00:02\r\u001b[K     |█████████▏                      | 880kB 2.0MB/s eta 0:00:02\r\u001b[K     |█████████▎                      | 890kB 2.0MB/s eta 0:00:02\r\u001b[K     |█████████▍                      | 901kB 2.0MB/s eta 0:00:02\r\u001b[K     |█████████▌                      | 911kB 2.0MB/s eta 0:00:02\r\u001b[K     |█████████▋                      | 921kB 2.0MB/s eta 0:00:02\r\u001b[K     |█████████▊                      | 931kB 2.0MB/s eta 0:00:02\r\u001b[K     |█████████▉                      | 942kB 2.0MB/s eta 0:00:02\r\u001b[K     |██████████                      | 952kB 2.0MB/s eta 0:00:02\r\u001b[K     |██████████                      | 962kB 2.0MB/s eta 0:00:02\r\u001b[K     |██████████▏                     | 972kB 2.0MB/s eta 0:00:02\r\u001b[K     |██████████▎                     | 983kB 2.0MB/s eta 0:00:02\r\u001b[K     |██████████▍                     | 993kB 2.0MB/s eta 0:00:02\r\u001b[K     |██████████▌                     | 1.0MB 2.0MB/s eta 0:00:02\r\u001b[K     |██████████▋                     | 1.0MB 2.0MB/s eta 0:00:02\r\u001b[K     |██████████▊                     | 1.0MB 2.0MB/s eta 0:00:02\r\u001b[K     |██████████▉                     | 1.0MB 2.0MB/s eta 0:00:02\r\u001b[K     |███████████                     | 1.0MB 2.0MB/s eta 0:00:02\r\u001b[K     |███████████                     | 1.1MB 2.0MB/s eta 0:00:02\r\u001b[K     |███████████▏                    | 1.1MB 2.0MB/s eta 0:00:01\r\u001b[K     |███████████▎                    | 1.1MB 2.0MB/s eta 0:00:01\r\u001b[K     |███████████▍                    | 1.1MB 2.0MB/s eta 0:00:01\r\u001b[K     |███████████▌                    | 1.1MB 2.0MB/s eta 0:00:01\r\u001b[K     |███████████▋                    | 1.1MB 2.0MB/s eta 0:00:01\r\u001b[K     |███████████▊                    | 1.1MB 2.0MB/s eta 0:00:01\r\u001b[K     |███████████▉                    | 1.1MB 2.0MB/s eta 0:00:01\r\u001b[K     |████████████                    | 1.1MB 2.0MB/s eta 0:00:01\r\u001b[K     |████████████                    | 1.1MB 2.0MB/s eta 0:00:01\r\u001b[K     |████████████                    | 1.2MB 2.0MB/s eta 0:00:01\r\u001b[K     |████████████▏                   | 1.2MB 2.0MB/s eta 0:00:01\r\u001b[K     |████████████▎                   | 1.2MB 2.0MB/s eta 0:00:01\r\u001b[K     |████████████▍                   | 1.2MB 2.0MB/s eta 0:00:01\r\u001b[K     |████████████▌                   | 1.2MB 2.0MB/s eta 0:00:01\r\u001b[K     |████████████▋                   | 1.2MB 2.0MB/s eta 0:00:01\r\u001b[K     |████████████▊                   | 1.2MB 2.0MB/s eta 0:00:01\r\u001b[K     |████████████▉                   | 1.2MB 2.0MB/s eta 0:00:01\r\u001b[K     |█████████████                   | 1.2MB 2.0MB/s eta 0:00:01\r\u001b[K     |█████████████                   | 1.2MB 2.0MB/s eta 0:00:01\r\u001b[K     |█████████████▏                  | 1.3MB 2.0MB/s eta 0:00:01\r\u001b[K     |█████████████▎                  | 1.3MB 2.0MB/s eta 0:00:01\r\u001b[K     |█████████████▍                  | 1.3MB 2.0MB/s eta 0:00:01\r\u001b[K     |█████████████▌                  | 1.3MB 2.0MB/s eta 0:00:01\r\u001b[K     |█████████████▋                  | 1.3MB 2.0MB/s eta 0:00:01\r\u001b[K     |█████████████▊                  | 1.3MB 2.0MB/s eta 0:00:01\r\u001b[K     |█████████████▉                  | 1.3MB 2.0MB/s eta 0:00:01\r\u001b[K     |██████████████                  | 1.3MB 2.0MB/s eta 0:00:01\r\u001b[K     |██████████████                  | 1.3MB 2.0MB/s eta 0:00:01\r\u001b[K     |██████████████▏                 | 1.4MB 2.0MB/s eta 0:00:01\r\u001b[K     |██████████████▎                 | 1.4MB 2.0MB/s eta 0:00:01\r\u001b[K     |██████████████▍                 | 1.4MB 2.0MB/s eta 0:00:01\r\u001b[K     |██████████████▌                 | 1.4MB 2.0MB/s eta 0:00:01\r\u001b[K     |██████████████▋                 | 1.4MB 2.0MB/s eta 0:00:01\r\u001b[K     |██████████████▊                 | 1.4MB 2.0MB/s eta 0:00:01\r\u001b[K     |██████████████▉                 | 1.4MB 2.0MB/s eta 0:00:01\r\u001b[K     |███████████████                 | 1.4MB 2.0MB/s eta 0:00:01\r\u001b[K     |███████████████                 | 1.4MB 2.0MB/s eta 0:00:01\r\u001b[K     |███████████████                 | 1.4MB 2.0MB/s eta 0:00:01\r\u001b[K     |███████████████▏                | 1.5MB 2.0MB/s eta 0:00:01\r\u001b[K     |███████████████▎                | 1.5MB 2.0MB/s eta 0:00:01\r\u001b[K     |███████████████▍                | 1.5MB 2.0MB/s eta 0:00:01\r\u001b[K     |███████████████▌                | 1.5MB 2.0MB/s eta 0:00:01\r\u001b[K     |███████████████▋                | 1.5MB 2.0MB/s eta 0:00:01\r\u001b[K     |███████████████▊                | 1.5MB 2.0MB/s eta 0:00:01\r\u001b[K     |███████████████▉                | 1.5MB 2.0MB/s eta 0:00:01\r\u001b[K     |████████████████                | 1.5MB 2.0MB/s eta 0:00:01\r\u001b[K     |████████████████                | 1.5MB 2.0MB/s eta 0:00:01\r\u001b[K     |████████████████▏               | 1.5MB 2.0MB/s eta 0:00:01\r\u001b[K     |████████████████▎               | 1.6MB 2.0MB/s eta 0:00:01\r\u001b[K     |████████████████▍               | 1.6MB 2.0MB/s eta 0:00:01\r\u001b[K     |████████████████▌               | 1.6MB 2.0MB/s eta 0:00:01\r\u001b[K     |████████████████▋               | 1.6MB 2.0MB/s eta 0:00:01\r\u001b[K     |████████████████▊               | 1.6MB 2.0MB/s eta 0:00:01\r\u001b[K     |████████████████▉               | 1.6MB 2.0MB/s eta 0:00:01\r\u001b[K     |█████████████████               | 1.6MB 2.0MB/s eta 0:00:01\r\u001b[K     |█████████████████               | 1.6MB 2.0MB/s eta 0:00:01\r\u001b[K     |█████████████████▏              | 1.6MB 2.0MB/s eta 0:00:01\r\u001b[K     |█████████████████▎              | 1.6MB 2.0MB/s eta 0:00:01\r\u001b[K     |█████████████████▍              | 1.7MB 2.0MB/s eta 0:00:01\r\u001b[K     |█████████████████▌              | 1.7MB 2.0MB/s eta 0:00:01\r\u001b[K     |█████████████████▋              | 1.7MB 2.0MB/s eta 0:00:01\r\u001b[K     |█████████████████▊              | 1.7MB 2.0MB/s eta 0:00:01\r\u001b[K     |█████████████████▉              | 1.7MB 2.0MB/s eta 0:00:01\r\u001b[K     |██████████████████              | 1.7MB 2.0MB/s eta 0:00:01\r\u001b[K     |██████████████████              | 1.7MB 2.0MB/s eta 0:00:01\r\u001b[K     |██████████████████              | 1.7MB 2.0MB/s eta 0:00:01\r\u001b[K     |██████████████████▏             | 1.7MB 2.0MB/s eta 0:00:01\r\u001b[K     |██████████████████▎             | 1.8MB 2.0MB/s eta 0:00:01\r\u001b[K     |██████████████████▍             | 1.8MB 2.0MB/s eta 0:00:01\r\u001b[K     |██████████████████▌             | 1.8MB 2.0MB/s eta 0:00:01\r\u001b[K     |██████████████████▋             | 1.8MB 2.0MB/s eta 0:00:01\r\u001b[K     |██████████████████▊             | 1.8MB 2.0MB/s eta 0:00:01\r\u001b[K     |██████████████████▉             | 1.8MB 2.0MB/s eta 0:00:01\r\u001b[K     |███████████████████             | 1.8MB 2.0MB/s eta 0:00:01\r\u001b[K     |███████████████████             | 1.8MB 2.0MB/s eta 0:00:01\r\u001b[K     |███████████████████▏            | 1.8MB 2.0MB/s eta 0:00:01\r\u001b[K     |███████████████████▎            | 1.8MB 2.0MB/s eta 0:00:01\r\u001b[K     |███████████████████▍            | 1.9MB 2.0MB/s eta 0:00:01\r\u001b[K     |███████████████████▌            | 1.9MB 2.0MB/s eta 0:00:01\r\u001b[K     |███████████████████▋            | 1.9MB 2.0MB/s eta 0:00:01\r\u001b[K     |███████████████████▊            | 1.9MB 2.0MB/s eta 0:00:01\r\u001b[K     |███████████████████▉            | 1.9MB 2.0MB/s eta 0:00:01\r\u001b[K     |████████████████████            | 1.9MB 2.0MB/s eta 0:00:01\r\u001b[K     |████████████████████            | 1.9MB 2.0MB/s eta 0:00:01\r\u001b[K     |████████████████████▏           | 1.9MB 2.0MB/s eta 0:00:01\r\u001b[K     |████████████████████▎           | 1.9MB 2.0MB/s eta 0:00:01\r\u001b[K     |████████████████████▍           | 1.9MB 2.0MB/s eta 0:00:01\r\u001b[K     |████████████████████▌           | 2.0MB 2.0MB/s eta 0:00:01\r\u001b[K     |████████████████████▋           | 2.0MB 2.0MB/s eta 0:00:01\r\u001b[K     |████████████████████▊           | 2.0MB 2.0MB/s eta 0:00:01\r\u001b[K     |████████████████████▉           | 2.0MB 2.0MB/s eta 0:00:01\r\u001b[K     |█████████████████████           | 2.0MB 2.0MB/s eta 0:00:01\r\u001b[K     |█████████████████████           | 2.0MB 2.0MB/s eta 0:00:01\r\u001b[K     |█████████████████████           | 2.0MB 2.0MB/s eta 0:00:01\r\u001b[K     |█████████████████████▏          | 2.0MB 2.0MB/s eta 0:00:01\r\u001b[K     |█████████████████████▎          | 2.0MB 2.0MB/s eta 0:00:01\r\u001b[K     |█████████████████████▍          | 2.0MB 2.0MB/s eta 0:00:01\r\u001b[K     |█████████████████████▌          | 2.1MB 2.0MB/s eta 0:00:01\r\u001b[K     |█████████████████████▋          | 2.1MB 2.0MB/s eta 0:00:01\r\u001b[K     |█████████████████████▊          | 2.1MB 2.0MB/s eta 0:00:01\r\u001b[K     |█████████████████████▉          | 2.1MB 2.0MB/s eta 0:00:01\r\u001b[K     |██████████████████████          | 2.1MB 2.0MB/s eta 0:00:01\r\u001b[K     |██████████████████████          | 2.1MB 2.0MB/s eta 0:00:01\r\u001b[K     |██████████████████████▏         | 2.1MB 2.0MB/s eta 0:00:01\r\u001b[K     |██████████████████████▎         | 2.1MB 2.0MB/s eta 0:00:01\r\u001b[K     |██████████████████████▍         | 2.1MB 2.0MB/s eta 0:00:01\r\u001b[K     |██████████████████████▌         | 2.2MB 2.0MB/s eta 0:00:01\r\u001b[K     |██████████████████████▋         | 2.2MB 2.0MB/s eta 0:00:01\r\u001b[K     |██████████████████████▊         | 2.2MB 2.0MB/s eta 0:00:01\r\u001b[K     |██████████████████████▉         | 2.2MB 2.0MB/s eta 0:00:01\r\u001b[K     |███████████████████████         | 2.2MB 2.0MB/s eta 0:00:01\r\u001b[K     |███████████████████████         | 2.2MB 2.0MB/s eta 0:00:01\r\u001b[K     |███████████████████████▏        | 2.2MB 2.0MB/s eta 0:00:01\r\u001b[K     |███████████████████████▎        | 2.2MB 2.0MB/s eta 0:00:01\r\u001b[K     |███████████████████████▍        | 2.2MB 2.0MB/s eta 0:00:01\r\u001b[K     |███████████████████████▌        | 2.2MB 2.0MB/s eta 0:00:01\r\u001b[K     |███████████████████████▋        | 2.3MB 2.0MB/s eta 0:00:01\r\u001b[K     |███████████████████████▊        | 2.3MB 2.0MB/s eta 0:00:01\r\u001b[K     |███████████████████████▉        | 2.3MB 2.0MB/s eta 0:00:01\r\u001b[K     |████████████████████████        | 2.3MB 2.0MB/s eta 0:00:01\r\u001b[K     |████████████████████████        | 2.3MB 2.0MB/s eta 0:00:01\r\u001b[K     |████████████████████████        | 2.3MB 2.0MB/s eta 0:00:01\r\u001b[K     |████████████████████████▏       | 2.3MB 2.0MB/s eta 0:00:01\r\u001b[K     |████████████████████████▎       | 2.3MB 2.0MB/s eta 0:00:01\r\u001b[K     |████████████████████████▍       | 2.3MB 2.0MB/s eta 0:00:01\r\u001b[K     |████████████████████████▌       | 2.3MB 2.0MB/s eta 0:00:01\r\u001b[K     |████████████████████████▋       | 2.4MB 2.0MB/s eta 0:00:01\r\u001b[K     |████████████████████████▊       | 2.4MB 2.0MB/s eta 0:00:01\r\u001b[K     |████████████████████████▉       | 2.4MB 2.0MB/s eta 0:00:01\r\u001b[K     |█████████████████████████       | 2.4MB 2.0MB/s eta 0:00:01\r\u001b[K     |█████████████████████████       | 2.4MB 2.0MB/s eta 0:00:01\r\u001b[K     |█████████████████████████▏      | 2.4MB 2.0MB/s eta 0:00:01\r\u001b[K     |█████████████████████████▎      | 2.4MB 2.0MB/s eta 0:00:01\r\u001b[K     |█████████████████████████▍      | 2.4MB 2.0MB/s eta 0:00:01\r\u001b[K     |█████████████████████████▌      | 2.4MB 2.0MB/s eta 0:00:01\r\u001b[K     |█████████████████████████▋      | 2.4MB 2.0MB/s eta 0:00:01\r\u001b[K     |█████████████████████████▊      | 2.5MB 2.0MB/s eta 0:00:01\r\u001b[K     |█████████████████████████▉      | 2.5MB 2.0MB/s eta 0:00:01\r\u001b[K     |██████████████████████████      | 2.5MB 2.0MB/s eta 0:00:01\r\u001b[K     |██████████████████████████      | 2.5MB 2.0MB/s eta 0:00:01\r\u001b[K     |██████████████████████████▏     | 2.5MB 2.0MB/s eta 0:00:01\r\u001b[K     |██████████████████████████▎     | 2.5MB 2.0MB/s eta 0:00:01\r\u001b[K     |██████████████████████████▍     | 2.5MB 2.0MB/s eta 0:00:01\r\u001b[K     |██████████████████████████▌     | 2.5MB 2.0MB/s eta 0:00:01\r\u001b[K     |██████████████████████████▋     | 2.5MB 2.0MB/s eta 0:00:01\r\u001b[K     |██████████████████████████▊     | 2.5MB 2.0MB/s eta 0:00:01\r\u001b[K     |██████████████████████████▉     | 2.6MB 2.0MB/s eta 0:00:01\r\u001b[K     |███████████████████████████     | 2.6MB 2.0MB/s eta 0:00:01\r\u001b[K     |███████████████████████████     | 2.6MB 2.0MB/s eta 0:00:01\r\u001b[K     |███████████████████████████     | 2.6MB 2.0MB/s eta 0:00:01\r\u001b[K     |███████████████████████████▏    | 2.6MB 2.0MB/s eta 0:00:01\r\u001b[K     |███████████████████████████▎    | 2.6MB 2.0MB/s eta 0:00:01\r\u001b[K     |███████████████████████████▍    | 2.6MB 2.0MB/s eta 0:00:01\r\u001b[K     |███████████████████████████▌    | 2.6MB 2.0MB/s eta 0:00:01\r\u001b[K     |███████████████████████████▋    | 2.6MB 2.0MB/s eta 0:00:01\r\u001b[K     |███████████████████████████▊    | 2.7MB 2.0MB/s eta 0:00:01\r\u001b[K     |███████████████████████████▉    | 2.7MB 2.0MB/s eta 0:00:01\r\u001b[K     |████████████████████████████    | 2.7MB 2.0MB/s eta 0:00:01\r\u001b[K     |████████████████████████████    | 2.7MB 2.0MB/s eta 0:00:01\r\u001b[K     |████████████████████████████▏   | 2.7MB 2.0MB/s eta 0:00:01\r\u001b[K     |████████████████████████████▎   | 2.7MB 2.0MB/s eta 0:00:01\r\u001b[K     |████████████████████████████▍   | 2.7MB 2.0MB/s eta 0:00:01\r\u001b[K     |████████████████████████████▌   | 2.7MB 2.0MB/s eta 0:00:01\r\u001b[K     |████████████████████████████▋   | 2.7MB 2.0MB/s eta 0:00:01\r\u001b[K     |████████████████████████████▊   | 2.7MB 2.0MB/s eta 0:00:01\r\u001b[K     |████████████████████████████▉   | 2.8MB 2.0MB/s eta 0:00:01\r\u001b[K     |█████████████████████████████   | 2.8MB 2.0MB/s eta 0:00:01\r\u001b[K     |█████████████████████████████   | 2.8MB 2.0MB/s eta 0:00:01\r\u001b[K     |█████████████████████████████▏  | 2.8MB 2.0MB/s eta 0:00:01\r\u001b[K     |█████████████████████████████▎  | 2.8MB 2.0MB/s eta 0:00:01\r\u001b[K     |█████████████████████████████▍  | 2.8MB 2.0MB/s eta 0:00:01\r\u001b[K     |█████████████████████████████▌  | 2.8MB 2.0MB/s eta 0:00:01\r\u001b[K     |█████████████████████████████▋  | 2.8MB 2.0MB/s eta 0:00:01\r\u001b[K     |█████████████████████████████▊  | 2.8MB 2.0MB/s eta 0:00:01\r\u001b[K     |█████████████████████████████▉  | 2.8MB 2.0MB/s eta 0:00:01\r\u001b[K     |██████████████████████████████  | 2.9MB 2.0MB/s eta 0:00:01\r\u001b[K     |██████████████████████████████  | 2.9MB 2.0MB/s eta 0:00:01\r\u001b[K     |██████████████████████████████  | 2.9MB 2.0MB/s eta 0:00:01\r\u001b[K     |██████████████████████████████▏ | 2.9MB 2.0MB/s eta 0:00:01\r\u001b[K     |██████████████████████████████▎ | 2.9MB 2.0MB/s eta 0:00:01\r\u001b[K     |██████████████████████████████▍ | 2.9MB 2.0MB/s eta 0:00:01\r\u001b[K     |██████████████████████████████▌ | 2.9MB 2.0MB/s eta 0:00:01\r\u001b[K     |██████████████████████████████▋ | 2.9MB 2.0MB/s eta 0:00:01\r\u001b[K     |██████████████████████████████▊ | 2.9MB 2.0MB/s eta 0:00:01\r\u001b[K     |██████████████████████████████▉ | 2.9MB 2.0MB/s eta 0:00:01\r\u001b[K     |███████████████████████████████ | 3.0MB 2.0MB/s eta 0:00:01\r\u001b[K     |███████████████████████████████ | 3.0MB 2.0MB/s eta 0:00:01\r\u001b[K     |███████████████████████████████▏| 3.0MB 2.0MB/s eta 0:00:01\r\u001b[K     |███████████████████████████████▎| 3.0MB 2.0MB/s eta 0:00:01\r\u001b[K     |███████████████████████████████▍| 3.0MB 2.0MB/s eta 0:00:01\r\u001b[K     |███████████████████████████████▌| 3.0MB 2.0MB/s eta 0:00:01\r\u001b[K     |███████████████████████████████▋| 3.0MB 2.0MB/s eta 0:00:01\r\u001b[K     |███████████████████████████████▊| 3.0MB 2.0MB/s eta 0:00:01\r\u001b[K     |███████████████████████████████▉| 3.0MB 2.0MB/s eta 0:00:01\r\u001b[K     |████████████████████████████████| 3.1MB 2.0MB/s eta 0:00:01\r\u001b[K     |████████████████████████████████| 3.1MB 2.0MB/s \n",
            "\u001b[?25hRequirement already satisfied, skipping upgrade: six in /usr/local/lib/python3.6/dist-packages (from nltk) (1.12.0)\n",
            "Building wheels for collected packages: nltk\n",
            "  Building wheel for nltk (setup.py) ... \u001b[?25l\u001b[?25hdone\n",
            "  Stored in directory: /root/.cache/pip/wheels/97/8a/10/d646015f33c525688e91986c4544c68019b19a473cb33d3b55\n",
            "Successfully built nltk\n",
            "Installing collected packages: nltk\n",
            "  Found existing installation: nltk 3.2.5\n",
            "    Uninstalling nltk-3.2.5:\n",
            "      Successfully uninstalled nltk-3.2.5\n",
            "Successfully installed nltk-3.4.1\n"
          ],
          "name": "stdout"
        }
      ]
    },
    {
      "metadata": {
        "id": "evYe10783fl8",
        "colab_type": "text"
      },
      "cell_type": "markdown",
      "source": [
        ""
      ]
    },
    {
      "metadata": {
        "id": "5-i0CdIcsFb1",
        "colab_type": "code",
        "colab": {
          "base_uri": "https://localhost:8080/",
          "height": 122
        },
        "outputId": "3cd4d350-0352-4348-ef58-7ae3e43db9ee"
      },
      "cell_type": "code",
      "source": [
        "from google.colab import drive\n",
        "drive.mount('/content/gdrive')"
      ],
      "execution_count": 2,
      "outputs": [
        {
          "output_type": "stream",
          "text": [
            "Go to this URL in a browser: https://accounts.google.com/o/oauth2/auth?client_id=947318989803-6bn6qk8qdgf4n4g3pfee6491hc0brc4i.apps.googleusercontent.com&redirect_uri=urn%3Aietf%3Awg%3Aoauth%3A2.0%3Aoob&scope=email%20https%3A%2F%2Fwww.googleapis.com%2Fauth%2Fdocs.test%20https%3A%2F%2Fwww.googleapis.com%2Fauth%2Fdrive%20https%3A%2F%2Fwww.googleapis.com%2Fauth%2Fdrive.photos.readonly%20https%3A%2F%2Fwww.googleapis.com%2Fauth%2Fpeopleapi.readonly&response_type=code\n",
            "\n",
            "Enter your authorization code:\n",
            "··········\n",
            "Mounted at /content/gdrive\n"
          ],
          "name": "stdout"
        }
      ]
    },
    {
      "metadata": {
        "id": "ICoFqTJ-sFFi",
        "colab_type": "text"
      },
      "cell_type": "markdown",
      "source": [
        ""
      ]
    },
    {
      "metadata": {
        "id": "zFXDuT70pFQF",
        "colab_type": "code",
        "colab": {}
      },
      "cell_type": "code",
      "source": [
        "import pandas as pd\n",
        "import numpy as np\n",
        "import matplotlib.pyplot as plt\n",
        "\n",
        "\n",
        "df_adm = pd.read_csv('/content/gdrive/My Drive/data/ADMISSIONS.csv')"
      ],
      "execution_count": 0,
      "outputs": []
    },
    {
      "metadata": {
        "id": "iacr3i6rpFQp",
        "colab_type": "code",
        "colab": {
          "base_uri": "https://localhost:8080/",
          "height": 343
        },
        "outputId": "c5992a8b-dd9d-476c-a755-739a4218c84d"
      },
      "cell_type": "code",
      "source": [
        "df_adm.head()"
      ],
      "execution_count": 4,
      "outputs": [
        {
          "output_type": "execute_result",
          "data": {
            "text/html": [
              "<div>\n",
              "<style scoped>\n",
              "    .dataframe tbody tr th:only-of-type {\n",
              "        vertical-align: middle;\n",
              "    }\n",
              "\n",
              "    .dataframe tbody tr th {\n",
              "        vertical-align: top;\n",
              "    }\n",
              "\n",
              "    .dataframe thead th {\n",
              "        text-align: right;\n",
              "    }\n",
              "</style>\n",
              "<table border=\"1\" class=\"dataframe\">\n",
              "  <thead>\n",
              "    <tr style=\"text-align: right;\">\n",
              "      <th></th>\n",
              "      <th>ROW_ID</th>\n",
              "      <th>SUBJECT_ID</th>\n",
              "      <th>HADM_ID</th>\n",
              "      <th>ADMITTIME</th>\n",
              "      <th>DISCHTIME</th>\n",
              "      <th>DEATHTIME</th>\n",
              "      <th>ADMISSION_TYPE</th>\n",
              "      <th>ADMISSION_LOCATION</th>\n",
              "      <th>DISCHARGE_LOCATION</th>\n",
              "      <th>INSURANCE</th>\n",
              "      <th>LANGUAGE</th>\n",
              "      <th>RELIGION</th>\n",
              "      <th>MARITAL_STATUS</th>\n",
              "      <th>ETHNICITY</th>\n",
              "      <th>EDREGTIME</th>\n",
              "      <th>EDOUTTIME</th>\n",
              "      <th>DIAGNOSIS</th>\n",
              "      <th>HOSPITAL_EXPIRE_FLAG</th>\n",
              "      <th>HAS_CHARTEVENTS_DATA</th>\n",
              "    </tr>\n",
              "  </thead>\n",
              "  <tbody>\n",
              "    <tr>\n",
              "      <th>0</th>\n",
              "      <td>21</td>\n",
              "      <td>22</td>\n",
              "      <td>165315</td>\n",
              "      <td>2196-04-09 12:26:00</td>\n",
              "      <td>2196-04-10 15:54:00</td>\n",
              "      <td>NaN</td>\n",
              "      <td>EMERGENCY</td>\n",
              "      <td>EMERGENCY ROOM ADMIT</td>\n",
              "      <td>DISC-TRAN CANCER/CHLDRN H</td>\n",
              "      <td>Private</td>\n",
              "      <td>NaN</td>\n",
              "      <td>UNOBTAINABLE</td>\n",
              "      <td>MARRIED</td>\n",
              "      <td>WHITE</td>\n",
              "      <td>2196-04-09 10:06:00</td>\n",
              "      <td>2196-04-09 13:24:00</td>\n",
              "      <td>BENZODIAZEPINE OVERDOSE</td>\n",
              "      <td>0</td>\n",
              "      <td>1</td>\n",
              "    </tr>\n",
              "    <tr>\n",
              "      <th>1</th>\n",
              "      <td>22</td>\n",
              "      <td>23</td>\n",
              "      <td>152223</td>\n",
              "      <td>2153-09-03 07:15:00</td>\n",
              "      <td>2153-09-08 19:10:00</td>\n",
              "      <td>NaN</td>\n",
              "      <td>ELECTIVE</td>\n",
              "      <td>PHYS REFERRAL/NORMAL DELI</td>\n",
              "      <td>HOME HEALTH CARE</td>\n",
              "      <td>Medicare</td>\n",
              "      <td>NaN</td>\n",
              "      <td>CATHOLIC</td>\n",
              "      <td>MARRIED</td>\n",
              "      <td>WHITE</td>\n",
              "      <td>NaN</td>\n",
              "      <td>NaN</td>\n",
              "      <td>CORONARY ARTERY DISEASE\\CORONARY ARTERY BYPASS...</td>\n",
              "      <td>0</td>\n",
              "      <td>1</td>\n",
              "    </tr>\n",
              "    <tr>\n",
              "      <th>2</th>\n",
              "      <td>23</td>\n",
              "      <td>23</td>\n",
              "      <td>124321</td>\n",
              "      <td>2157-10-18 19:34:00</td>\n",
              "      <td>2157-10-25 14:00:00</td>\n",
              "      <td>NaN</td>\n",
              "      <td>EMERGENCY</td>\n",
              "      <td>TRANSFER FROM HOSP/EXTRAM</td>\n",
              "      <td>HOME HEALTH CARE</td>\n",
              "      <td>Medicare</td>\n",
              "      <td>ENGL</td>\n",
              "      <td>CATHOLIC</td>\n",
              "      <td>MARRIED</td>\n",
              "      <td>WHITE</td>\n",
              "      <td>NaN</td>\n",
              "      <td>NaN</td>\n",
              "      <td>BRAIN MASS</td>\n",
              "      <td>0</td>\n",
              "      <td>1</td>\n",
              "    </tr>\n",
              "    <tr>\n",
              "      <th>3</th>\n",
              "      <td>24</td>\n",
              "      <td>24</td>\n",
              "      <td>161859</td>\n",
              "      <td>2139-06-06 16:14:00</td>\n",
              "      <td>2139-06-09 12:48:00</td>\n",
              "      <td>NaN</td>\n",
              "      <td>EMERGENCY</td>\n",
              "      <td>TRANSFER FROM HOSP/EXTRAM</td>\n",
              "      <td>HOME</td>\n",
              "      <td>Private</td>\n",
              "      <td>NaN</td>\n",
              "      <td>PROTESTANT QUAKER</td>\n",
              "      <td>SINGLE</td>\n",
              "      <td>WHITE</td>\n",
              "      <td>NaN</td>\n",
              "      <td>NaN</td>\n",
              "      <td>INTERIOR MYOCARDIAL INFARCTION</td>\n",
              "      <td>0</td>\n",
              "      <td>1</td>\n",
              "    </tr>\n",
              "    <tr>\n",
              "      <th>4</th>\n",
              "      <td>25</td>\n",
              "      <td>25</td>\n",
              "      <td>129635</td>\n",
              "      <td>2160-11-02 02:06:00</td>\n",
              "      <td>2160-11-05 14:55:00</td>\n",
              "      <td>NaN</td>\n",
              "      <td>EMERGENCY</td>\n",
              "      <td>EMERGENCY ROOM ADMIT</td>\n",
              "      <td>HOME</td>\n",
              "      <td>Private</td>\n",
              "      <td>NaN</td>\n",
              "      <td>UNOBTAINABLE</td>\n",
              "      <td>MARRIED</td>\n",
              "      <td>WHITE</td>\n",
              "      <td>2160-11-02 01:01:00</td>\n",
              "      <td>2160-11-02 04:27:00</td>\n",
              "      <td>ACUTE CORONARY SYNDROME</td>\n",
              "      <td>0</td>\n",
              "      <td>1</td>\n",
              "    </tr>\n",
              "  </tbody>\n",
              "</table>\n",
              "</div>"
            ],
            "text/plain": [
              "   ROW_ID  SUBJECT_ID  HADM_ID            ADMITTIME            DISCHTIME  \\\n",
              "0      21          22   165315  2196-04-09 12:26:00  2196-04-10 15:54:00   \n",
              "1      22          23   152223  2153-09-03 07:15:00  2153-09-08 19:10:00   \n",
              "2      23          23   124321  2157-10-18 19:34:00  2157-10-25 14:00:00   \n",
              "3      24          24   161859  2139-06-06 16:14:00  2139-06-09 12:48:00   \n",
              "4      25          25   129635  2160-11-02 02:06:00  2160-11-05 14:55:00   \n",
              "\n",
              "  DEATHTIME ADMISSION_TYPE         ADMISSION_LOCATION  \\\n",
              "0       NaN      EMERGENCY       EMERGENCY ROOM ADMIT   \n",
              "1       NaN       ELECTIVE  PHYS REFERRAL/NORMAL DELI   \n",
              "2       NaN      EMERGENCY  TRANSFER FROM HOSP/EXTRAM   \n",
              "3       NaN      EMERGENCY  TRANSFER FROM HOSP/EXTRAM   \n",
              "4       NaN      EMERGENCY       EMERGENCY ROOM ADMIT   \n",
              "\n",
              "          DISCHARGE_LOCATION INSURANCE LANGUAGE           RELIGION  \\\n",
              "0  DISC-TRAN CANCER/CHLDRN H   Private      NaN       UNOBTAINABLE   \n",
              "1           HOME HEALTH CARE  Medicare      NaN           CATHOLIC   \n",
              "2           HOME HEALTH CARE  Medicare     ENGL           CATHOLIC   \n",
              "3                       HOME   Private      NaN  PROTESTANT QUAKER   \n",
              "4                       HOME   Private      NaN       UNOBTAINABLE   \n",
              "\n",
              "  MARITAL_STATUS ETHNICITY            EDREGTIME            EDOUTTIME  \\\n",
              "0        MARRIED     WHITE  2196-04-09 10:06:00  2196-04-09 13:24:00   \n",
              "1        MARRIED     WHITE                  NaN                  NaN   \n",
              "2        MARRIED     WHITE                  NaN                  NaN   \n",
              "3         SINGLE     WHITE                  NaN                  NaN   \n",
              "4        MARRIED     WHITE  2160-11-02 01:01:00  2160-11-02 04:27:00   \n",
              "\n",
              "                                           DIAGNOSIS  HOSPITAL_EXPIRE_FLAG  \\\n",
              "0                            BENZODIAZEPINE OVERDOSE                     0   \n",
              "1  CORONARY ARTERY DISEASE\\CORONARY ARTERY BYPASS...                     0   \n",
              "2                                         BRAIN MASS                     0   \n",
              "3                     INTERIOR MYOCARDIAL INFARCTION                     0   \n",
              "4                            ACUTE CORONARY SYNDROME                     0   \n",
              "\n",
              "   HAS_CHARTEVENTS_DATA  \n",
              "0                     1  \n",
              "1                     1  \n",
              "2                     1  \n",
              "3                     1  \n",
              "4                     1  "
            ]
          },
          "metadata": {
            "tags": []
          },
          "execution_count": 4
        }
      ]
    },
    {
      "metadata": {
        "id": "nUymUJHEpFRA",
        "colab_type": "code",
        "outputId": "6a8e828e-a386-4ea4-d552-ce45fb2a8ef0",
        "colab": {
          "base_uri": "https://localhost:8080/",
          "height": 119
        }
      },
      "cell_type": "code",
      "source": [
        "df_adm.columns"
      ],
      "execution_count": 5,
      "outputs": [
        {
          "output_type": "execute_result",
          "data": {
            "text/plain": [
              "Index(['ROW_ID', 'SUBJECT_ID', 'HADM_ID', 'ADMITTIME', 'DISCHTIME',\n",
              "       'DEATHTIME', 'ADMISSION_TYPE', 'ADMISSION_LOCATION',\n",
              "       'DISCHARGE_LOCATION', 'INSURANCE', 'LANGUAGE', 'RELIGION',\n",
              "       'MARITAL_STATUS', 'ETHNICITY', 'EDREGTIME', 'EDOUTTIME', 'DIAGNOSIS',\n",
              "       'HOSPITAL_EXPIRE_FLAG', 'HAS_CHARTEVENTS_DATA'],\n",
              "      dtype='object')"
            ]
          },
          "metadata": {
            "tags": []
          },
          "execution_count": 5
        }
      ]
    },
    {
      "metadata": {
        "id": "19szZrPYpFRj",
        "colab_type": "code",
        "outputId": "fae041af-f4ea-4ae9-9df3-b7c2bcce2c32",
        "colab": {
          "base_uri": "https://localhost:8080/",
          "height": 119
        }
      },
      "cell_type": "code",
      "source": [
        "df_adm.groupby(['ADMISSION_TYPE']).size()"
      ],
      "execution_count": 6,
      "outputs": [
        {
          "output_type": "execute_result",
          "data": {
            "text/plain": [
              "ADMISSION_TYPE\n",
              "ELECTIVE      7706\n",
              "EMERGENCY    42071\n",
              "NEWBORN       7863\n",
              "URGENT        1336\n",
              "dtype: int64"
            ]
          },
          "metadata": {
            "tags": []
          },
          "execution_count": 6
        }
      ]
    },
    {
      "metadata": {
        "id": "MDDU6xjtpFR7",
        "colab_type": "text"
      },
      "cell_type": "markdown",
      "source": [
        "## Convert strings to dates"
      ]
    },
    {
      "metadata": {
        "id": "FL2boT3dpFR_",
        "colab_type": "text"
      },
      "cell_type": "markdown",
      "source": [
        "A note about dates from MIMIC website:\n",
        "    \n",
        "    All dates in the database have been shifted to protect patient confidentiality. Dates will be internally consistent for the same patient, but randomly distributed in the future."
      ]
    },
    {
      "metadata": {
        "id": "5lrSO5_IpFSF",
        "colab_type": "text"
      },
      "cell_type": "markdown",
      "source": [
        "When converting dates, it is safer to use a format. For references on formats see http://strftime.org/. Errors = 'coerce' allows NaT (not a datetime) to happen when the string doesn't match the format"
      ]
    },
    {
      "metadata": {
        "id": "142mB6f-pFSK",
        "colab_type": "code",
        "outputId": "ef25c12b-0280-4cf3-aab4-5af581f276e6",
        "colab": {
          "base_uri": "https://localhost:8080/",
          "height": 51
        }
      },
      "cell_type": "code",
      "source": [
        "# convert to dates\n",
        "df_adm.ADMITTIME = pd.to_datetime(df_adm.ADMITTIME, format = '%Y-%m-%d %H:%M:%S', errors = 'coerce')\n",
        "df_adm.DISCHTIME = pd.to_datetime(df_adm.DISCHTIME, format = '%Y-%m-%d %H:%M:%S', errors = 'coerce')\n",
        "df_adm.DEATHTIME = pd.to_datetime(df_adm.DEATHTIME, format = '%Y-%m-%d %H:%M:%S', errors = 'coerce')\n",
        "\n",
        "# check to see if there are any missing dates\n",
        "print('Number of missing date admissions:', df_adm.ADMITTIME.isnull().sum())\n",
        "print('Number of missing date discharges:', df_adm.DISCHTIME.isnull().sum())"
      ],
      "execution_count": 7,
      "outputs": [
        {
          "output_type": "stream",
          "text": [
            "Number of missing date admissions: 0\n",
            "Number of missing date discharges: 0\n"
          ],
          "name": "stdout"
        }
      ]
    },
    {
      "metadata": {
        "id": "DLoINT-RpFSi",
        "colab_type": "text"
      },
      "cell_type": "markdown",
      "source": [
        "## Get the next admission date if it exists"
      ]
    },
    {
      "metadata": {
        "id": "DMk76l3PpFSo",
        "colab_type": "text"
      },
      "cell_type": "markdown",
      "source": [
        "In this project, we need the next admission date if it exists. We can get this with the shift() function, but we need to verify the dates are in order. "
      ]
    },
    {
      "metadata": {
        "id": "vLqyoh3XpFSt",
        "colab_type": "code",
        "colab": {}
      },
      "cell_type": "code",
      "source": [
        "# sort by subject_ID and admission date\n",
        "df_adm = df_adm.sort_values(['SUBJECT_ID','ADMITTIME'])\n",
        "df_adm = df_adm.reset_index(drop = True)"
      ],
      "execution_count": 0,
      "outputs": []
    },
    {
      "metadata": {
        "id": "psbNIRa4pFS_",
        "colab_type": "code",
        "colab": {
          "base_uri": "https://localhost:8080/",
          "height": 173
        },
        "outputId": "343e8a4e-f9b9-470f-e201-6c7082ed51d0"
      },
      "cell_type": "code",
      "source": [
        "# verify that it did what we wanted\n",
        "df_adm.loc[df_adm.SUBJECT_ID == 124,['SUBJECT_ID','ADMITTIME','ADMISSION_TYPE']]"
      ],
      "execution_count": 9,
      "outputs": [
        {
          "output_type": "execute_result",
          "data": {
            "text/html": [
              "<div>\n",
              "<style scoped>\n",
              "    .dataframe tbody tr th:only-of-type {\n",
              "        vertical-align: middle;\n",
              "    }\n",
              "\n",
              "    .dataframe tbody tr th {\n",
              "        vertical-align: top;\n",
              "    }\n",
              "\n",
              "    .dataframe thead th {\n",
              "        text-align: right;\n",
              "    }\n",
              "</style>\n",
              "<table border=\"1\" class=\"dataframe\">\n",
              "  <thead>\n",
              "    <tr style=\"text-align: right;\">\n",
              "      <th></th>\n",
              "      <th>SUBJECT_ID</th>\n",
              "      <th>ADMITTIME</th>\n",
              "      <th>ADMISSION_TYPE</th>\n",
              "    </tr>\n",
              "  </thead>\n",
              "  <tbody>\n",
              "    <tr>\n",
              "      <th>165</th>\n",
              "      <td>124</td>\n",
              "      <td>2160-06-24 21:25:00</td>\n",
              "      <td>EMERGENCY</td>\n",
              "    </tr>\n",
              "    <tr>\n",
              "      <th>166</th>\n",
              "      <td>124</td>\n",
              "      <td>2161-12-17 03:39:00</td>\n",
              "      <td>EMERGENCY</td>\n",
              "    </tr>\n",
              "    <tr>\n",
              "      <th>167</th>\n",
              "      <td>124</td>\n",
              "      <td>2165-05-21 21:02:00</td>\n",
              "      <td>ELECTIVE</td>\n",
              "    </tr>\n",
              "    <tr>\n",
              "      <th>168</th>\n",
              "      <td>124</td>\n",
              "      <td>2165-12-31 18:55:00</td>\n",
              "      <td>EMERGENCY</td>\n",
              "    </tr>\n",
              "  </tbody>\n",
              "</table>\n",
              "</div>"
            ],
            "text/plain": [
              "     SUBJECT_ID           ADMITTIME ADMISSION_TYPE\n",
              "165         124 2160-06-24 21:25:00      EMERGENCY\n",
              "166         124 2161-12-17 03:39:00      EMERGENCY\n",
              "167         124 2165-05-21 21:02:00       ELECTIVE\n",
              "168         124 2165-12-31 18:55:00      EMERGENCY"
            ]
          },
          "metadata": {
            "tags": []
          },
          "execution_count": 9
        }
      ]
    },
    {
      "metadata": {
        "id": "1DjJENAnpFTR",
        "colab_type": "code",
        "colab": {}
      },
      "cell_type": "code",
      "source": [
        "# add the next admission date and type for each subject using groupby\n",
        "# you have to use groupby otherwise the dates will be from different subjects\n",
        "df_adm['NEXT_ADMITTIME'] = df_adm.groupby('SUBJECT_ID').ADMITTIME.shift(-1)\n",
        "# get the next admission type\n",
        "df_adm['NEXT_ADMISSION_TYPE'] = df_adm.groupby('SUBJECT_ID').ADMISSION_TYPE.shift(-1)"
      ],
      "execution_count": 0,
      "outputs": []
    },
    {
      "metadata": {
        "id": "Mxq8w5FlpFTs",
        "colab_type": "code",
        "colab": {
          "base_uri": "https://localhost:8080/",
          "height": 173
        },
        "outputId": "fdbbaadf-671a-482b-f28f-088c2e8de7de"
      },
      "cell_type": "code",
      "source": [
        "# verify that it did what we wanted\n",
        "df_adm.loc[df_adm.SUBJECT_ID == 124,['SUBJECT_ID','ADMITTIME','ADMISSION_TYPE','NEXT_ADMITTIME','NEXT_ADMISSION_TYPE']]"
      ],
      "execution_count": 11,
      "outputs": [
        {
          "output_type": "execute_result",
          "data": {
            "text/html": [
              "<div>\n",
              "<style scoped>\n",
              "    .dataframe tbody tr th:only-of-type {\n",
              "        vertical-align: middle;\n",
              "    }\n",
              "\n",
              "    .dataframe tbody tr th {\n",
              "        vertical-align: top;\n",
              "    }\n",
              "\n",
              "    .dataframe thead th {\n",
              "        text-align: right;\n",
              "    }\n",
              "</style>\n",
              "<table border=\"1\" class=\"dataframe\">\n",
              "  <thead>\n",
              "    <tr style=\"text-align: right;\">\n",
              "      <th></th>\n",
              "      <th>SUBJECT_ID</th>\n",
              "      <th>ADMITTIME</th>\n",
              "      <th>ADMISSION_TYPE</th>\n",
              "      <th>NEXT_ADMITTIME</th>\n",
              "      <th>NEXT_ADMISSION_TYPE</th>\n",
              "    </tr>\n",
              "  </thead>\n",
              "  <tbody>\n",
              "    <tr>\n",
              "      <th>165</th>\n",
              "      <td>124</td>\n",
              "      <td>2160-06-24 21:25:00</td>\n",
              "      <td>EMERGENCY</td>\n",
              "      <td>2161-12-17 03:39:00</td>\n",
              "      <td>EMERGENCY</td>\n",
              "    </tr>\n",
              "    <tr>\n",
              "      <th>166</th>\n",
              "      <td>124</td>\n",
              "      <td>2161-12-17 03:39:00</td>\n",
              "      <td>EMERGENCY</td>\n",
              "      <td>2165-05-21 21:02:00</td>\n",
              "      <td>ELECTIVE</td>\n",
              "    </tr>\n",
              "    <tr>\n",
              "      <th>167</th>\n",
              "      <td>124</td>\n",
              "      <td>2165-05-21 21:02:00</td>\n",
              "      <td>ELECTIVE</td>\n",
              "      <td>2165-12-31 18:55:00</td>\n",
              "      <td>EMERGENCY</td>\n",
              "    </tr>\n",
              "    <tr>\n",
              "      <th>168</th>\n",
              "      <td>124</td>\n",
              "      <td>2165-12-31 18:55:00</td>\n",
              "      <td>EMERGENCY</td>\n",
              "      <td>NaT</td>\n",
              "      <td>NaN</td>\n",
              "    </tr>\n",
              "  </tbody>\n",
              "</table>\n",
              "</div>"
            ],
            "text/plain": [
              "     SUBJECT_ID           ADMITTIME ADMISSION_TYPE      NEXT_ADMITTIME  \\\n",
              "165         124 2160-06-24 21:25:00      EMERGENCY 2161-12-17 03:39:00   \n",
              "166         124 2161-12-17 03:39:00      EMERGENCY 2165-05-21 21:02:00   \n",
              "167         124 2165-05-21 21:02:00       ELECTIVE 2165-12-31 18:55:00   \n",
              "168         124 2165-12-31 18:55:00      EMERGENCY                 NaT   \n",
              "\n",
              "    NEXT_ADMISSION_TYPE  \n",
              "165           EMERGENCY  \n",
              "166            ELECTIVE  \n",
              "167           EMERGENCY  \n",
              "168                 NaN  "
            ]
          },
          "metadata": {
            "tags": []
          },
          "execution_count": 11
        }
      ]
    },
    {
      "metadata": {
        "id": "yBY2vK8npFUA",
        "colab_type": "text"
      },
      "cell_type": "markdown",
      "source": [
        "But, we want to predict UNPLANNED re-admissions, so we should filter out the ELECTIVE next admissions"
      ]
    },
    {
      "metadata": {
        "id": "2JNRrET3pFUF",
        "colab_type": "code",
        "colab": {}
      },
      "cell_type": "code",
      "source": [
        "# get rows where next admission is elective and replace with naT or nan\n",
        "rows = df_adm.NEXT_ADMISSION_TYPE == 'ELECTIVE'\n",
        "df_adm.loc[rows,'NEXT_ADMITTIME'] = pd.NaT\n",
        "df_adm.loc[rows,'NEXT_ADMISSION_TYPE'] = np.NaN"
      ],
      "execution_count": 0,
      "outputs": []
    },
    {
      "metadata": {
        "id": "THy1OKT9pFUY",
        "colab_type": "code",
        "colab": {
          "base_uri": "https://localhost:8080/",
          "height": 173
        },
        "outputId": "930cbb57-c2d3-42ab-86b9-5cab9f1338bd"
      },
      "cell_type": "code",
      "source": [
        "# verify that it did what we wanted\n",
        "df_adm.loc[df_adm.SUBJECT_ID == 124,['SUBJECT_ID','ADMITTIME','ADMISSION_TYPE','NEXT_ADMITTIME','NEXT_ADMISSION_TYPE']]"
      ],
      "execution_count": 13,
      "outputs": [
        {
          "output_type": "execute_result",
          "data": {
            "text/html": [
              "<div>\n",
              "<style scoped>\n",
              "    .dataframe tbody tr th:only-of-type {\n",
              "        vertical-align: middle;\n",
              "    }\n",
              "\n",
              "    .dataframe tbody tr th {\n",
              "        vertical-align: top;\n",
              "    }\n",
              "\n",
              "    .dataframe thead th {\n",
              "        text-align: right;\n",
              "    }\n",
              "</style>\n",
              "<table border=\"1\" class=\"dataframe\">\n",
              "  <thead>\n",
              "    <tr style=\"text-align: right;\">\n",
              "      <th></th>\n",
              "      <th>SUBJECT_ID</th>\n",
              "      <th>ADMITTIME</th>\n",
              "      <th>ADMISSION_TYPE</th>\n",
              "      <th>NEXT_ADMITTIME</th>\n",
              "      <th>NEXT_ADMISSION_TYPE</th>\n",
              "    </tr>\n",
              "  </thead>\n",
              "  <tbody>\n",
              "    <tr>\n",
              "      <th>165</th>\n",
              "      <td>124</td>\n",
              "      <td>2160-06-24 21:25:00</td>\n",
              "      <td>EMERGENCY</td>\n",
              "      <td>2161-12-17 03:39:00</td>\n",
              "      <td>EMERGENCY</td>\n",
              "    </tr>\n",
              "    <tr>\n",
              "      <th>166</th>\n",
              "      <td>124</td>\n",
              "      <td>2161-12-17 03:39:00</td>\n",
              "      <td>EMERGENCY</td>\n",
              "      <td>NaT</td>\n",
              "      <td>NaN</td>\n",
              "    </tr>\n",
              "    <tr>\n",
              "      <th>167</th>\n",
              "      <td>124</td>\n",
              "      <td>2165-05-21 21:02:00</td>\n",
              "      <td>ELECTIVE</td>\n",
              "      <td>2165-12-31 18:55:00</td>\n",
              "      <td>EMERGENCY</td>\n",
              "    </tr>\n",
              "    <tr>\n",
              "      <th>168</th>\n",
              "      <td>124</td>\n",
              "      <td>2165-12-31 18:55:00</td>\n",
              "      <td>EMERGENCY</td>\n",
              "      <td>NaT</td>\n",
              "      <td>NaN</td>\n",
              "    </tr>\n",
              "  </tbody>\n",
              "</table>\n",
              "</div>"
            ],
            "text/plain": [
              "     SUBJECT_ID           ADMITTIME ADMISSION_TYPE      NEXT_ADMITTIME  \\\n",
              "165         124 2160-06-24 21:25:00      EMERGENCY 2161-12-17 03:39:00   \n",
              "166         124 2161-12-17 03:39:00      EMERGENCY                 NaT   \n",
              "167         124 2165-05-21 21:02:00       ELECTIVE 2165-12-31 18:55:00   \n",
              "168         124 2165-12-31 18:55:00      EMERGENCY                 NaT   \n",
              "\n",
              "    NEXT_ADMISSION_TYPE  \n",
              "165           EMERGENCY  \n",
              "166                 NaN  \n",
              "167           EMERGENCY  \n",
              "168                 NaN  "
            ]
          },
          "metadata": {
            "tags": []
          },
          "execution_count": 13
        }
      ]
    },
    {
      "metadata": {
        "id": "6kU-XZ7SpFVA",
        "colab_type": "text"
      },
      "cell_type": "markdown",
      "source": [
        "Now we need to backfill in the values that we removed.\n"
      ]
    },
    {
      "metadata": {
        "id": "AFdmXCyBpFVG",
        "colab_type": "code",
        "colab": {}
      },
      "cell_type": "code",
      "source": [
        "# sort by subject_ID and admission date\n",
        "# it is safer to sort right before the fill incase something changed the order above\n",
        "df_adm = df_adm.sort_values(['SUBJECT_ID','ADMITTIME'])\n",
        "\n",
        "# back fill (this will take a little while)\n",
        "df_adm[['NEXT_ADMITTIME','NEXT_ADMISSION_TYPE']] = df_adm.groupby(['SUBJECT_ID'])[['NEXT_ADMITTIME','NEXT_ADMISSION_TYPE']].fillna(method = 'bfill')"
      ],
      "execution_count": 0,
      "outputs": []
    },
    {
      "metadata": {
        "id": "xxmnOj4opFVp",
        "colab_type": "code",
        "colab": {
          "base_uri": "https://localhost:8080/",
          "height": 173
        },
        "outputId": "fa51c2ce-2ce6-4ee0-ea6c-6f484ce75ad0"
      },
      "cell_type": "code",
      "source": [
        "# verify that it did what we wanted\n",
        "df_adm.loc[df_adm.SUBJECT_ID == 124,['SUBJECT_ID','ADMITTIME','ADMISSION_TYPE','NEXT_ADMITTIME','NEXT_ADMISSION_TYPE']]"
      ],
      "execution_count": 15,
      "outputs": [
        {
          "output_type": "execute_result",
          "data": {
            "text/html": [
              "<div>\n",
              "<style scoped>\n",
              "    .dataframe tbody tr th:only-of-type {\n",
              "        vertical-align: middle;\n",
              "    }\n",
              "\n",
              "    .dataframe tbody tr th {\n",
              "        vertical-align: top;\n",
              "    }\n",
              "\n",
              "    .dataframe thead th {\n",
              "        text-align: right;\n",
              "    }\n",
              "</style>\n",
              "<table border=\"1\" class=\"dataframe\">\n",
              "  <thead>\n",
              "    <tr style=\"text-align: right;\">\n",
              "      <th></th>\n",
              "      <th>SUBJECT_ID</th>\n",
              "      <th>ADMITTIME</th>\n",
              "      <th>ADMISSION_TYPE</th>\n",
              "      <th>NEXT_ADMITTIME</th>\n",
              "      <th>NEXT_ADMISSION_TYPE</th>\n",
              "    </tr>\n",
              "  </thead>\n",
              "  <tbody>\n",
              "    <tr>\n",
              "      <th>165</th>\n",
              "      <td>124</td>\n",
              "      <td>2160-06-24 21:25:00</td>\n",
              "      <td>EMERGENCY</td>\n",
              "      <td>2161-12-17 03:39:00</td>\n",
              "      <td>EMERGENCY</td>\n",
              "    </tr>\n",
              "    <tr>\n",
              "      <th>166</th>\n",
              "      <td>124</td>\n",
              "      <td>2161-12-17 03:39:00</td>\n",
              "      <td>EMERGENCY</td>\n",
              "      <td>2165-12-31 18:55:00</td>\n",
              "      <td>EMERGENCY</td>\n",
              "    </tr>\n",
              "    <tr>\n",
              "      <th>167</th>\n",
              "      <td>124</td>\n",
              "      <td>2165-05-21 21:02:00</td>\n",
              "      <td>ELECTIVE</td>\n",
              "      <td>2165-12-31 18:55:00</td>\n",
              "      <td>EMERGENCY</td>\n",
              "    </tr>\n",
              "    <tr>\n",
              "      <th>168</th>\n",
              "      <td>124</td>\n",
              "      <td>2165-12-31 18:55:00</td>\n",
              "      <td>EMERGENCY</td>\n",
              "      <td>NaT</td>\n",
              "      <td>NaN</td>\n",
              "    </tr>\n",
              "  </tbody>\n",
              "</table>\n",
              "</div>"
            ],
            "text/plain": [
              "     SUBJECT_ID           ADMITTIME ADMISSION_TYPE      NEXT_ADMITTIME  \\\n",
              "165         124 2160-06-24 21:25:00      EMERGENCY 2161-12-17 03:39:00   \n",
              "166         124 2161-12-17 03:39:00      EMERGENCY 2165-12-31 18:55:00   \n",
              "167         124 2165-05-21 21:02:00       ELECTIVE 2165-12-31 18:55:00   \n",
              "168         124 2165-12-31 18:55:00      EMERGENCY                 NaT   \n",
              "\n",
              "    NEXT_ADMISSION_TYPE  \n",
              "165           EMERGENCY  \n",
              "166           EMERGENCY  \n",
              "167           EMERGENCY  \n",
              "168                 NaN  "
            ]
          },
          "metadata": {
            "tags": []
          },
          "execution_count": 15
        }
      ]
    },
    {
      "metadata": {
        "id": "Kjw47_ebpFWI",
        "colab_type": "text"
      },
      "cell_type": "markdown",
      "source": [
        "## Calculate days until next admission"
      ]
    },
    {
      "metadata": {
        "id": "qXp0a91PpFWO",
        "colab_type": "code",
        "colab": {}
      },
      "cell_type": "code",
      "source": [
        "# calculate the number of days between discharge and next admission\n",
        "df_adm['DAYS_NEXT_ADMIT']=  (df_adm.NEXT_ADMITTIME - df_adm.DISCHTIME).dt.total_seconds()/(24*60*60)"
      ],
      "execution_count": 0,
      "outputs": []
    },
    {
      "metadata": {
        "id": "oMPuevB7pFWg",
        "colab_type": "code",
        "outputId": "a05b9ada-c549-4a01-874a-0621e1c54cd5",
        "colab": {
          "base_uri": "https://localhost:8080/",
          "height": 283
        }
      },
      "cell_type": "code",
      "source": [
        "# plot a histogram of days between readmissions if they exist\n",
        "# this only works for non-null values so you have to filter\n",
        "plt.hist(df_adm.loc[~df_adm.DAYS_NEXT_ADMIT.isnull(),'DAYS_NEXT_ADMIT'], bins =range(0,365,30))\n",
        "plt.xlim([0,365])\n",
        "plt.xlabel('Days between admissions')\n",
        "plt.ylabel('Counts')\n",
        "plt.show()"
      ],
      "execution_count": 17,
      "outputs": [
        {
          "output_type": "display_data",
          "data": {
            "image/png": "[encoded data removed]",
            "text/plain": [
              "<Figure size 432x288 with 1 Axes>"
            ]
          },
          "metadata": {
            "tags": []
          }
        }
      ]
    },
    {
      "metadata": {
        "id": "IWjYFQ4cpFWy",
        "colab_type": "code",
        "outputId": "0ae1da5b-5850-448c-ad35-a281b8e5c741",
        "colab": {
          "base_uri": "https://localhost:8080/",
          "height": 51
        }
      },
      "cell_type": "code",
      "source": [
        "print('Number with a readmission:', (~df_adm.DAYS_NEXT_ADMIT.isnull()).sum())\n",
        "print('Total Number:', len(df_adm))"
      ],
      "execution_count": 18,
      "outputs": [
        {
          "output_type": "stream",
          "text": [
            "Number with a readmission: 11399\n",
            "Total Number: 58976\n"
          ],
          "name": "stdout"
        }
      ]
    },
    {
      "metadata": {
        "id": "0rVWJztSpFXF",
        "colab_type": "text"
      },
      "cell_type": "markdown",
      "source": [
        "## Load the notes"
      ]
    },
    {
      "metadata": {
        "id": "QhVMdYDfpFXJ",
        "colab_type": "code",
        "outputId": "76b2e797-7149-4fdb-a5a2-e30c83f13084",
        "colab": {
          "base_uri": "https://localhost:8080/",
          "height": 71
        }
      },
      "cell_type": "code",
      "source": [
        "df_notes = pd.read_csv(\"/content/gdrive/My Drive/data/NOTEEVENTS.csv\")"
      ],
      "execution_count": 19,
      "outputs": [
        {
          "output_type": "stream",
          "text": [
            "/usr/local/lib/python3.6/dist-packages/IPython/core/interactiveshell.py:2718: DtypeWarning: Columns (4,5) have mixed types. Specify dtype option on import or set low_memory=False.\n",
            "  interactivity=interactivity, compiler=compiler, result=result)\n"
          ],
          "name": "stderr"
        }
      ]
    },
    {
      "metadata": {
        "id": "Nwznnp2SpFXb",
        "colab_type": "code",
        "outputId": "ed9ce722-3884-404c-923d-d9e038de9fa7",
        "colab": {
          "base_uri": "https://localhost:8080/",
          "height": 34
        }
      },
      "cell_type": "code",
      "source": [
        "print('Number of notes:',len(df_notes))"
      ],
      "execution_count": 20,
      "outputs": [
        {
          "output_type": "stream",
          "text": [
            "Number of notes: 2083180\n"
          ],
          "name": "stdout"
        }
      ]
    },
    {
      "metadata": {
        "id": "hL9n5At9pFXu",
        "colab_type": "text"
      },
      "cell_type": "markdown",
      "source": [
        "There can be multiple notes per hospitalizations so don't worry that the number of notes is higher than the number of hospitalizations. "
      ]
    },
    {
      "metadata": {
        "id": "UABZtTO2pFXy",
        "colab_type": "code",
        "outputId": "07127353-4240-4700-9921-b5137dec525a",
        "colab": {
          "base_uri": "https://localhost:8080/",
          "height": 85
        }
      },
      "cell_type": "code",
      "source": [
        "df_notes.CATEGORY.unique()"
      ],
      "execution_count": 21,
      "outputs": [
        {
          "output_type": "execute_result",
          "data": {
            "text/plain": [
              "array(['Discharge summary', 'Echo', 'ECG', 'Nursing', 'Physician ',\n",
              "       'Rehab Services', 'Case Management ', 'Respiratory ', 'Nutrition',\n",
              "       'General', 'Social Work', 'Pharmacy', 'Consult', 'Radiology',\n",
              "       'Nursing/other'], dtype=object)"
            ]
          },
          "metadata": {
            "tags": []
          },
          "execution_count": 21
        }
      ]
    },
    {
      "metadata": {
        "id": "TEyAEOGupFYI",
        "colab_type": "code",
        "colab": {
          "base_uri": "https://localhost:8080/",
          "height": 513
        },
        "outputId": "59bde95b-23f9-4409-93d1-ef097402e07e"
      },
      "cell_type": "code",
      "source": [
        "df_notes.head()"
      ],
      "execution_count": 22,
      "outputs": [
        {
          "output_type": "execute_result",
          "data": {
            "text/html": [
              "<div>\n",
              "<style scoped>\n",
              "    .dataframe tbody tr th:only-of-type {\n",
              "        vertical-align: middle;\n",
              "    }\n",
              "\n",
              "    .dataframe tbody tr th {\n",
              "        vertical-align: top;\n",
              "    }\n",
              "\n",
              "    .dataframe thead th {\n",
              "        text-align: right;\n",
              "    }\n",
              "</style>\n",
              "<table border=\"1\" class=\"dataframe\">\n",
              "  <thead>\n",
              "    <tr style=\"text-align: right;\">\n",
              "      <th></th>\n",
              "      <th>ROW_ID</th>\n",
              "      <th>SUBJECT_ID</th>\n",
              "      <th>HADM_ID</th>\n",
              "      <th>CHARTDATE</th>\n",
              "      <th>CHARTTIME</th>\n",
              "      <th>STORETIME</th>\n",
              "      <th>CATEGORY</th>\n",
              "      <th>DESCRIPTION</th>\n",
              "      <th>CGID</th>\n",
              "      <th>ISERROR</th>\n",
              "      <th>TEXT</th>\n",
              "    </tr>\n",
              "  </thead>\n",
              "  <tbody>\n",
              "    <tr>\n",
              "      <th>0</th>\n",
              "      <td>174</td>\n",
              "      <td>22532</td>\n",
              "      <td>167853.0</td>\n",
              "      <td>2151-08-04</td>\n",
              "      <td>NaN</td>\n",
              "      <td>NaN</td>\n",
              "      <td>Discharge summary</td>\n",
              "      <td>Report</td>\n",
              "      <td>NaN</td>\n",
              "      <td>NaN</td>\n",
              "      <td>Admission Date:  [**2151-7-16**]       Dischar...</td>\n",
              "    </tr>\n",
              "    <tr>\n",
              "      <th>1</th>\n",
              "      <td>175</td>\n",
              "      <td>13702</td>\n",
              "      <td>107527.0</td>\n",
              "      <td>2118-06-14</td>\n",
              "      <td>NaN</td>\n",
              "      <td>NaN</td>\n",
              "      <td>Discharge summary</td>\n",
              "      <td>Report</td>\n",
              "      <td>NaN</td>\n",
              "      <td>NaN</td>\n",
              "      <td>Admission Date:  [**2118-6-2**]       Discharg...</td>\n",
              "    </tr>\n",
              "    <tr>\n",
              "      <th>2</th>\n",
              "      <td>176</td>\n",
              "      <td>13702</td>\n",
              "      <td>167118.0</td>\n",
              "      <td>2119-05-25</td>\n",
              "      <td>NaN</td>\n",
              "      <td>NaN</td>\n",
              "      <td>Discharge summary</td>\n",
              "      <td>Report</td>\n",
              "      <td>NaN</td>\n",
              "      <td>NaN</td>\n",
              "      <td>Admission Date:  [**2119-5-4**]              D...</td>\n",
              "    </tr>\n",
              "    <tr>\n",
              "      <th>3</th>\n",
              "      <td>177</td>\n",
              "      <td>13702</td>\n",
              "      <td>196489.0</td>\n",
              "      <td>2124-08-18</td>\n",
              "      <td>NaN</td>\n",
              "      <td>NaN</td>\n",
              "      <td>Discharge summary</td>\n",
              "      <td>Report</td>\n",
              "      <td>NaN</td>\n",
              "      <td>NaN</td>\n",
              "      <td>Admission Date:  [**2124-7-21**]              ...</td>\n",
              "    </tr>\n",
              "    <tr>\n",
              "      <th>4</th>\n",
              "      <td>178</td>\n",
              "      <td>26880</td>\n",
              "      <td>135453.0</td>\n",
              "      <td>2162-03-25</td>\n",
              "      <td>NaN</td>\n",
              "      <td>NaN</td>\n",
              "      <td>Discharge summary</td>\n",
              "      <td>Report</td>\n",
              "      <td>NaN</td>\n",
              "      <td>NaN</td>\n",
              "      <td>Admission Date:  [**2162-3-3**]              D...</td>\n",
              "    </tr>\n",
              "  </tbody>\n",
              "</table>\n",
              "</div>"
            ],
            "text/plain": [
              "   ROW_ID  SUBJECT_ID   HADM_ID   CHARTDATE CHARTTIME STORETIME  \\\n",
              "0     174       22532  167853.0  2151-08-04       NaN       NaN   \n",
              "1     175       13702  107527.0  2118-06-14       NaN       NaN   \n",
              "2     176       13702  167118.0  2119-05-25       NaN       NaN   \n",
              "3     177       13702  196489.0  2124-08-18       NaN       NaN   \n",
              "4     178       26880  135453.0  2162-03-25       NaN       NaN   \n",
              "\n",
              "            CATEGORY DESCRIPTION  CGID  ISERROR  \\\n",
              "0  Discharge summary      Report   NaN      NaN   \n",
              "1  Discharge summary      Report   NaN      NaN   \n",
              "2  Discharge summary      Report   NaN      NaN   \n",
              "3  Discharge summary      Report   NaN      NaN   \n",
              "4  Discharge summary      Report   NaN      NaN   \n",
              "\n",
              "                                                TEXT  \n",
              "0  Admission Date:  [**2151-7-16**]       Dischar...  \n",
              "1  Admission Date:  [**2118-6-2**]       Discharg...  \n",
              "2  Admission Date:  [**2119-5-4**]              D...  \n",
              "3  Admission Date:  [**2124-7-21**]              ...  \n",
              "4  Admission Date:  [**2162-3-3**]              D...  "
            ]
          },
          "metadata": {
            "tags": []
          },
          "execution_count": 22
        }
      ]
    },
    {
      "metadata": {
        "id": "_gcuM1f6pFYX",
        "colab_type": "code",
        "colab": {
          "base_uri": "https://localhost:8080/",
          "height": 54
        },
        "outputId": "85751e57-01f5-41a9-e723-5606334a86e6"
      },
      "cell_type": "code",
      "source": [
        "# look at the first note\n",
        "df_notes.TEXT.iloc[0]"
      ],
      "execution_count": 23,
      "outputs": [
        {
          "output_type": "execute_result",
          "data": {
            "text/plain": [
              "'Admission Date:  [**2151-7-16**]       Discharge Date:  [**2151-8-4**]\\n\\n\\nService:\\nADDENDUM:\\n\\nRADIOLOGIC STUDIES:  Radiologic studies also included a chest\\nCT, which confirmed cavitary lesions in the left lung apex\\nconsistent with infectious process/tuberculosis.  This also\\nmoderate-sized left pleural effusion.\\n\\nHEAD CT:  Head CT showed no intracranial hemorrhage or mass\\neffect, but old infarction consistent with past medical\\nhistory.\\n\\nABDOMINAL CT:  Abdominal CT showed lesions of\\nT10 and sacrum most likely secondary to osteoporosis. These can\\nbe followed by repeat imaging as an outpatient.\\n\\n\\n\\n                            [**First Name8 (NamePattern2) **] [**First Name4 (NamePattern1) 1775**] [**Last Name (NamePattern1) **], M.D.  [**MD Number(1) 1776**]\\n\\nDictated By:[**Hospital 1807**]\\nMEDQUIST36\\n\\nD:  [**2151-8-5**]  12:11\\nT:  [**2151-8-5**]  12:21\\nJOB#:  [**Job Number 1808**]\\n'"
            ]
          },
          "metadata": {
            "tags": []
          },
          "execution_count": 23
        }
      ]
    },
    {
      "metadata": {
        "id": "i7ynntvmpFYq",
        "colab_type": "text"
      },
      "cell_type": "markdown",
      "source": [
        "We can see that the dates and PHI have been converted for confidentiality. There are '\\n' characters, numbers and punctuation. "
      ]
    },
    {
      "metadata": {
        "id": "75gHzJm2pFYv",
        "colab_type": "text"
      },
      "cell_type": "markdown",
      "source": [
        "At this point, we have to make a choice on what notes to use. For simplicity, let's use the discharge summary, but we could use all the notes by concatenating them. "
      ]
    },
    {
      "metadata": {
        "id": "mhagzBRmpFY0",
        "colab_type": "code",
        "colab": {}
      },
      "cell_type": "code",
      "source": [
        "# filter to discharge summary\n",
        "df_notes_dis_sum = df_notes.loc[df_notes.CATEGORY == 'Discharge summary']"
      ],
      "execution_count": 0,
      "outputs": []
    },
    {
      "metadata": {
        "id": "jp-ySFRppFZD",
        "colab_type": "code",
        "outputId": "1f0efe60-480e-4177-de44-6fe6a3a68490",
        "colab": {
          "base_uri": "https://localhost:8080/",
          "height": 184
        }
      },
      "cell_type": "code",
      "source": [
        "assert df_notes_dis_sum.duplicated(['HADM_ID']).sum() == 0, 'Multiple discharge summaries per admission'"
      ],
      "execution_count": 25,
      "outputs": [
        {
          "output_type": "error",
          "ename": "AssertionError",
          "evalue": "ignored",
          "traceback": [
            "\u001b[0;31m---------------------------------------------------------------------------\u001b[0m",
            "\u001b[0;31mAssertionError\u001b[0m                            Traceback (most recent call last)",
            "\u001b[0;32m<ipython-input-25-7553f51059ae>\u001b[0m in \u001b[0;36m<module>\u001b[0;34m()\u001b[0m\n\u001b[0;32m----> 1\u001b[0;31m \u001b[0;32massert\u001b[0m \u001b[0mdf_notes_dis_sum\u001b[0m\u001b[0;34m.\u001b[0m\u001b[0mduplicated\u001b[0m\u001b[0;34m(\u001b[0m\u001b[0;34m[\u001b[0m\u001b[0;34m'HADM_ID'\u001b[0m\u001b[0;34m]\u001b[0m\u001b[0;34m)\u001b[0m\u001b[0;34m.\u001b[0m\u001b[0msum\u001b[0m\u001b[0;34m(\u001b[0m\u001b[0;34m)\u001b[0m \u001b[0;34m==\u001b[0m \u001b[0;36m0\u001b[0m\u001b[0;34m,\u001b[0m \u001b[0;34m'Multiple discharge summaries per admission'\u001b[0m\u001b[0;34m\u001b[0m\u001b[0;34m\u001b[0m\u001b[0m\n\u001b[0m",
            "\u001b[0;31mAssertionError\u001b[0m: Multiple discharge summaries per admission"
          ]
        }
      ]
    },
    {
      "metadata": {
        "id": "A8fXLB0dpFZU",
        "colab_type": "code",
        "colab": {}
      },
      "cell_type": "code",
      "source": [
        "df_notes_dis_sum_last = (df_notes_dis_sum.groupby(['SUBJECT_ID','HADM_ID']).nth(-1)).reset_index()\n",
        "assert df_notes_dis_sum_last.duplicated(['HADM_ID']).sum() == 0, 'Multiple discharge summaries per admission'"
      ],
      "execution_count": 0,
      "outputs": []
    },
    {
      "metadata": {
        "id": "61lZnl1-pFZm",
        "colab_type": "text"
      },
      "cell_type": "markdown",
      "source": [
        "## Merge data sets"
      ]
    },
    {
      "metadata": {
        "id": "okv3QfKQpFZs",
        "colab_type": "code",
        "colab": {}
      },
      "cell_type": "code",
      "source": [
        "df_adm_notes = pd.merge(df_adm[['SUBJECT_ID','HADM_ID','ADMITTIME','DISCHTIME','DAYS_NEXT_ADMIT','NEXT_ADMITTIME','ADMISSION_TYPE','DEATHTIME']],\n",
        "                        df_notes_dis_sum_last[['SUBJECT_ID','HADM_ID','TEXT']], \n",
        "                        on = ['SUBJECT_ID','HADM_ID'],\n",
        "                        how = 'left')\n",
        "assert len(df_adm) == len(df_adm_notes), 'Number of rows increased'"
      ],
      "execution_count": 0,
      "outputs": []
    },
    {
      "metadata": {
        "id": "d8oJKCMKpFZ-",
        "colab_type": "text"
      },
      "cell_type": "markdown",
      "source": [
        "Check to see if there are alot of notes that are missing text (might be a sign of a problem)."
      ]
    },
    {
      "metadata": {
        "id": "mPF3NP91pFaG",
        "colab_type": "code",
        "colab": {}
      },
      "cell_type": "code",
      "source": [
        "print('Fraction of missing notes:', df_adm_notes.TEXT.isnull().sum() / len(df_adm_notes))\n",
        "print('Fraction notes with newlines:', df_adm_notes.TEXT.str.contains('\\n').sum() / len(df_adm_notes))\n",
        "print('Fraction notes with carriage returns:', df_adm_notes.TEXT.str.contains('\\r').sum() / len(df_adm_notes))"
      ],
      "execution_count": 0,
      "outputs": []
    },
    {
      "metadata": {
        "id": "uEAklE55pFac",
        "colab_type": "code",
        "outputId": "c52576e7-e53d-498a-a917-5f37784f057e",
        "colab": {
          "base_uri": "https://localhost:8080/",
          "height": 119
        }
      },
      "cell_type": "code",
      "source": [
        "df_adm_notes.groupby('ADMISSION_TYPE').apply(lambda g: g.TEXT.isnull().sum())/df_adm_notes.groupby('ADMISSION_TYPE').size()"
      ],
      "execution_count": 29,
      "outputs": [
        {
          "output_type": "execute_result",
          "data": {
            "text/plain": [
              "ADMISSION_TYPE\n",
              "ELECTIVE     0.048663\n",
              "EMERGENCY    0.037983\n",
              "NEWBORN      0.536691\n",
              "URGENT       0.042665\n",
              "dtype: float64"
            ]
          },
          "metadata": {
            "tags": []
          },
          "execution_count": 29
        }
      ]
    },
    {
      "metadata": {
        "id": "u3bVaHKgpFaw",
        "colab_type": "text"
      },
      "cell_type": "markdown",
      "source": [
        "Remove NEWBORN"
      ]
    },
    {
      "metadata": {
        "id": "sCebyuRdpFa0",
        "colab_type": "code",
        "colab": {}
      },
      "cell_type": "code",
      "source": [
        "df_adm_notes_clean = df_adm_notes.loc[df_adm_notes.ADMISSION_TYPE != 'NEWBORN'].copy()"
      ],
      "execution_count": 0,
      "outputs": []
    },
    {
      "metadata": {
        "id": "w_KkgeA4pFbD",
        "colab_type": "code",
        "outputId": "ca195fa0-b485-4bc7-a8e6-7215e60e5415",
        "colab": {
          "base_uri": "https://localhost:8080/",
          "height": 68
        }
      },
      "cell_type": "code",
      "source": [
        "print('Fraction of missing notes:', df_adm_notes_clean.TEXT.isnull().sum() / len(df_adm_notes_clean))\n",
        "print('Fraction notes with newlines:', df_adm_notes_clean.TEXT.str.contains('\\n').sum() / len(df_adm_notes_clean))\n",
        "print('Fraction notes with carriage returns:', df_adm_notes_clean.TEXT.str.contains('\\r').sum() / len(df_adm_notes_clean))"
      ],
      "execution_count": 31,
      "outputs": [
        {
          "output_type": "stream",
          "text": [
            "Fraction of missing notes: 0.03971592354195606\n",
            "Fraction notes with newlines: 0.9602840764580439\n",
            "Fraction notes with carriage returns: 0.0\n"
          ],
          "name": "stdout"
        }
      ]
    },
    {
      "metadata": {
        "id": "3RBxmRHkpFbX",
        "colab_type": "text"
      },
      "cell_type": "markdown",
      "source": [
        "Additional analysis might be required to see if there are any specific cases why a discharge would not appear. For now, we will push forward. "
      ]
    },
    {
      "metadata": {
        "id": "5m2DaB9fpFbc",
        "colab_type": "text"
      },
      "cell_type": "markdown",
      "source": [
        "## Prepare a label"
      ]
    },
    {
      "metadata": {
        "id": "Ey1I-plspFbg",
        "colab_type": "text"
      },
      "cell_type": "markdown",
      "source": [
        "I like to create a specific column in the dataframe as OUTPUT_LABEL that has exactly what we are trying to predict. Here we want if the patient was re-admitted within 30 days"
      ]
    },
    {
      "metadata": {
        "id": "RVZLCBlNpFbk",
        "colab_type": "code",
        "colab": {}
      },
      "cell_type": "code",
      "source": [
        "df_adm_notes_clean['OUTPUT_LABEL'] = (df_adm_notes_clean.DAYS_NEXT_ADMIT < 30).astype('int')"
      ],
      "execution_count": 0,
      "outputs": []
    },
    {
      "metadata": {
        "id": "L3VWXO8ZpFby",
        "colab_type": "code",
        "colab": {}
      },
      "cell_type": "code",
      "source": [
        "print('Number of positive samples:', (df_adm_notes_clean.OUTPUT_LABEL == 1).sum())\n",
        "print('Number of negative samples:',  (df_adm_notes_clean.OUTPUT_LABEL == 0).sum())\n",
        "print('Total samples:', len(df_adm_notes_clean))"
      ],
      "execution_count": 0,
      "outputs": []
    },
    {
      "metadata": {
        "id": "D8YGNKyxpFcg",
        "colab_type": "text"
      },
      "cell_type": "markdown",
      "source": [
        "# Create training and test dataframes"
      ]
    },
    {
      "metadata": {
        "id": "vRSpxX7ppFcl",
        "colab_type": "text"
      },
      "cell_type": "markdown",
      "source": [
        "When we build a predictive model, we want the model to work well on data that the model has never seen. To test for this, we take our data and split it into three datasets: training, validation and test. \n",
        "\n",
        "- training set: used to train the model\n",
        "- validation set: data the model didn't see, but are used to optimize or tune the model\n",
        "- test set: data the model and tuning process never saw (true test of generalizability)\n",
        "\n",
        "The validation and test set should be as close to the production data as possible. We don't want to make decisions on validation data that is not from same type of data as the test set. For example, don't use high resolution images for validation set if you think production will be amateur photos from your phone. \n"
      ]
    },
    {
      "metadata": {
        "id": "zXD21LoIpFcs",
        "colab_type": "code",
        "outputId": "99489217-7403-45e0-cb0f-43c28c154a6d",
        "colab": {
          "base_uri": "https://localhost:8080/",
          "height": 85
        }
      },
      "cell_type": "code",
      "source": [
        "# shuffle the samples\n",
        "df_adm_notes_clean = df_adm_notes_clean.sample(n = len(df_adm_notes_clean), random_state = 42)\n",
        "df_adm_notes_clean = df_adm_notes_clean.reset_index(drop = True)\n",
        "\n",
        "# Save 30% of the data as validation and test data \n",
        "df_valid_test=df_adm_notes_clean.sample(frac=0.30,random_state=42)\n",
        "\n",
        "df_test = df_valid_test.sample(frac = 0.5, random_state = 42)\n",
        "df_valid = df_valid_test.drop(df_test.index)\n",
        "\n",
        "# use the rest of the data as training data\n",
        "df_train_all=df_adm_notes_clean.drop(df_valid_test.index)\n",
        "\n",
        "print('Test prevalence(n = %d):'%len(df_test),df_test.OUTPUT_LABEL.sum()/ len(df_test))\n",
        "print('Valid prevalence(n = %d):'%len(df_valid),df_valid.OUTPUT_LABEL.sum()/ len(df_valid))\n",
        "print('Train all prevalence(n = %d):'%len(df_train_all), df_train_all.OUTPUT_LABEL.sum()/ len(df_train_all))\n",
        "print('all samples (n = %d)'%len(df_adm_notes_clean))\n",
        "assert len(df_adm_notes_clean) == (len(df_test)+len(df_valid)+len(df_train_all)),'math didnt work'"
      ],
      "execution_count": 33,
      "outputs": [
        {
          "output_type": "stream",
          "text": [
            "Test prevalence(n = 7667): 0.061953828094430674\n",
            "Valid prevalence(n = 7667): 0.056997521846876224\n",
            "Train all prevalence(n = 35779): 0.05847005226529529\n",
            "all samples (n = 51113)\n"
          ],
          "name": "stdout"
        }
      ]
    },
    {
      "metadata": {
        "id": "0MvCvST_pFdA",
        "colab_type": "text"
      },
      "cell_type": "markdown",
      "source": [
        "Since the prevalence is so low, we want to prevent the model from always predicting negative. To do this, we have a few options\n",
        "- balance the data by sub-sampling the negatives\n",
        "- balance the data by over-sampling the positives\n",
        "- create synthetic data (e.g. SMOTE)\n",
        "\n",
        "In this example, we will sub-sample the negatives"
      ]
    },
    {
      "metadata": {
        "id": "PtGyk0pUpFdI",
        "colab_type": "code",
        "outputId": "b7283f01-52b7-4cb5-9313-570f897c62db",
        "colab": {
          "base_uri": "https://localhost:8080/",
          "height": 34
        }
      },
      "cell_type": "code",
      "source": [
        "# split the training data into positive and negative\n",
        "rows_pos = df_train_all.OUTPUT_LABEL == 1\n",
        "df_train_pos = df_train_all.loc[rows_pos]\n",
        "df_train_neg = df_train_all.loc[~rows_pos]\n",
        "\n",
        "# merge the balanced data\n",
        "df_train = pd.concat([df_train_pos, df_train_neg.sample(n = len(df_train_pos), random_state = 42)],axis = 0)\n",
        "\n",
        "# shuffle the order of training samples \n",
        "df_train = df_train.sample(n = len(df_train), random_state = 42).reset_index(drop = True)\n",
        "\n",
        "print('Train prevalence (n = %d):'%len(df_train), df_train.OUTPUT_LABEL.sum()/ len(df_train))"
      ],
      "execution_count": 34,
      "outputs": [
        {
          "output_type": "stream",
          "text": [
            "Train prevalence (n = 4184): 0.5\n"
          ],
          "name": "stdout"
        }
      ]
    },
    {
      "metadata": {
        "id": "08BJoyXZpFdl",
        "colab_type": "text"
      },
      "cell_type": "markdown",
      "source": [
        "# Step 2: Preprocess text data"
      ]
    },
    {
      "metadata": {
        "id": "xQh_srUppFdq",
        "colab_type": "text"
      },
      "cell_type": "markdown",
      "source": [
        "Now that we have created data sets that have a label and the notes, we need to preprocess our text data to convert it to something useful (i.e. numbers) for the machine learning model. We are going to use the Bag-of-Words (BOW) approach."
      ]
    },
    {
      "metadata": {
        "collapsed": true,
        "id": "_kRwAzMLpFdu",
        "colab_type": "text"
      },
      "cell_type": "markdown",
      "source": [
        "BOW basically breaks up the note into the individual words and counts how many times each word occurs. Your numerical data then becomes counts for some set of words as shown below. BOW is the simplest way to do NLP classification. In most blog posts I have read, fancier techniques have a hard time beating BOW for NLP classification tasks."
      ]
    },
    {
      "metadata": {
        "id": "3ClAlUQtpFdy",
        "colab_type": "text"
      },
      "cell_type": "markdown",
      "source": [
        "In this process, there are few choices that need to be made\n",
        "- how to pre-process the words\n",
        "- how to count the words\n",
        "- which words to use\n",
        "\n",
        "There is no optimal choice for all NLP projects, so I recommend trying out a few options when building your own models.\n",
        "\n",
        "You can do the pre-processing in two ways:\n",
        "- modify the original dataframe TEXT column\n",
        "- pre-process as part of your pipeline so you don't edit the original data (allows you try out a few options easily)"
      ]
    },
    {
      "metadata": {
        "id": "DZlD7JJppFd2",
        "colab_type": "text"
      },
      "cell_type": "markdown",
      "source": [
        "### Preprocess all the notes"
      ]
    },
    {
      "metadata": {
        "id": "qurpN30jpFd7",
        "colab_type": "text"
      },
      "cell_type": "markdown",
      "source": [
        "Modify the original dataframe by dealing with the missing text, newlines and carriage returns"
      ]
    },
    {
      "metadata": {
        "id": "sWMXyxiBpFeC",
        "colab_type": "code",
        "colab": {}
      },
      "cell_type": "code",
      "source": [
        "def preprocess_text(df):\n",
        "    # This function preprocesses the text by filling not a number and replacing new lines ('\\n') and carriage returns ('\\r')\n",
        "    df.TEXT = df.TEXT.fillna(' ')\n",
        "    df.TEXT =df.TEXT.str.replace('\\n',' ')\n",
        "    df.TEXT =df.TEXT.str.replace('\\r',' ')\n",
        "    return df"
      ],
      "execution_count": 0,
      "outputs": []
    },
    {
      "metadata": {
        "id": "xlM6C0yWpFew",
        "colab_type": "text"
      },
      "cell_type": "markdown",
      "source": [
        "### Build a tokenizer"
      ]
    },
    {
      "metadata": {
        "id": "_YvBhF-xpFea",
        "colab_type": "code",
        "colab": {}
      },
      "cell_type": "code",
      "source": [
        "# preprocess the text to deal with known issues\n",
        "df_train = preprocess_text(df_train)\n",
        "df_valid = preprocess_text(df_valid)\n",
        "df_test = preprocess_text(df_test)"
      ],
      "execution_count": 0,
      "outputs": []
    },
    {
      "metadata": {
        "id": "eCBZx5vJpFe0",
        "colab_type": "text"
      },
      "cell_type": "markdown",
      "source": [
        "Now we need to create a function that splits the note into individual words. This function is called a tokenizer. We can use the nltk.word_tokenize function to this for us. "
      ]
    },
    {
      "metadata": {
        "id": "XJg6P6rMpFe5",
        "colab_type": "code",
        "outputId": "c590d917-3067-42f2-c720-ad4e485a1c98",
        "colab": {
          "base_uri": "https://localhost:8080/",
          "height": 204
        }
      },
      "cell_type": "code",
      "source": [
        "\n",
        "nltk.download('punkt')\n",
        "\n",
        "import nltk\n",
        "from nltk import word_tokenize\n",
        "word_tokenize('This should be tokenized. 02/02/2018 sentence has stars**')"
      ],
      "execution_count": 37,
      "outputs": [
        {
          "output_type": "stream",
          "text": [
            "[nltk_data] Downloading package punkt to /root/nltk_data...\n",
            "[nltk_data]   Unzipping tokenizers/punkt.zip.\n"
          ],
          "name": "stderr"
        },
        {
          "output_type": "execute_result",
          "data": {
            "text/plain": [
              "['This',\n",
              " 'should',\n",
              " 'be',\n",
              " 'tokenized',\n",
              " '.',\n",
              " '02/02/2018',\n",
              " 'sentence',\n",
              " 'has',\n",
              " 'stars**']"
            ]
          },
          "metadata": {
            "tags": []
          },
          "execution_count": 37
        }
      ]
    },
    {
      "metadata": {
        "id": "Mic6muU0pFfU",
        "colab_type": "text"
      },
      "cell_type": "markdown",
      "source": [
        "Note that some punctuation is separated but not all punctuation. "
      ]
    },
    {
      "metadata": {
        "id": "cv0mv2hKpFfX",
        "colab_type": "text"
      },
      "cell_type": "markdown",
      "source": [
        "We can define our own custom tokenizer. Our tokenizer will \n",
        "- replace punctuation with spaces\n",
        "- remove numbers with spaces\n",
        "- lowercase all words\n",
        "\n",
        "I like to do these steps as part of the tokenizer, so I can go back and look at the original note. The new line and carriage return is more difficult to deal with so I did it in the preprocessing step above. "
      ]
    },
    {
      "metadata": {
        "id": "aaFilHHrpFfm",
        "colab_type": "code",
        "outputId": "55852f21-fcb7-4e7b-d00b-b41e575ca435",
        "colab": {
          "base_uri": "https://localhost:8080/",
          "height": 34
        }
      },
      "cell_type": "code",
      "source": [
        "import string\n",
        "print(string.punctuation)"
      ],
      "execution_count": 38,
      "outputs": [
        {
          "output_type": "stream",
          "text": [
            "!\"#$%&'()*+,-./:;<=>?@[\\]^_`{|}~\n"
          ],
          "name": "stdout"
        }
      ]
    },
    {
      "metadata": {
        "id": "hccOU3rcpFf4",
        "colab_type": "code",
        "colab": {}
      },
      "cell_type": "code",
      "source": [
        "def tokenizer_better(text):\n",
        "    # tokenize the text by replacing punctuation and numbers with spaces and lowercase all words\n",
        "    \n",
        "    punc_list = string.punctuation+'0123456789'\n",
        "    t = str.maketrans(dict.fromkeys(punc_list, \" \"))\n",
        "    text = text.lower().translate(t)\n",
        "    tokens = word_tokenize(text)\n",
        "    return tokens"
      ],
      "execution_count": 0,
      "outputs": []
    },
    {
      "metadata": {
        "id": "5k6jGwl7pFgG",
        "colab_type": "code",
        "outputId": "d3da8c47-c369-43c7-b939-6317aa90fc3e",
        "colab": {
          "base_uri": "https://localhost:8080/",
          "height": 34
        }
      },
      "cell_type": "code",
      "source": [
        "tokenizer_better('This should be tokenized. 02/02/2018 sentence has stars**')"
      ],
      "execution_count": 40,
      "outputs": [
        {
          "output_type": "execute_result",
          "data": {
            "text/plain": [
              "['this', 'should', 'be', 'tokenized', 'sentence', 'has', 'stars']"
            ]
          },
          "metadata": {
            "tags": []
          },
          "execution_count": 40
        }
      ]
    },
    {
      "metadata": {
        "id": "QAMRRXuNpFgc",
        "colab_type": "text"
      },
      "cell_type": "markdown",
      "source": [
        "### Build a simple vectorizer"
      ]
    },
    {
      "metadata": {
        "id": "xCCnzdo2pFgg",
        "colab_type": "text"
      },
      "cell_type": "markdown",
      "source": [
        "Now that we have a way to convert free-text into tokens, we need a way to create features from these tokens. "
      ]
    },
    {
      "metadata": {
        "id": "o9eeQGbapFgp",
        "colab_type": "code",
        "colab": {}
      },
      "cell_type": "code",
      "source": [
        "sample_text = ['Data science is about the data', 'The science is amazing', 'Predictive modeling is part of data science']"
      ],
      "execution_count": 0,
      "outputs": []
    },
    {
      "metadata": {
        "id": "9XrLYzN0pFhN",
        "colab_type": "code",
        "colab": {}
      },
      "cell_type": "code",
      "source": [
        "from sklearn.feature_extraction.text import CountVectorizer\n",
        "vect = CountVectorizer(tokenizer = tokenizer_better)\n",
        "vect.fit(sample_text)\n",
        "\n",
        "# matrix is stored as a sparse matrix (since you have a lot of zeros)\n",
        "X = vect.transform(sample_text)"
      ],
      "execution_count": 0,
      "outputs": []
    },
    {
      "metadata": {
        "id": "mqZDOW8cpFhf",
        "colab_type": "code",
        "outputId": "e293032d-13e7-4b9c-924d-f2d7f006a63e",
        "colab": {
          "base_uri": "https://localhost:8080/",
          "height": 51
        }
      },
      "cell_type": "code",
      "source": [
        "X"
      ],
      "execution_count": 43,
      "outputs": [
        {
          "output_type": "execute_result",
          "data": {
            "text/plain": [
              "<3x10 sparse matrix of type '<class 'numpy.int64'>'\n",
              "\twith 16 stored elements in Compressed Sparse Row format>"
            ]
          },
          "metadata": {
            "tags": []
          },
          "execution_count": 43
        }
      ]
    },
    {
      "metadata": {
        "id": "3TvDYakupFhw",
        "colab_type": "code",
        "outputId": "c808d810-0047-4bda-bb9a-914760e0d949",
        "colab": {
          "base_uri": "https://localhost:8080/",
          "height": 68
        }
      },
      "cell_type": "code",
      "source": [
        "# we can visualize this small example if we convert it to an array\n",
        "X.toarray()"
      ],
      "execution_count": 44,
      "outputs": [
        {
          "output_type": "execute_result",
          "data": {
            "text/plain": [
              "array([[1, 0, 2, 1, 0, 0, 0, 0, 1, 1],\n",
              "       [0, 1, 0, 1, 0, 0, 0, 0, 1, 1],\n",
              "       [0, 0, 1, 1, 1, 1, 1, 1, 1, 0]])"
            ]
          },
          "metadata": {
            "tags": []
          },
          "execution_count": 44
        }
      ]
    },
    {
      "metadata": {
        "id": "k2KJ4HtapFiD",
        "colab_type": "code",
        "outputId": "e23398e4-36d7-42fb-f9d0-49225590f8c6",
        "colab": {
          "base_uri": "https://localhost:8080/",
          "height": 187
        }
      },
      "cell_type": "code",
      "source": [
        "# get the column names\n",
        "vect.get_feature_names()"
      ],
      "execution_count": 45,
      "outputs": [
        {
          "output_type": "execute_result",
          "data": {
            "text/plain": [
              "['about',\n",
              " 'amazing',\n",
              " 'data',\n",
              " 'is',\n",
              " 'modeling',\n",
              " 'of',\n",
              " 'part',\n",
              " 'predictive',\n",
              " 'science',\n",
              " 'the']"
            ]
          },
          "metadata": {
            "tags": []
          },
          "execution_count": 45
        }
      ]
    },
    {
      "metadata": {
        "id": "23kVibC2pFia",
        "colab_type": "text"
      },
      "cell_type": "markdown",
      "source": [
        "## build a vectorizer on the clinical notes"
      ]
    },
    {
      "metadata": {
        "id": "uwPYb628pFie",
        "colab_type": "code",
        "outputId": "7d94f861-5a37-421f-9a4a-9929ae0ed0f8",
        "colab": {
          "base_uri": "https://localhost:8080/",
          "height": 136
        }
      },
      "cell_type": "code",
      "source": [
        "from sklearn.feature_extraction.text import CountVectorizer\n",
        "vect = CountVectorizer(max_features = 3000, tokenizer = tokenizer_better)\n",
        "\n",
        "# this could take a while\n",
        "vect.fit(df_train.TEXT.values)"
      ],
      "execution_count": 46,
      "outputs": [
        {
          "output_type": "execute_result",
          "data": {
            "text/plain": [
              "CountVectorizer(analyzer='word', binary=False, decode_error='strict',\n",
              "        dtype=<class 'numpy.int64'>, encoding='utf-8', input='content',\n",
              "        lowercase=True, max_df=1.0, max_features=3000, min_df=1,\n",
              "        ngram_range=(1, 1), preprocessor=None, stop_words=None,\n",
              "        strip_accents=None, token_pattern='(?u)\\\\b\\\\w\\\\w+\\\\b',\n",
              "        tokenizer=<function tokenizer_better at 0x7f294411cb70>,\n",
              "        vocabulary=None)"
            ]
          },
          "metadata": {
            "tags": []
          },
          "execution_count": 46
        }
      ]
    },
    {
      "metadata": {
        "id": "kOl2g-PUpFi0",
        "colab_type": "text"
      },
      "cell_type": "markdown",
      "source": [
        "# Zipf's law"
      ]
    },
    {
      "metadata": {
        "id": "DJKxgoibpFi4",
        "colab_type": "code",
        "outputId": "2acfd370-b30a-4076-857b-4b56206488a0",
        "colab": {
          "base_uri": "https://localhost:8080/",
          "height": 881
        }
      },
      "cell_type": "code",
      "source": [
        "neg_doc_matrix = vect.transform(df_train[df_train.OUTPUT_LABEL == 0].TEXT)\n",
        "pos_doc_matrix = vect.transform(df_train[df_train.OUTPUT_LABEL == 1].TEXT)\n",
        "neg_tf = np.sum(neg_doc_matrix,axis=0)\n",
        "pos_tf = np.sum(pos_doc_matrix,axis=0)\n",
        "neg = np.squeeze(np.asarray(neg_tf))\n",
        "pos = np.squeeze(np.asarray(pos_tf))\n",
        "\n",
        "term_freq_df = pd.DataFrame([neg,pos],columns=vect.get_feature_names()).transpose()\n",
        "term_freq_df.columns = ['negative', 'positive']\n",
        "term_freq_df['total'] = term_freq_df['negative'] + term_freq_df['positive']\n",
        "term_freq_df.sort_values(by='total', ascending=False).iloc[:10]\n",
        "\n",
        "#Create a series from the sparse matrix\n",
        "d = pd.Series(term_freq_df.total, \n",
        "              index = term_freq_df.index).sort_values(ascending=False)\n",
        "ax = d[:50].plot(kind='bar', figsize=(10,6), width=.8, fontsize=14, rot=90,color = 'b')\n",
        "ax.title.set_size(18)\n",
        "plt.ylabel('count')\n",
        "plt.show()\n",
        "ax = d[50:100].plot(kind='bar', figsize=(10,6), width=.8, fontsize=14, rot=90,color = 'b')\n",
        "ax.title.set_size(18)\n",
        "plt.ylabel('count')\n",
        "plt.show()"
      ],
      "execution_count": 47,
      "outputs": [
        {
          "output_type": "display_data",
          "data": {
            "image/png": "[encoded data removed]",
            "text/plain": [
              "<Figure size 720x432 with 1 Axes>"
            ]
          },
          "metadata": {
            "tags": []
          }
        },
        {
          "output_type": "display_data",
          "data": {
            "image/png": "[encoded data removed]",
            "text/plain": [
              "<Figure size 720x432 with 1 Axes>"
            ]
          },
          "metadata": {
            "tags": []
          }
        }
      ]
    },
    {
      "metadata": {
        "id": "QSCYN_8ZpFjJ",
        "colab_type": "code",
        "colab": {}
      },
      "cell_type": "code",
      "source": [
        "my_stop_words = ['the','and','to','of','was','with','a','on','in','for','name',\n",
        "                 'is','patient','s','he','at','as','or','one','she','his','her','am',\n",
        "                 'were','you','pt','pm','by','be','had','your','this','date',\n",
        "                'from','there','an','that','p','are','have','has','h','but','o',\n",
        "                'namepattern','which','every','also']"
      ],
      "execution_count": 0,
      "outputs": []
    },
    {
      "metadata": {
        "id": "DXG76C1rpFjZ",
        "colab_type": "code",
        "outputId": "18b8824e-5e7f-4179-dbb9-a69f503b3a4a",
        "colab": {
          "base_uri": "https://localhost:8080/",
          "height": 173
        }
      },
      "cell_type": "code",
      "source": [
        "from sklearn.feature_extraction.text import CountVectorizer\n",
        "vect = CountVectorizer(max_features = 3000, \n",
        "                       tokenizer = tokenizer_better, \n",
        "                       stop_words = my_stop_words)\n",
        "# this could take a while\n",
        "vect.fit(df_train.TEXT.values)"
      ],
      "execution_count": 49,
      "outputs": [
        {
          "output_type": "execute_result",
          "data": {
            "text/plain": [
              "CountVectorizer(analyzer='word', binary=False, decode_error='strict',\n",
              "        dtype=<class 'numpy.int64'>, encoding='utf-8', input='content',\n",
              "        lowercase=True, max_df=1.0, max_features=3000, min_df=1,\n",
              "        ngram_range=(1, 1), preprocessor=None,\n",
              "        stop_words=['the', 'and', 'to', 'of', 'was', 'with', 'a', 'on', 'in', 'for', 'name', 'is', 'patient', 's', 'he', 'at', 'as', 'or', 'one', 'she', 'his', 'her', 'am', 'were', 'you', 'pt', 'pm', 'by', 'be', 'had', 'your', 'this', 'date', 'from', 'there', 'an', 'that', 'p', 'are', 'have', 'has', 'h', 'but', 'o', 'namepattern', 'which', 'every', 'also'],\n",
              "        strip_accents=None, token_pattern='(?u)\\\\b\\\\w\\\\w+\\\\b',\n",
              "        tokenizer=<function tokenizer_better at 0x7f294411cb70>,\n",
              "        vocabulary=None)"
            ]
          },
          "metadata": {
            "tags": []
          },
          "execution_count": 49
        }
      ]
    },
    {
      "metadata": {
        "id": "BJUMWSkHpFjv",
        "colab_type": "text"
      },
      "cell_type": "markdown",
      "source": [
        "Transform notes into the vector format"
      ]
    },
    {
      "metadata": {
        "id": "a_vKuHXypFjz",
        "colab_type": "code",
        "colab": {}
      },
      "cell_type": "code",
      "source": [
        "X_train_tf = vect.transform(df_train.TEXT.values)\n",
        "X_valid_tf = vect.transform(df_valid.TEXT.values)"
      ],
      "execution_count": 0,
      "outputs": []
    },
    {
      "metadata": {
        "id": "PimJBTR_pFkC",
        "colab_type": "text"
      },
      "cell_type": "markdown",
      "source": [
        "Get labels\n"
      ]
    },
    {
      "metadata": {
        "id": "5H305-x0pFkF",
        "colab_type": "code",
        "colab": {}
      },
      "cell_type": "code",
      "source": [
        "y_train = df_train.OUTPUT_LABEL\n",
        "y_valid = df_valid.OUTPUT_LABEL"
      ],
      "execution_count": 0,
      "outputs": []
    },
    {
      "metadata": {
        "id": "Ag4cjR2VpFkT",
        "colab_type": "text"
      },
      "cell_type": "markdown",
      "source": [
        "# Step 3: Build a simple predictive model"
      ]
    },
    {
      "metadata": {
        "id": "T_iimerepFkW",
        "colab_type": "text"
      },
      "cell_type": "markdown",
      "source": [
        "Use logistic regression from scikit-learn"
      ]
    },
    {
      "metadata": {
        "id": "mt32xJO3pFkZ",
        "colab_type": "code",
        "outputId": "a2ff0fbe-9a92-4aec-cb23-be654c744497",
        "colab": {
          "base_uri": "https://localhost:8080/",
          "height": 139
        }
      },
      "cell_type": "code",
      "source": [
        "# logistic regression\n",
        "from sklearn.linear_model import LogisticRegression\n",
        "clf=LogisticRegression(C = 0.0001, penalty = 'l2', random_state = 42)\n",
        "clf.fit(X_train_tf, y_train)"
      ],
      "execution_count": 52,
      "outputs": [
        {
          "output_type": "stream",
          "text": [
            "/usr/local/lib/python3.6/dist-packages/sklearn/linear_model/logistic.py:433: FutureWarning: Default solver will be changed to 'lbfgs' in 0.22. Specify a solver to silence this warning.\n",
            "  FutureWarning)\n"
          ],
          "name": "stderr"
        },
        {
          "output_type": "execute_result",
          "data": {
            "text/plain": [
              "LogisticRegression(C=0.0001, class_weight=None, dual=False,\n",
              "          fit_intercept=True, intercept_scaling=1, max_iter=100,\n",
              "          multi_class='warn', n_jobs=None, penalty='l2', random_state=42,\n",
              "          solver='warn', tol=0.0001, verbose=0, warm_start=False)"
            ]
          },
          "metadata": {
            "tags": []
          },
          "execution_count": 52
        }
      ]
    },
    {
      "metadata": {
        "id": "u7mQ9Bs7pFku",
        "colab_type": "text"
      },
      "cell_type": "markdown",
      "source": [
        "Calculate probability of re-admission"
      ]
    },
    {
      "metadata": {
        "id": "O5m2Qn_ypFky",
        "colab_type": "code",
        "colab": {}
      },
      "cell_type": "code",
      "source": [
        "model = clf\n",
        "y_train_preds = model.predict_proba(X_train_tf)[:,1]\n",
        "y_valid_preds = model.predict_proba(X_valid_tf)[:,1]"
      ],
      "execution_count": 0,
      "outputs": []
    },
    {
      "metadata": {
        "id": "wtEIHQPkpFk8",
        "colab_type": "code",
        "outputId": "95f58c32-f596-4271-f193-849d3cb640ff",
        "colab": {
          "base_uri": "https://localhost:8080/",
          "height": 68
        }
      },
      "cell_type": "code",
      "source": [
        "print(y_train[:10].values)\n",
        "print(y_train_preds[:10])"
      ],
      "execution_count": 54,
      "outputs": [
        {
          "output_type": "stream",
          "text": [
            "[1 1 0 1 1 1 0 0 1 1]\n",
            "[0.4542033  0.46177468 0.29772094 0.6233307  0.24774543 0.47941329\n",
            " 0.36292154 0.90984735 0.69831955 0.50604926]\n"
          ],
          "name": "stdout"
        }
      ]
    },
    {
      "metadata": {
        "id": "VzkroTYEpFlN",
        "colab_type": "text"
      },
      "cell_type": "markdown",
      "source": [
        "# Step 4. Calculate Performance Metrics"
      ]
    },
    {
      "metadata": {
        "id": "tiU0nD36pFlR",
        "colab_type": "text"
      },
      "cell_type": "markdown",
      "source": [
        "<img src=\"https://github.com/andrewwlong/mimic_bow/blob/master/perf_metrics.png?raw=1\">"
      ]
    },
    {
      "metadata": {
        "id": "VUeHEfb6pFlU",
        "colab_type": "code",
        "colab": {}
      },
      "cell_type": "code",
      "source": [
        "def calc_accuracy(y_actual, y_pred, thresh):\n",
        "    # this function calculates the accuracy with probability threshold at thresh\n",
        "    return (sum((y_pred > thresh) & (y_actual == 1))+sum((y_pred < thresh) & (y_actual == 0))) /len(y_actual)\n",
        "\n",
        "def calc_recall(y_actual, y_pred, thresh):\n",
        "    # calculates the recall\n",
        "    return sum((y_pred > thresh) & (y_actual == 1)) /sum(y_actual)\n",
        "\n",
        "def calc_precision(y_actual, y_pred, thresh):\n",
        "    # calculates the precision\n",
        "    return sum((y_pred > thresh) & (y_actual == 1)) /sum(y_pred > thresh)\n",
        "\n",
        "def calc_specificity(y_actual, y_pred, thresh):\n",
        "    # calculates specificity\n",
        "    return sum((y_pred < thresh) & (y_actual == 0)) /sum(y_actual ==0)\n",
        "\n",
        "def calc_prevalence(y_actual):\n",
        "    # calculates prevalence\n",
        "    return sum((y_actual == 1)) /len(y_actual)\n"
      ],
      "execution_count": 0,
      "outputs": []
    },
    {
      "metadata": {
        "id": "Kn1mChxopFlg",
        "colab_type": "code",
        "outputId": "befd0f51-ad3e-44b2-b0c0-d43b5dbd406f",
        "colab": {
          "base_uri": "https://localhost:8080/",
          "height": 487
        }
      },
      "cell_type": "code",
      "source": [
        "from sklearn.metrics import roc_curve\n",
        "from sklearn.metrics import roc_auc_score\n",
        "\n",
        "fpr_train, tpr_train, thresholds_train = roc_curve(y_train, y_train_preds)\n",
        "fpr_valid, tpr_valid, thresholds_valid = roc_curve(y_valid, y_valid_preds)\n",
        "\n",
        "\n",
        "thresh = 0.5\n",
        "\n",
        "auc_train = roc_auc_score(y_train, y_train_preds)\n",
        "auc_valid = roc_auc_score(y_valid, y_valid_preds)\n",
        "\n",
        "print('Train AUC:%.3f'%auc_train)\n",
        "print('Valid AUC:%.3f'%auc_valid)\n",
        "\n",
        "print('Train accuracy:%.3f'%calc_accuracy(y_train, y_train_preds, thresh))\n",
        "print('Valid accuracy:%.3f'%calc_accuracy(y_valid, y_valid_preds, thresh))\n",
        "\n",
        "\n",
        "print('Train recall:%.3f'%calc_recall(y_train, y_train_preds, thresh))\n",
        "print('Valid recall:%.3f'%calc_recall(y_valid, y_valid_preds, thresh))\n",
        "\n",
        "print('Train precision:%.3f'%calc_precision(y_train, y_train_preds, thresh))\n",
        "print('Valid precision:%.3f'%calc_precision(y_valid, y_valid_preds, thresh))\n",
        "\n",
        "print('Train specificity:%.3f'%calc_specificity(y_train, y_train_preds, thresh))\n",
        "print('Valid specificity:%.3f'%calc_specificity(y_valid, y_valid_preds, thresh))\n",
        "\n",
        "print('Train prevalence:%.3f'%calc_prevalence(y_train))\n",
        "print('Valid prevalence:%.3f'%calc_prevalence(y_valid))\n",
        "\n",
        "\n",
        "plt.plot(fpr_train, tpr_train,'r-', label = 'Train AUC: %.2f'%auc_train)\n",
        "plt.plot(fpr_valid, tpr_valid,'b-',label = 'Valid AUC: %.2f'%auc_valid)\n",
        "plt.plot([0,1],[0,1],'-k')\n",
        "plt.xlabel('False Positive Rate')\n",
        "plt.ylabel('True Positive Rate')\n",
        "plt.legend()\n",
        "plt.show()"
      ],
      "execution_count": 56,
      "outputs": [
        {
          "output_type": "stream",
          "text": [
            "Train AUC:0.757\n",
            "Valid AUC:0.704\n",
            "Train accuracy:0.695\n",
            "Valid accuracy:0.682\n",
            "Train recall:0.666\n",
            "Valid recall:0.648\n",
            "Train precision:0.706\n",
            "Valid precision:0.110\n",
            "Train specificity:0.723\n",
            "Valid specificity:0.684\n",
            "Train prevalence:0.500\n",
            "Valid prevalence:0.057\n"
          ],
          "name": "stdout"
        },
        {
          "output_type": "display_data",
          "data": {
            "image/png": "[encoded data removed]",
            "text/plain": [
              "<Figure size 432x288 with 1 Axes>"
            ]
          },
          "metadata": {
            "tags": []
          }
        }
      ]
    },
    {
      "metadata": {
        "id": "MKBFMI4XpFlw",
        "colab_type": "text"
      },
      "cell_type": "markdown",
      "source": [
        "# Step 5. Try to improve the model"
      ]
    },
    {
      "metadata": {
        "id": "1Ts4lTQcpFl8",
        "colab_type": "text"
      },
      "cell_type": "markdown",
      "source": [
        "At this point, you might be tempted to calculate the performance on your test set and see how you did. But wait! We made many choices  (a few below) which we could change and see if there is an effect:\n",
        "- which and how much data to use - should we spend time getting more data?\n",
        "- how to tokenize - should we use something called stemming too? \n",
        "- how to vectorizer - should we change the number of words?\n",
        "- how to regularized the logistic regression - should we change C or penalty?\n",
        "- which model to use?"
      ]
    },
    {
      "metadata": {
        "id": "ImzIfncppFl_",
        "colab_type": "text"
      },
      "cell_type": "markdown",
      "source": [
        "When we want to improve the model, we want to do it in a data-driven manner (if we can). \n",
        "\n",
        "You can spend a lot of time on 'hunches', that don't end up panning out. \n",
        "\n",
        "There are a few techniques that will help us get big insight.  "
      ]
    },
    {
      "metadata": {
        "id": "HPxEmYrgpFmC",
        "colab_type": "text"
      },
      "cell_type": "markdown",
      "source": [
        "I read a lot of articles about data science and luckily most people post their code."
      ]
    },
    {
      "metadata": {
        "id": "sMGcB_vHpFmH",
        "colab_type": "text"
      },
      "cell_type": "markdown",
      "source": [
        "### Tip A: Use other people's code for nice visualizations. Source: https://blog.insightdatascience.com/how-to-solve-90-of-nlp-problems-a-step-by-step-guide-fda605278e4e"
      ]
    },
    {
      "metadata": {
        "id": "j3db9_nppFmN",
        "colab_type": "text"
      },
      "cell_type": "markdown",
      "source": [
        "Visualize the top words for positive and negative classes to see if there are any patterns which could give insight into additional features to add or remove"
      ]
    },
    {
      "metadata": {
        "id": "-8gJ7wszpFmR",
        "colab_type": "code",
        "outputId": "96735be2-49d0-462b-ca2d-2e0807577c7f",
        "colab": {
          "base_uri": "https://localhost:8080/",
          "height": 994
        }
      },
      "cell_type": "code",
      "source": [
        "def get_most_important_features(vectorizer, model, n=5):\n",
        "    index_to_word = {v:k for k,v in vectorizer.vocabulary_.items()}\n",
        "    \n",
        "    # loop for each class\n",
        "    classes ={}\n",
        "    for class_index in range(model.coef_.shape[0]):\n",
        "        word_importances = [(el, index_to_word[i]) for i,el in enumerate(model.coef_[class_index])]\n",
        "        sorted_coeff = sorted(word_importances, key = lambda x : x[0], reverse=True)\n",
        "        tops = sorted(sorted_coeff[:n], key = lambda x : x[0])\n",
        "        bottom = sorted_coeff[-n:]\n",
        "        classes[class_index] = {\n",
        "            'tops':tops,\n",
        "            'bottom':bottom\n",
        "        }\n",
        "    return classes\n",
        "\n",
        "def plot_important_words(top_scores, top_words, bottom_scores, bottom_words, name):\n",
        "    y_pos = np.arange(len(top_words))\n",
        "    top_pairs = [(a,b) for a,b in zip(top_words, top_scores)]\n",
        "    top_pairs = sorted(top_pairs, key=lambda x: x[1])\n",
        "    \n",
        "    bottom_pairs = [(a,b) for a,b in zip(bottom_words, bottom_scores)]\n",
        "    bottom_pairs = sorted(bottom_pairs, key=lambda x: x[1], reverse=True)\n",
        "    \n",
        "    top_words = [a[0] for a in top_pairs]\n",
        "    top_scores = [a[1] for a in top_pairs]\n",
        "    \n",
        "    bottom_words = [a[0] for a in bottom_pairs]\n",
        "    bottom_scores = [a[1] for a in bottom_pairs]\n",
        "    \n",
        "    fig = plt.figure(figsize=(10, 15))  \n",
        "\n",
        "    plt.subplot(121)\n",
        "    plt.barh(y_pos,bottom_scores, align='center', alpha=0.5)\n",
        "    plt.title('Negative', fontsize=20)\n",
        "    plt.yticks(y_pos, bottom_words, fontsize=14)\n",
        "    plt.suptitle('Key words', fontsize=16)\n",
        "    plt.xlabel('Importance', fontsize=20)\n",
        "    \n",
        "    plt.subplot(122)\n",
        "    plt.barh(y_pos,top_scores, align='center', alpha=0.5)\n",
        "    plt.title('Positive', fontsize=20)\n",
        "    plt.yticks(y_pos, top_words, fontsize=14)\n",
        "    plt.suptitle(name, fontsize=16)\n",
        "    plt.xlabel('Importance', fontsize=20)\n",
        "    \n",
        "    plt.subplots_adjust(wspace=0.8)\n",
        "    plt.show()\n",
        "\n",
        "    \n",
        "importance = get_most_important_features(vect, clf, 50)\n",
        "    \n",
        "top_scores = [a[0] for a in importance[0]['tops']]\n",
        "top_words = [a[1] for a in importance[0]['tops']]\n",
        "bottom_scores = [a[0] for a in importance[0]['bottom']]\n",
        "bottom_words = [a[1] for a in importance[0]['bottom']]\n",
        "\n",
        "plot_important_words(top_scores, top_words, bottom_scores, bottom_words, \"Most important words\")"
      ],
      "execution_count": 57,
      "outputs": [
        {
          "output_type": "display_data",
          "data": {
            "image/png": "[encoded data removed]",
            "text/plain": [
              "<Figure size 720x1080 with 2 Axes>"
            ]
          },
          "metadata": {
            "tags": []
          }
        }
      ]
    },
    {
      "metadata": {
        "id": "-wIiugJtpFmh",
        "colab_type": "code",
        "colab": {}
      },
      "cell_type": "code",
      "source": [
        "my_new_stop_words = ['the','and','to','of','was','with','a','on','in','for','name',\n",
        "                 'is','patient','s','he','at','as','or','one','she','his','her','am',\n",
        "                 'were','you','pt','pm','by','be','had','your','this','date',\n",
        "                'from','there','an','that','p','are','have','has','h','but','o',\n",
        "                'namepattern','which','every','also','should','if','it','been','who','during', 'x']"
      ],
      "execution_count": 0,
      "outputs": []
    },
    {
      "metadata": {
        "id": "jooELvVKpFmv",
        "colab_type": "code",
        "colab": {}
      },
      "cell_type": "code",
      "source": [
        "vect = CountVectorizer(lowercase = True, max_features = 3000, tokenizer = tokenizer_better,stop_words =my_new_stop_words)\n",
        "#\n",
        "# This could take a while\n",
        "vect.fit(df_train.TEXT.values)\n",
        "\n",
        "X_train_tf = vect.transform(df_train.TEXT.values)\n",
        "X_valid_tf = vect.transform(df_valid.TEXT.values)\n",
        "y_train = df_train.OUTPUT_LABEL\n",
        "y_valid = df_valid.OUTPUT_LABEL"
      ],
      "execution_count": 0,
      "outputs": []
    },
    {
      "metadata": {
        "id": "1d9OmiVtpFm6",
        "colab_type": "text"
      },
      "cell_type": "markdown",
      "source": [
        "### Tip B: pick a single metric for evaluation"
      ]
    },
    {
      "metadata": {
        "id": "E6mouLZ8pFnG",
        "colab_type": "text"
      },
      "cell_type": "markdown",
      "source": [
        "all decisions will have a trade-off on the metrics described above. Let's choose AUC for this project as it balances FPR and TPR. "
      ]
    },
    {
      "metadata": {
        "id": "S8lD760_pFnL",
        "colab_type": "text"
      },
      "cell_type": "markdown",
      "source": [
        "### Tip C: plot a learning curve\n",
        "\n",
        "Source: http://scikit-learn.org/stable/auto_examples/model_selection/plot_learning_curve.html"
      ]
    },
    {
      "metadata": {
        "id": "nQasrm-tpFnP",
        "colab_type": "code",
        "colab": {}
      },
      "cell_type": "code",
      "source": [
        "import numpy as np\n",
        "from sklearn.model_selection import learning_curve\n",
        "from sklearn.model_selection import ShuffleSplit\n",
        "\n",
        "\n",
        "def plot_learning_curve(estimator, title, X, y, ylim=None, cv=None,\n",
        "                        n_jobs=1, train_sizes=np.linspace(.1, 1.0, 5)):\n",
        "    \"\"\"\n",
        "    Generate a simple plot of the test and training learning curve.\n",
        "\n",
        "    Parameters\n",
        "    ----------\n",
        "    estimator : object type that implements the \"fit\" and \"predict\" methods\n",
        "        An object of that type which is cloned for each validation.\n",
        "\n",
        "    title : string\n",
        "        Title for the chart.\n",
        "\n",
        "    X : array-like, shape (n_samples, n_features)\n",
        "        Training vector, where n_samples is the number of samples and\n",
        "        n_features is the number of features.\n",
        "\n",
        "    y : array-like, shape (n_samples) or (n_samples, n_features), optional\n",
        "        Target relative to X for classification or regression;\n",
        "        None for unsupervised learning.\n",
        "\n",
        "    ylim : tuple, shape (ymin, ymax), optional\n",
        "        Defines minimum and maximum yvalues plotted.\n",
        "\n",
        "    cv : int, cross-validation generator or an iterable, optional\n",
        "        Determines the cross-validation splitting strategy.\n",
        "        Possible inputs for cv are:\n",
        "          - None, to use the default 3-fold cross-validation,\n",
        "          - integer, to specify the number of folds.\n",
        "          - An object to be used as a cross-validation generator.\n",
        "          - An iterable yielding train/test splits.\n",
        "\n",
        "        For integer/None inputs, if ``y`` is binary or multiclass,\n",
        "        :class:`StratifiedKFold` used. If the estimator is not a classifier\n",
        "        or if ``y`` is neither binary nor multiclass, :class:`KFold` is used.\n",
        "\n",
        "        Refer :ref:`User Guide <cross_validation>` for the various\n",
        "        cross-validators that can be used here.\n",
        "\n",
        "    n_jobs : integer, optional\n",
        "        Number of jobs to run in parallel (default 1).\n",
        "    \"\"\"\n",
        "    plt.figure()\n",
        "    plt.title(title)\n",
        "    if ylim is not None:\n",
        "        plt.ylim(*ylim)\n",
        "    plt.xlabel(\"Training examples\")\n",
        "    plt.ylabel(\"AUC\")\n",
        "    train_sizes, train_scores, test_scores = learning_curve(\n",
        "        estimator, X, y, cv=cv, n_jobs=n_jobs, train_sizes=train_sizes, scoring = 'roc_auc')\n",
        "    train_scores_mean = np.mean(train_scores, axis=1)\n",
        "    train_scores_std = np.std(train_scores, axis=1)\n",
        "    test_scores_mean = np.mean(test_scores, axis=1)\n",
        "    test_scores_std = np.std(test_scores, axis=1)\n",
        "    plt.grid()\n",
        "\n",
        "    plt.fill_between(train_sizes, train_scores_mean - train_scores_std,\n",
        "                     train_scores_mean + train_scores_std, alpha=0.1,\n",
        "                     color=\"r\")\n",
        "    plt.fill_between(train_sizes, test_scores_mean - test_scores_std,\n",
        "                     test_scores_mean + test_scores_std, alpha=0.1, color=\"b\")\n",
        "    plt.plot(train_sizes, train_scores_mean, 'o-', color=\"r\",\n",
        "             label=\"Training score\")\n",
        "    plt.plot(train_sizes, test_scores_mean, 'o-', color=\"b\",\n",
        "             label=\"Cross-validation score\")\n",
        "\n",
        "    plt.legend(loc=\"best\")\n",
        "    return plt"
      ],
      "execution_count": 0,
      "outputs": []
    },
    {
      "metadata": {
        "id": "gDK3LmE9pFne",
        "colab_type": "code",
        "outputId": "798d17dc-6b87-4277-928c-bb78b122f39c",
        "colab": {
          "base_uri": "https://localhost:8080/",
          "height": 295
        }
      },
      "cell_type": "code",
      "source": [
        "title = \"Learning Curves (Logistic Regression)\"\n",
        "# Cross validation with 5 iterations to get smoother mean test and train\n",
        "# score curves, each time with 20% data randomly selected as a validation set.\n",
        "cv = ShuffleSplit(n_splits=5, test_size=0.2, random_state=42)\n",
        "estimator = LogisticRegression( C = 0.0001, penalty = 'l2')\n",
        "plot_learning_curve(estimator, title, X_train_tf, y_train, ylim=(0.2, 1.01), cv=cv, n_jobs=4)\n",
        "\n",
        "plt.show()"
      ],
      "execution_count": 61,
      "outputs": [
        {
          "output_type": "display_data",
          "data": {
            "image/png": "[encoded data removed]",
            "text/plain": [
              "<Figure size 432x288 with 1 Axes>"
            ]
          },
          "metadata": {
            "tags": []
          }
        }
      ]
    },
    {
      "metadata": {
        "id": "B9-AVs97pFn5",
        "colab_type": "text"
      },
      "cell_type": "markdown",
      "source": [
        "### Tip D: get an understanding of how the hyperparameters affect your results\n",
        "\n",
        "You can run a grid-search if you want to select the best option out of all your parameters, but for this workshop we will just visually look at them. "
      ]
    },
    {
      "metadata": {
        "id": "tqjmCZXEpFn8",
        "colab_type": "code",
        "outputId": "1e6076dd-a42d-4450-e187-c8d3d3449e11",
        "colab": {
          "base_uri": "https://localhost:8080/",
          "height": 649
        }
      },
      "cell_type": "code",
      "source": [
        "from sklearn.linear_model import LogisticRegression\n",
        "\n",
        "Cs = [0.00001, 0.00003, 0.0001, 0.0003, 0.001, 0.003]\n",
        "train_aucs = np.zeros(len(Cs))\n",
        "valid_aucs = np.zeros(len(Cs))\n",
        "\n",
        "for ii in range(len(Cs)):\n",
        "    C = Cs[ii]\n",
        "    print('\\n C:', C)\n",
        "    \n",
        "    # logistic regression\n",
        "    \n",
        "    clf=LogisticRegression(C = C, penalty = 'l2', random_state = 42)\n",
        "    clf.fit(X_train_tf, y_train)\n",
        "\n",
        "    model = clf\n",
        "    y_train_preds = model.predict_proba(X_train_tf)[:,1]\n",
        "    y_valid_preds = model.predict_proba(X_valid_tf)[:,1]\n",
        "\n",
        "    auc_train = roc_auc_score(y_train, y_train_preds)\n",
        "    auc_valid = roc_auc_score(y_valid, y_valid_preds)\n",
        "    print('Train AUC:%.3f'%auc_train)\n",
        "    print('Valid AUC:%.3f'%auc_valid)\n",
        "    train_aucs[ii] = auc_train\n",
        "    valid_aucs[ii] = auc_valid"
      ],
      "execution_count": 62,
      "outputs": [
        {
          "output_type": "stream",
          "text": [
            "\n",
            " C: 1e-05\n"
          ],
          "name": "stdout"
        },
        {
          "output_type": "stream",
          "text": [
            "/usr/local/lib/python3.6/dist-packages/sklearn/linear_model/logistic.py:433: FutureWarning: Default solver will be changed to 'lbfgs' in 0.22. Specify a solver to silence this warning.\n",
            "  FutureWarning)\n"
          ],
          "name": "stderr"
        },
        {
          "output_type": "stream",
          "text": [
            "Train AUC:0.700\n",
            "Valid AUC:0.680\n",
            "\n",
            " C: 3e-05\n"
          ],
          "name": "stdout"
        },
        {
          "output_type": "stream",
          "text": [
            "/usr/local/lib/python3.6/dist-packages/sklearn/linear_model/logistic.py:433: FutureWarning: Default solver will be changed to 'lbfgs' in 0.22. Specify a solver to silence this warning.\n",
            "  FutureWarning)\n"
          ],
          "name": "stderr"
        },
        {
          "output_type": "stream",
          "text": [
            "Train AUC:0.723\n",
            "Valid AUC:0.691\n",
            "\n",
            " C: 0.0001\n"
          ],
          "name": "stdout"
        },
        {
          "output_type": "stream",
          "text": [
            "/usr/local/lib/python3.6/dist-packages/sklearn/linear_model/logistic.py:433: FutureWarning: Default solver will be changed to 'lbfgs' in 0.22. Specify a solver to silence this warning.\n",
            "  FutureWarning)\n"
          ],
          "name": "stderr"
        },
        {
          "output_type": "stream",
          "text": [
            "Train AUC:0.755\n",
            "Valid AUC:0.705\n",
            "\n",
            " C: 0.0003\n"
          ],
          "name": "stdout"
        },
        {
          "output_type": "stream",
          "text": [
            "/usr/local/lib/python3.6/dist-packages/sklearn/linear_model/logistic.py:433: FutureWarning: Default solver will be changed to 'lbfgs' in 0.22. Specify a solver to silence this warning.\n",
            "  FutureWarning)\n"
          ],
          "name": "stderr"
        },
        {
          "output_type": "stream",
          "text": [
            "Train AUC:0.796\n",
            "Valid AUC:0.715\n",
            "\n",
            " C: 0.001\n"
          ],
          "name": "stdout"
        },
        {
          "output_type": "stream",
          "text": [
            "/usr/local/lib/python3.6/dist-packages/sklearn/linear_model/logistic.py:433: FutureWarning: Default solver will be changed to 'lbfgs' in 0.22. Specify a solver to silence this warning.\n",
            "  FutureWarning)\n"
          ],
          "name": "stderr"
        },
        {
          "output_type": "stream",
          "text": [
            "Train AUC:0.853\n",
            "Valid AUC:0.718\n",
            "\n",
            " C: 0.003\n"
          ],
          "name": "stdout"
        },
        {
          "output_type": "stream",
          "text": [
            "/usr/local/lib/python3.6/dist-packages/sklearn/linear_model/logistic.py:433: FutureWarning: Default solver will be changed to 'lbfgs' in 0.22. Specify a solver to silence this warning.\n",
            "  FutureWarning)\n"
          ],
          "name": "stderr"
        },
        {
          "output_type": "stream",
          "text": [
            "Train AUC:0.904\n",
            "Valid AUC:0.705\n"
          ],
          "name": "stdout"
        }
      ]
    },
    {
      "metadata": {
        "id": "D69QjYpTpFoZ",
        "colab_type": "code",
        "outputId": "8dc3d809-89fb-4d80-8b19-c59bfec440e7",
        "colab": {
          "base_uri": "https://localhost:8080/",
          "height": 283
        }
      },
      "cell_type": "code",
      "source": [
        "plt.plot(Cs, train_aucs,'bo-', label ='Train')\n",
        "plt.plot(Cs, valid_aucs, 'ro-', label='Valid')\n",
        "plt.legend()\n",
        "plt.xlabel('Logistic Regression - C')\n",
        "plt.ylabel('AUC')\n",
        "plt.show()"
      ],
      "execution_count": 63,
      "outputs": [
        {
          "output_type": "display_data",
          "data": {
            "image/png": "[encoded data removed]",
            "text/plain": [
              "<Figure size 432x288 with 1 Axes>"
            ]
          },
          "metadata": {
            "tags": []
          }
        }
      ]
    },
    {
      "metadata": {
        "id": "-kfKxj6JpFon",
        "colab_type": "code",
        "outputId": "22454252-33d5-46f2-8979-5e9812f0c36e",
        "colab": {
          "base_uri": "https://localhost:8080/",
          "height": 649
        }
      },
      "cell_type": "code",
      "source": [
        "num_features = [100,300,1000,3000,10000,30000]\n",
        "train_aucs = np.zeros(len(num_features))\n",
        "valid_aucs = np.zeros(len(num_features))\n",
        "\n",
        "for ii in range(len(num_features)):\n",
        "    num = num_features[ii]\n",
        "    print('\\nnumber of features:', num)\n",
        "    vect = CountVectorizer(lowercase = True, max_features = num, \n",
        "                           tokenizer = tokenizer_better,stop_words =my_new_stop_words)\n",
        "\n",
        "    # This could take a while\n",
        "    vect.fit(df_train.TEXT.values)\n",
        "\n",
        "    X_train_tf = vect.transform(df_train.TEXT.values)\n",
        "    X_valid_tf = vect.transform(df_valid.TEXT.values)\n",
        "    y_train = df_train.OUTPUT_LABEL\n",
        "    y_valid = df_valid.OUTPUT_LABEL\n",
        "    \n",
        "    clf=LogisticRegression(C = 0.0001, penalty = 'l2', random_state = 42)\n",
        "    clf.fit(X_train_tf, y_train)\n",
        "\n",
        "    model = clf\n",
        "    y_train_preds = model.predict_proba(X_train_tf)[:,1]\n",
        "    y_valid_preds = model.predict_proba(X_valid_tf)[:,1]\n",
        "\n",
        "    auc_train = roc_auc_score(y_train, y_train_preds)\n",
        "    auc_valid = roc_auc_score(y_valid, y_valid_preds)\n",
        "    print('Train AUC: %.3f'%auc_train)\n",
        "    print('Valid AUC:%.3f'%auc_valid)\n",
        "    train_aucs[ii] = auc_train\n",
        "    valid_aucs[ii] = auc_valid"
      ],
      "execution_count": 64,
      "outputs": [
        {
          "output_type": "stream",
          "text": [
            "\n",
            "number of features: 100\n"
          ],
          "name": "stdout"
        },
        {
          "output_type": "stream",
          "text": [
            "/usr/local/lib/python3.6/dist-packages/sklearn/linear_model/logistic.py:433: FutureWarning: Default solver will be changed to 'lbfgs' in 0.22. Specify a solver to silence this warning.\n",
            "  FutureWarning)\n"
          ],
          "name": "stderr"
        },
        {
          "output_type": "stream",
          "text": [
            "Train AUC: 0.686\n",
            "Valid AUC:0.666\n",
            "\n",
            "number of features: 300\n"
          ],
          "name": "stdout"
        },
        {
          "output_type": "stream",
          "text": [
            "/usr/local/lib/python3.6/dist-packages/sklearn/linear_model/logistic.py:433: FutureWarning: Default solver will be changed to 'lbfgs' in 0.22. Specify a solver to silence this warning.\n",
            "  FutureWarning)\n"
          ],
          "name": "stderr"
        },
        {
          "output_type": "stream",
          "text": [
            "Train AUC: 0.714\n",
            "Valid AUC:0.683\n",
            "\n",
            "number of features: 1000\n"
          ],
          "name": "stdout"
        },
        {
          "output_type": "stream",
          "text": [
            "/usr/local/lib/python3.6/dist-packages/sklearn/linear_model/logistic.py:433: FutureWarning: Default solver will be changed to 'lbfgs' in 0.22. Specify a solver to silence this warning.\n",
            "  FutureWarning)\n"
          ],
          "name": "stderr"
        },
        {
          "output_type": "stream",
          "text": [
            "Train AUC: 0.738\n",
            "Valid AUC:0.698\n",
            "\n",
            "number of features: 3000\n"
          ],
          "name": "stdout"
        },
        {
          "output_type": "stream",
          "text": [
            "/usr/local/lib/python3.6/dist-packages/sklearn/linear_model/logistic.py:433: FutureWarning: Default solver will be changed to 'lbfgs' in 0.22. Specify a solver to silence this warning.\n",
            "  FutureWarning)\n"
          ],
          "name": "stderr"
        },
        {
          "output_type": "stream",
          "text": [
            "Train AUC: 0.755\n",
            "Valid AUC:0.705\n",
            "\n",
            "number of features: 10000\n"
          ],
          "name": "stdout"
        },
        {
          "output_type": "stream",
          "text": [
            "/usr/local/lib/python3.6/dist-packages/sklearn/linear_model/logistic.py:433: FutureWarning: Default solver will be changed to 'lbfgs' in 0.22. Specify a solver to silence this warning.\n",
            "  FutureWarning)\n"
          ],
          "name": "stderr"
        },
        {
          "output_type": "stream",
          "text": [
            "Train AUC: 0.761\n",
            "Valid AUC:0.706\n",
            "\n",
            "number of features: 30000\n"
          ],
          "name": "stdout"
        },
        {
          "output_type": "stream",
          "text": [
            "/usr/local/lib/python3.6/dist-packages/sklearn/linear_model/logistic.py:433: FutureWarning: Default solver will be changed to 'lbfgs' in 0.22. Specify a solver to silence this warning.\n",
            "  FutureWarning)\n"
          ],
          "name": "stderr"
        },
        {
          "output_type": "stream",
          "text": [
            "Train AUC: 0.762\n",
            "Valid AUC:0.706\n"
          ],
          "name": "stdout"
        }
      ]
    },
    {
      "metadata": {
        "id": "6WHJSVNSpFoz",
        "colab_type": "code",
        "outputId": "492a3046-b1eb-4069-8a5e-9d6d950eab63",
        "colab": {
          "base_uri": "https://localhost:8080/",
          "height": 283
        }
      },
      "cell_type": "code",
      "source": [
        "plt.plot(num_features, train_aucs,'bo-', label ='Train')\n",
        "plt.plot(num_features, valid_aucs, 'ro-', label='Valid')\n",
        "plt.legend()\n",
        "plt.xlabel('Number of features')\n",
        "plt.ylabel('AUC')\n",
        "plt.show()"
      ],
      "execution_count": 65,
      "outputs": [
        {
          "output_type": "display_data",
          "data": {
            "image/png": "[encoded data removed]",
            "text/plain": [
              "<Figure size 432x288 with 1 Axes>"
            ]
          },
          "metadata": {
            "tags": []
          }
        }
      ]
    },
    {
      "metadata": {
        "id": "7L1-X968pFpB",
        "colab_type": "text"
      },
      "cell_type": "markdown",
      "source": [
        "# Final model without death"
      ]
    },
    {
      "metadata": {
        "id": "_IrHU7t7pFpH",
        "colab_type": "code",
        "outputId": "12f9e0ea-b1da-4e78-99d4-c55d559d5212",
        "colab": {
          "base_uri": "https://localhost:8080/",
          "height": 102
        }
      },
      "cell_type": "code",
      "source": [
        "# shuffle the samples\n",
        "\n",
        "rows_not_death = df_adm_notes_clean.DEATHTIME.isnull()\n",
        "\n",
        "df_adm_notes_not_death = df_adm_notes_clean.loc[rows_not_death].copy()\n",
        "df_adm_notes_not_death = df_adm_notes_not_death.sample(n = len(df_adm_notes_not_death), random_state = 42)\n",
        "df_adm_notes_not_death = df_adm_notes_not_death.reset_index(drop = True)\n",
        "\n",
        "# Save 30% of the data as validation and test data \n",
        "df_valid_test=df_adm_notes_not_death.sample(frac=0.30,random_state=42)\n",
        "\n",
        "df_test = df_valid_test.sample(frac = 0.5, random_state = 42)\n",
        "df_valid = df_valid_test.drop(df_test.index)\n",
        "\n",
        "# use the rest of the data as training data\n",
        "df_train_all=df_adm_notes_not_death.drop(df_valid_test.index)\n",
        "\n",
        "print('Test prevalence(n = %d):'%len(df_test),df_test.OUTPUT_LABEL.sum()/ len(df_test))\n",
        "print('Valid prevalence(n = %d):'%len(df_valid),df_valid.OUTPUT_LABEL.sum()/ len(df_valid))\n",
        "print('Train all prevalence(n = %d):'%len(df_train_all), df_train_all.OUTPUT_LABEL.sum()/ len(df_train_all))\n",
        "print('all samples (n = %d)'%len(df_adm_notes_clean))\n",
        "assert len(df_adm_notes_not_death) == (len(df_test)+len(df_valid)+len(df_train_all)),'math didnt work'\n",
        "\n",
        "# split the training data into positive and negative\n",
        "rows_pos = df_train_all.OUTPUT_LABEL == 1\n",
        "df_train_pos = df_train_all.loc[rows_pos]\n",
        "df_train_neg = df_train_all.loc[~rows_pos]\n",
        "\n",
        "# merge the balanced data\n",
        "df_train = pd.concat([df_train_pos, df_train_neg.sample(n = len(df_train_pos), random_state = 42)],axis = 0)\n",
        "\n",
        "# shuffle the order of training samples \n",
        "df_train = df_train.sample(n = len(df_train), random_state = 42).reset_index(drop = True)\n",
        "\n",
        "print('Train prevalence (n = %d):'%len(df_train), df_train.OUTPUT_LABEL.sum()/ len(df_train))\n",
        "\n",
        "# preprocess the text to deal with known issues\n",
        "df_train = preprocess_text(df_train)\n",
        "df_valid = preprocess_text(df_valid)\n",
        "df_test = preprocess_text(df_test)\n"
      ],
      "execution_count": 66,
      "outputs": [
        {
          "output_type": "stream",
          "text": [
            "Test prevalence(n = 6798): 0.06590173580464842\n",
            "Valid prevalence(n = 6798): 0.06913798175934098\n",
            "Train all prevalence(n = 31725): 0.0644602048857368\n",
            "all samples (n = 51113)\n",
            "Train prevalence (n = 4090): 0.5\n"
          ],
          "name": "stdout"
        }
      ]
    },
    {
      "metadata": {
        "id": "iQ1bQf8cpFpZ",
        "colab_type": "code",
        "colab": {
          "base_uri": "https://localhost:8080/",
          "height": 71
        },
        "outputId": "51b45826-977c-436e-d45b-f3e7d80425c2"
      },
      "cell_type": "code",
      "source": [
        "my_new_stop_words = ['the','and','to','of','was','with','a','on','in','for','name',\n",
        "                 'is','patient','s','he','at','as','or','one','she','his','her','am',\n",
        "                 'were','you','pt','pm','by','be','had','your','this','date',\n",
        "                'from','there','an','that','p','are','have','has','h','but','o',\n",
        "                'namepattern','which','every','also','should','if','it','been','who','during', 'x']\n",
        "\n",
        "from sklearn.feature_extraction.text import CountVectorizer\n",
        "\n",
        "vect = CountVectorizer(lowercase = True, max_features = 3000, \n",
        "                       tokenizer = tokenizer_better,\n",
        "                      stop_words = my_new_stop_words)\n",
        "\n",
        "# This could take a while\n",
        "vect.fit(df_train.TEXT.values)\n",
        "\n",
        "X_train_tf = vect.transform(df_train.TEXT.values)\n",
        "X_valid_tf = vect.transform(df_valid.TEXT.values)\n",
        "X_test_tf = vect.transform(df_test.TEXT.values)\n",
        "\n",
        "y_train = df_train.OUTPUT_LABEL\n",
        "y_valid = df_valid.OUTPUT_LABEL\n",
        "y_test = df_test.OUTPUT_LABEL\n",
        "\n",
        "from sklearn.linear_model import LogisticRegression\n",
        "from sklearn.metrics import roc_curve\n",
        "from sklearn.metrics import roc_auc_score\n",
        "\n",
        "clf=LogisticRegression(C = 0.0001, penalty = 'l2', random_state = 42)\n",
        "clf.fit(X_train_tf, y_train)\n",
        "\n",
        "model = clf\n",
        "y_train_preds = model.predict_proba(X_train_tf)[:,1]\n",
        "y_valid_preds = model.predict_proba(X_valid_tf)[:,1]\n",
        "y_test_preds = model.predict_proba(X_test_tf)[:,1]"
      ],
      "execution_count": 67,
      "outputs": [
        {
          "output_type": "stream",
          "text": [
            "/usr/local/lib/python3.6/dist-packages/sklearn/linear_model/logistic.py:433: FutureWarning: Default solver will be changed to 'lbfgs' in 0.22. Specify a solver to silence this warning.\n",
            "  FutureWarning)\n"
          ],
          "name": "stderr"
        }
      ]
    },
    {
      "metadata": {
        "scrolled": true,
        "id": "bn54n6yXpFpj",
        "colab_type": "code",
        "outputId": "4955e934-c31c-4215-e5d3-1c123e3bd785",
        "colab": {
          "base_uri": "https://localhost:8080/",
          "height": 589
        }
      },
      "cell_type": "code",
      "source": [
        "fpr_train, tpr_train, thresholds_train = roc_curve(y_train, y_train_preds)\n",
        "fpr_valid, tpr_valid, thresholds_valid = roc_curve(y_valid, y_valid_preds)\n",
        "fpr_test, tpr_test, thresholds_test = roc_curve(y_test, y_test_preds)\n",
        "\n",
        "thresh = 0.5\n",
        "\n",
        "auc_train = roc_auc_score(y_train, y_train_preds)\n",
        "auc_valid = roc_auc_score(y_valid, y_valid_preds)\n",
        "auc_test = roc_auc_score(y_test, y_test_preds)\n",
        "\n",
        "print('Train prevalence(n = %d): %.3f'%(len(y_train),sum(y_train)/ len(y_train)))\n",
        "print('Valid prevalence(n = %d): %.3f'%(len(y_valid),sum(y_valid)/ len(y_valid)))\n",
        "print('Test prevalence(n = %d): %.3f'%(len(y_test),sum(y_test)/ len(y_test)))\n",
        "\n",
        "print('Train AUC:%.3f'%auc_train)\n",
        "print('Valid AUC:%.3f'%auc_valid)\n",
        "print('Test AUC:%.3f'%auc_test)\n",
        "\n",
        "print('Train accuracy:%.3f'%calc_accuracy(y_train, y_train_preds, thresh))\n",
        "print('Valid accuracy:%.3f'%calc_accuracy(y_valid, y_valid_preds, thresh))\n",
        "print('Test accuracy:%.3f'%calc_accuracy(y_test, y_test_preds, thresh))\n",
        "\n",
        "\n",
        "print('Train recall:%.3f'%calc_recall(y_train, y_train_preds, thresh))\n",
        "print('Valid recall:%.3f'%calc_recall(y_valid, y_valid_preds, thresh))\n",
        "print('Test recall:%.3f'%calc_recall(y_test, y_test_preds, thresh))\n",
        "\n",
        "print('Train precision:%.3f'%calc_precision(y_train, y_train_preds, thresh))\n",
        "print('Valid precision:%.3f'%calc_precision(y_valid, y_valid_preds, thresh))\n",
        "print('Test precision:%.3f'%calc_precision(y_test, y_test_preds, thresh))\n",
        "\n",
        "print('Train specificity:%.3f'%calc_specificity(y_train, y_train_preds, thresh))\n",
        "print('Valid specificity:%.3f'%calc_specificity(y_valid, y_valid_preds, thresh))\n",
        "print('Test specificity:%.3f'%calc_specificity(y_test, y_test_preds, thresh))\n",
        "\n",
        "plt.plot(fpr_train, tpr_train,'r-', label = 'Train AUC: %.2f'%auc_train)\n",
        "plt.plot(fpr_valid, tpr_valid,'b-',label = 'Valid AUC: %.2f'%auc_valid)\n",
        "plt.plot(fpr_test, tpr_test,'g-',label = 'Test AUC: %.2f'%auc_test)\n",
        "\n",
        "plt.plot([0,1],[0,1],'-k')\n",
        "plt.xlabel('False Positive Rate')\n",
        "plt.ylabel('True Positive Rate')\n",
        "plt.legend()\n",
        "plt.show()"
      ],
      "execution_count": 68,
      "outputs": [
        {
          "output_type": "stream",
          "text": [
            "Train prevalence(n = 4090): 0.500\n",
            "Valid prevalence(n = 6798): 0.069\n",
            "Test prevalence(n = 6798): 0.066\n",
            "Train AUC:0.745\n",
            "Valid AUC:0.709\n",
            "Test AUC:0.704\n",
            "Train accuracy:0.683\n",
            "Valid accuracy:0.672\n",
            "Test accuracy:0.681\n",
            "Train recall:0.644\n",
            "Valid recall:0.651\n",
            "Test recall:0.607\n",
            "Train precision:0.698\n",
            "Valid precision:0.129\n",
            "Test precision:0.120\n",
            "Train specificity:0.722\n",
            "Valid specificity:0.674\n",
            "Test specificity:0.686\n"
          ],
          "name": "stdout"
        },
        {
          "output_type": "display_data",
          "data": {
            "image/png": "[encoded data removed]",
            "text/plain": [
              "<Figure size 432x288 with 1 Axes>"
            ]
          },
          "metadata": {
            "tags": []
          }
        }
      ]
    },
    {
      "metadata": {
        "id": "v8xGPpFXpFpv",
        "colab_type": "code",
        "colab": {}
      },
      "cell_type": "code",
      "source": [
        ""
      ],
      "execution_count": 0,
      "outputs": []
    }
  ]
}