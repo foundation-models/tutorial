{
 "cells": [
  {
   "cell_type": "code",
   "execution_count": 0,
   "metadata": {
    "collapsed": true
   },
   "outputs": [],
   "source": []
  },
  {
   "cell_type": "code",
   "execution_count": 2,
   "metadata": {},
   "outputs": [],
   "source": [
    "import base64\n",
    "import imageio\n",
    "import IPython\n",
    "import matplotlib\n",
    "import matplotlib.pyplot as plt\n",
    "import PIL.Image\n",
    "import pyvirtualdisplay\n",
    "\n",
    "import tensorflow as tf\n",
    "\n",
    "from tf_agents.agents.dqn import dqn_agent\n",
    "from tf_agents.agents.dqn import q_network\n",
    "from tf_agents.drivers import dynamic_step_driver\n",
    "from tf_agents.environments import suite_gym\n",
    "from tf_agents.environments import tf_py_environment\n",
    "from tf_agents.environments import trajectory\n",
    "from tf_agents.metrics import metric_utils\n",
    "from tf_agents.metrics import tf_metrics\n",
    "from tf_agents.policies import random_tf_policy\n",
    "from tf_agents.replay_buffers import tf_uniform_replay_buffer\n",
    "from tf_agents.utils import common\n",
    "\n",
    "tf.compat.v1.enable_v2_behavior()\n",
    "\n",
    "\n",
    "# Set up a virtual display for rendering OpenAI gym environments.\n",
    "display = pyvirtualdisplay.Display(visible=0, size=(1400, 900)).start()"
   ]
  },
  {
   "cell_type": "code",
   "execution_count": 3,
   "metadata": {},
   "outputs": [],
   "source": [
    "env_name = 'CartPole-v0'  # @param\n",
    "num_iterations = 20000  # @param\n",
    "\n",
    "initial_collect_steps = 1000  # @param\n",
    "collect_steps_per_iteration = 1  # @param\n",
    "replay_buffer_capacity = 100000  # @param\n",
    "\n",
    "fc_layer_params = (100,)\n",
    "\n",
    "batch_size = 64  # @param\n",
    "learning_rate = 1e-3  # @param\n",
    "log_interval = 200  # @param\n",
    "\n",
    "num_eval_episodes = 10  # @param\n",
    "eval_interval = 1000  # @param"
   ]
  },
  {
   "cell_type": "code",
   "execution_count": 4,
   "metadata": {},
   "outputs": [],
   "source": [
    "env = suite_gym.load(env_name)"
   ]
  },
  {
   "cell_type": "code",
   "execution_count": 5,
   "metadata": {},
   "outputs": [
    {
     "data": {
      "image/png": "[encoded data removed]",
      "text/plain": [
       "<PIL.Image.Image image mode=RGB size=600x400 at 0x7F6AE6F34FD0>"
      ]
     },
     "metadata": {},
     "output_type": "display_data"
    }
   ],
   "source": [
    "#@test {\"skip\": true}\n",
    "env.reset()\n",
    "PIL.Image.fromarray(env.render())"
   ]
  },
  {
   "cell_type": "code",
   "execution_count": 6,
   "metadata": {},
   "outputs": [
    {
     "name": "stdout",
     "output_type": "stream",
     "text": [
      "Observation Spec:\nBoundedArraySpec(shape=(4,), dtype=dtype('float32'), name=None, minimum=[-4.8000002e+00 -3.4028235e+38 -4.1887903e-01 -3.4028235e+38], maximum=[4.8000002e+00 3.4028235e+38 4.1887903e-01 3.4028235e+38])\nAction Spec:\nBoundedArraySpec(shape=(), dtype=dtype('int64'), name=None, minimum=0, maximum=1)\n"
     ]
    }
   ],
   "source": [
    "print('Observation Spec:')\n",
    "print(env.time_step_spec().observation)\n",
    "print('Action Spec:')\n",
    "print(env.action_spec())"
   ]
  },
  {
   "cell_type": "code",
   "execution_count": 7,
   "metadata": {},
   "outputs": [
    {
     "name": "stdout",
     "output_type": "stream",
     "text": [
      "Time step:\nTimeStep(step_type=array(0, dtype=int32), reward=array(0., dtype=float32), discount=array(1., dtype=float32), observation=array([ 0.01419785, -0.02943233,  0.01313752, -0.02355465], dtype=float32))\nNext time step:\nTimeStep(step_type=array(1, dtype=int32), reward=array(1., dtype=float32), discount=array(1., dtype=float32), observation=array([ 0.0136092 ,  0.16549878,  0.01266642, -0.31206375], dtype=float32))\n"
     ]
    }
   ],
   "source": [
    "time_step = env.reset()\n",
    "print('Time step:')\n",
    "print(time_step)\n",
    "\n",
    "action = 1\n",
    "\n",
    "next_time_step = env.step(action)\n",
    "print('Next time step:')\n",
    "print(next_time_step)"
   ]
  },
  {
   "cell_type": "code",
   "execution_count": 8,
   "metadata": {},
   "outputs": [],
   "source": [
    "train_py_env = suite_gym.load(env_name)\n",
    "eval_py_env = suite_gym.load(env_name)\n",
    "\n",
    "train_env = tf_py_environment.TFPyEnvironment(train_py_env)\n",
    "eval_env = tf_py_environment.TFPyEnvironment(eval_py_env)"
   ]
  },
  {
   "cell_type": "code",
   "execution_count": 9,
   "metadata": {},
   "outputs": [],
   "source": [
    "q_net = q_network.QNetwork(\n",
    "    train_env.observation_spec(),\n",
    "    train_env.action_spec(),\n",
    "    fc_layer_params=fc_layer_params)"
   ]
  },
  {
   "cell_type": "code",
   "execution_count": 10,
   "metadata": {},
   "outputs": [],
   "source": [
    "optimizer = tf.compat.v1.train.AdamOptimizer(learning_rate=learning_rate)\n",
    "\n",
    "train_step_counter = tf.compat.v2.Variable(0)\n",
    "\n",
    "tf_agent = dqn_agent.DqnAgent(\n",
    "    train_env.time_step_spec(),\n",
    "    train_env.action_spec(),\n",
    "    q_network=q_net,\n",
    "    optimizer=optimizer,\n",
    "    td_errors_loss_fn=dqn_agent.element_wise_squared_loss,\n",
    "    train_step_counter=train_step_counter)\n",
    "tf_agent.initialize()"
   ]
  },
  {
   "cell_type": "code",
   "execution_count": 11,
   "metadata": {},
   "outputs": [],
   "source": [
    "eval_policy = tf_agent.policy\n",
    "collect_policy = tf_agent.collect_policy\n"
   ]
  },
  {
   "cell_type": "code",
   "execution_count": 12,
   "metadata": {},
   "outputs": [],
   "source": [
    "random_policy = random_tf_policy.RandomTFPolicy(train_env.time_step_spec(),\n",
    "                                                train_env.action_spec())"
   ]
  },
  {
   "cell_type": "code",
   "execution_count": 17,
   "metadata": {},
   "outputs": [
    {
     "data": {
      "text/plain": [
       "15.9"
      ]
     },
     "execution_count": 17,
     "metadata": {},
     "output_type": "execute_result"
    }
   ],
   "source": [
    "#@test {\"skip\": true}\n",
    "def compute_avg_return(environment, policy, num_episodes=10):\n",
    "\n",
    "  total_return = 0.0\n",
    "  for _ in range(num_episodes):\n",
    "\n",
    "    time_step = environment.reset()\n",
    "    episode_return = 0.0\n",
    "\n",
    "    while not time_step.is_last():\n",
    "      action_step = policy.action(time_step)\n",
    "      time_step = environment.step(action_step.action)\n",
    "      episode_return += time_step.reward\n",
    "    total_return += episode_return\n",
    "\n",
    "  avg_return = total_return / num_episodes\n",
    "  return avg_return.numpy()[0]\n",
    "\n",
    "\n",
    "compute_avg_return(eval_env, random_policy, num_eval_episodes)\n",
    "\n",
    "# Please also see the metrics module for standard implementations of different\n",
    "# metrics."
   ]
  },
  {
   "cell_type": "code",
   "execution_count": 18,
   "metadata": {},
   "outputs": [],
   "source": [
    "replay_buffer = tf_uniform_replay_buffer.TFUniformReplayBuffer(\n",
    "    data_spec=tf_agent.collect_data_spec,\n",
    "    batch_size=train_env.batch_size,\n",
    "    max_length=replay_buffer_capacity)"
   ]
  },
  {
   "cell_type": "code",
   "execution_count": 19,
   "metadata": {},
   "outputs": [],
   "source": [
    "#@test {\"skip\": true}\n",
    "def collect_step(environment, policy):\n",
    "  time_step = environment.current_time_step()\n",
    "  action_step = policy.action(time_step)\n",
    "  next_time_step = environment.step(action_step.action)\n",
    "  traj = trajectory.from_transition(time_step, action_step, next_time_step)\n",
    "\n",
    "  # Add trajectory to the replay buffer\n",
    "  replay_buffer.add_batch(traj)\n",
    "\n",
    "\n",
    "for _ in range(initial_collect_steps):\n",
    "  collect_step(train_env, random_policy)\n",
    "\n",
    "# This loop is so common in RL, that we provide standard implementations of\n",
    "# these. For more details see the drivers module."
   ]
  },
  {
   "cell_type": "code",
   "execution_count": 20,
   "metadata": {},
   "outputs": [],
   "source": [
    "# Dataset generates trajectories with shape [Bx2x...]\n",
    "dataset = replay_buffer.as_dataset(\n",
    "    num_parallel_calls=3, sample_batch_size=batch_size, num_steps=2).prefetch(3)\n",
    "\n",
    "iterator = iter(dataset)"
   ]
  },
  {
   "cell_type": "code",
   "execution_count": 21,
   "metadata": {},
   "outputs": [
    {
     "name": "stdout",
     "output_type": "stream",
     "text": [
      "step = 200: loss = 6.617764472961426\n"
     ]
    },
    {
     "name": "stdout",
     "output_type": "stream",
     "text": [
      "step = 400: loss = 12.133417129516602\n"
     ]
    },
    {
     "name": "stdout",
     "output_type": "stream",
     "text": [
      "step = 600: loss = 30.85879898071289\n"
     ]
    },
    {
     "name": "stdout",
     "output_type": "stream",
     "text": [
      "step = 800: loss = 11.422975540161133\n"
     ]
    },
    {
     "name": "stdout",
     "output_type": "stream",
     "text": [
      "step = 1000: loss = 17.160614013671875\n"
     ]
    },
    {
     "name": "stdout",
     "output_type": "stream",
     "text": [
      "step = 1000: Average Return = 19.600000381469727\n"
     ]
    },
    {
     "name": "stdout",
     "output_type": "stream",
     "text": [
      "step = 1200: loss = 37.90451431274414\n"
     ]
    },
    {
     "name": "stdout",
     "output_type": "stream",
     "text": [
      "step = 1400: loss = 9.424544334411621\n"
     ]
    },
    {
     "name": "stdout",
     "output_type": "stream",
     "text": [
      "step = 1600: loss = 9.386625289916992\n"
     ]
    },
    {
     "name": "stdout",
     "output_type": "stream",
     "text": [
      "step = 1800: loss = 20.75423812866211\n"
     ]
    },
    {
     "name": "stdout",
     "output_type": "stream",
     "text": [
      "step = 2000: loss = 20.480701446533203\n"
     ]
    },
    {
     "name": "stdout",
     "output_type": "stream",
     "text": [
      "step = 2000: Average Return = 21.799999237060547\n"
     ]
    },
    {
     "name": "stdout",
     "output_type": "stream",
     "text": [
      "step = 2200: loss = 21.044681549072266\n"
     ]
    },
    {
     "name": "stdout",
     "output_type": "stream",
     "text": [
      "step = 2400: loss = 19.342044830322266\n"
     ]
    },
    {
     "name": "stdout",
     "output_type": "stream",
     "text": [
      "step = 2600: loss = 43.05093002319336\n"
     ]
    },
    {
     "name": "stdout",
     "output_type": "stream",
     "text": [
      "step = 2800: loss = 10.749832153320312\n"
     ]
    },
    {
     "name": "stdout",
     "output_type": "stream",
     "text": [
      "step = 3000: loss = 31.31725311279297\n"
     ]
    },
    {
     "name": "stdout",
     "output_type": "stream",
     "text": [
      "step = 3000: Average Return = 71.5999984741211\n"
     ]
    },
    {
     "name": "stdout",
     "output_type": "stream",
     "text": [
      "step = 3200: loss = 70.2099838256836\n"
     ]
    },
    {
     "name": "stdout",
     "output_type": "stream",
     "text": [
      "step = 3400: loss = 36.99456024169922\n"
     ]
    },
    {
     "name": "stdout",
     "output_type": "stream",
     "text": [
      "step = 3600: loss = 81.84960174560547\n"
     ]
    },
    {
     "name": "stdout",
     "output_type": "stream",
     "text": [
      "step = 3800: loss = 11.886451721191406\n"
     ]
    },
    {
     "name": "stdout",
     "output_type": "stream",
     "text": [
      "step = 4000: loss = 61.64696502685547\n"
     ]
    },
    {
     "name": "stdout",
     "output_type": "stream",
     "text": [
      "step = 4000: Average Return = 77.5\n"
     ]
    },
    {
     "name": "stdout",
     "output_type": "stream",
     "text": [
      "step = 4200: loss = 136.42454528808594\n"
     ]
    },
    {
     "name": "stdout",
     "output_type": "stream",
     "text": [
      "step = 4400: loss = 29.255739212036133\n"
     ]
    },
    {
     "name": "stdout",
     "output_type": "stream",
     "text": [
      "step = 4600: loss = 54.0104866027832\n"
     ]
    },
    {
     "name": "stdout",
     "output_type": "stream",
     "text": [
      "step = 4800: loss = 85.774658203125\n"
     ]
    },
    {
     "name": "stdout",
     "output_type": "stream",
     "text": [
      "step = 5000: loss = 26.761260986328125\n"
     ]
    },
    {
     "name": "stdout",
     "output_type": "stream",
     "text": [
      "step = 5000: Average Return = 77.9000015258789\n"
     ]
    },
    {
     "name": "stdout",
     "output_type": "stream",
     "text": [
      "step = 5200: loss = 107.18711853027344\n"
     ]
    },
    {
     "name": "stdout",
     "output_type": "stream",
     "text": [
      "step = 5400: loss = 6.381505966186523\n"
     ]
    },
    {
     "name": "stdout",
     "output_type": "stream",
     "text": [
      "step = 5600: loss = 169.08416748046875\n"
     ]
    },
    {
     "name": "stdout",
     "output_type": "stream",
     "text": [
      "step = 5800: loss = 74.54991149902344\n"
     ]
    },
    {
     "name": "stdout",
     "output_type": "stream",
     "text": [
      "step = 6000: loss = 50.94526672363281\n"
     ]
    },
    {
     "name": "stdout",
     "output_type": "stream",
     "text": [
      "step = 6000: Average Return = 134.6999969482422\n"
     ]
    },
    {
     "name": "stdout",
     "output_type": "stream",
     "text": [
      "step = 6200: loss = 51.49197769165039\n"
     ]
    },
    {
     "name": "stdout",
     "output_type": "stream",
     "text": [
      "step = 6400: loss = 68.89533233642578\n"
     ]
    },
    {
     "name": "stdout",
     "output_type": "stream",
     "text": [
      "step = 6600: loss = 27.226318359375\n"
     ]
    },
    {
     "name": "stdout",
     "output_type": "stream",
     "text": [
      "step = 6800: loss = 223.42626953125\n"
     ]
    },
    {
     "name": "stdout",
     "output_type": "stream",
     "text": [
      "step = 7000: loss = 37.327491760253906\n"
     ]
    },
    {
     "name": "stdout",
     "output_type": "stream",
     "text": [
      "step = 7000: Average Return = 118.69999694824219\n"
     ]
    },
    {
     "name": "stdout",
     "output_type": "stream",
     "text": [
      "step = 7200: loss = 32.78984832763672\n"
     ]
    },
    {
     "name": "stdout",
     "output_type": "stream",
     "text": [
      "step = 7400: loss = 15.472600936889648\n"
     ]
    },
    {
     "name": "stdout",
     "output_type": "stream",
     "text": [
      "step = 7600: loss = 203.68399047851562\n"
     ]
    },
    {
     "name": "stdout",
     "output_type": "stream",
     "text": [
      "step = 7800: loss = 201.47879028320312\n"
     ]
    },
    {
     "name": "stdout",
     "output_type": "stream",
     "text": [
      "step = 8000: loss = 77.28562927246094\n"
     ]
    },
    {
     "name": "stdout",
     "output_type": "stream",
     "text": [
      "step = 8000: Average Return = 178.39999389648438\n"
     ]
    },
    {
     "name": "stdout",
     "output_type": "stream",
     "text": [
      "step = 8200: loss = 159.42361450195312\n"
     ]
    },
    {
     "name": "stdout",
     "output_type": "stream",
     "text": [
      "step = 8400: loss = 119.39494323730469\n"
     ]
    },
    {
     "name": "stdout",
     "output_type": "stream",
     "text": [
      "step = 8600: loss = 99.69429779052734\n"
     ]
    },
    {
     "name": "stdout",
     "output_type": "stream",
     "text": [
      "step = 8800: loss = 407.2831115722656\n"
     ]
    },
    {
     "name": "stdout",
     "output_type": "stream",
     "text": [
      "step = 9000: loss = 338.8082275390625\n"
     ]
    },
    {
     "name": "stdout",
     "output_type": "stream",
     "text": [
      "step = 9000: Average Return = 198.60000610351562\n"
     ]
    },
    {
     "name": "stdout",
     "output_type": "stream",
     "text": [
      "step = 9200: loss = 194.360107421875\n"
     ]
    },
    {
     "name": "stdout",
     "output_type": "stream",
     "text": [
      "step = 9400: loss = 305.8352355957031\n"
     ]
    },
    {
     "name": "stdout",
     "output_type": "stream",
     "text": [
      "step = 9600: loss = 59.958229064941406\n"
     ]
    },
    {
     "name": "stdout",
     "output_type": "stream",
     "text": [
      "step = 9800: loss = 342.77154541015625\n"
     ]
    },
    {
     "name": "stdout",
     "output_type": "stream",
     "text": [
      "step = 10000: loss = 596.0716552734375\n"
     ]
    },
    {
     "name": "stdout",
     "output_type": "stream",
     "text": [
      "step = 10000: Average Return = 194.10000610351562\n"
     ]
    },
    {
     "name": "stdout",
     "output_type": "stream",
     "text": [
      "step = 10200: loss = 16.007827758789062\n"
     ]
    },
    {
     "name": "stdout",
     "output_type": "stream",
     "text": [
      "step = 10400: loss = 154.28445434570312\n"
     ]
    },
    {
     "name": "stdout",
     "output_type": "stream",
     "text": [
      "step = 10600: loss = 15.910346984863281\n"
     ]
    },
    {
     "name": "stdout",
     "output_type": "stream",
     "text": [
      "step = 10800: loss = 577.1912231445312\n"
     ]
    },
    {
     "name": "stdout",
     "output_type": "stream",
     "text": [
      "step = 11000: loss = 197.8243408203125\n"
     ]
    },
    {
     "name": "stdout",
     "output_type": "stream",
     "text": [
      "step = 11000: Average Return = 200.0\n"
     ]
    },
    {
     "name": "stdout",
     "output_type": "stream",
     "text": [
      "step = 11200: loss = 20.139629364013672\n"
     ]
    },
    {
     "name": "stdout",
     "output_type": "stream",
     "text": [
      "step = 11400: loss = 25.645511627197266\n"
     ]
    },
    {
     "name": "stdout",
     "output_type": "stream",
     "text": [
      "step = 11600: loss = 191.56675720214844\n"
     ]
    },
    {
     "name": "stdout",
     "output_type": "stream",
     "text": [
      "step = 11800: loss = 21.217174530029297\n"
     ]
    },
    {
     "name": "stdout",
     "output_type": "stream",
     "text": [
      "step = 12000: loss = 309.4866638183594\n"
     ]
    },
    {
     "name": "stdout",
     "output_type": "stream",
     "text": [
      "step = 12000: Average Return = 200.0\n"
     ]
    },
    {
     "name": "stdout",
     "output_type": "stream",
     "text": [
      "step = 12200: loss = 248.66571044921875\n"
     ]
    },
    {
     "name": "stdout",
     "output_type": "stream",
     "text": [
      "step = 12400: loss = 581.8751220703125\n"
     ]
    },
    {
     "name": "stdout",
     "output_type": "stream",
     "text": [
      "step = 12600: loss = 783.230712890625\n"
     ]
    },
    {
     "name": "stdout",
     "output_type": "stream",
     "text": [
      "step = 12800: loss = 259.24554443359375\n"
     ]
    },
    {
     "name": "stdout",
     "output_type": "stream",
     "text": [
      "step = 13000: loss = 668.2537841796875\n"
     ]
    },
    {
     "name": "stdout",
     "output_type": "stream",
     "text": [
      "step = 13000: Average Return = 200.0\n"
     ]
    },
    {
     "name": "stdout",
     "output_type": "stream",
     "text": [
      "step = 13200: loss = 450.5958557128906\n"
     ]
    },
    {
     "name": "stdout",
     "output_type": "stream",
     "text": [
      "step = 13400: loss = 477.6687927246094\n"
     ]
    },
    {
     "name": "stdout",
     "output_type": "stream",
     "text": [
      "step = 13600: loss = 507.8236389160156\n"
     ]
    },
    {
     "name": "stdout",
     "output_type": "stream",
     "text": [
      "step = 13800: loss = 1413.079833984375\n"
     ]
    },
    {
     "name": "stdout",
     "output_type": "stream",
     "text": [
      "step = 14000: loss = 267.378662109375\n"
     ]
    },
    {
     "name": "stdout",
     "output_type": "stream",
     "text": [
      "step = 14000: Average Return = 199.0\n"
     ]
    },
    {
     "name": "stdout",
     "output_type": "stream",
     "text": [
      "step = 14200: loss = 39.327117919921875\n"
     ]
    },
    {
     "name": "stdout",
     "output_type": "stream",
     "text": [
      "step = 14400: loss = 1679.4249267578125\n"
     ]
    },
    {
     "name": "stdout",
     "output_type": "stream",
     "text": [
      "step = 14600: loss = 37.44207000732422\n"
     ]
    },
    {
     "name": "stdout",
     "output_type": "stream",
     "text": [
      "step = 14800: loss = 70.47071075439453\n"
     ]
    },
    {
     "name": "stdout",
     "output_type": "stream",
     "text": [
      "step = 15000: loss = 29.146305084228516\n"
     ]
    },
    {
     "name": "stdout",
     "output_type": "stream",
     "text": [
      "step = 15000: Average Return = 200.0\n"
     ]
    },
    {
     "name": "stdout",
     "output_type": "stream",
     "text": [
      "step = 15200: loss = 23.64971923828125\n"
     ]
    },
    {
     "name": "stdout",
     "output_type": "stream",
     "text": [
      "step = 15400: loss = 37.06902313232422\n"
     ]
    },
    {
     "name": "stdout",
     "output_type": "stream",
     "text": [
      "step = 15600: loss = 61.15703582763672\n"
     ]
    },
    {
     "name": "stdout",
     "output_type": "stream",
     "text": [
      "step = 15800: loss = 52.32779312133789\n"
     ]
    },
    {
     "name": "stdout",
     "output_type": "stream",
     "text": [
      "step = 16000: loss = 1132.172119140625\n"
     ]
    },
    {
     "name": "stdout",
     "output_type": "stream",
     "text": [
      "step = 16000: Average Return = 200.0\n"
     ]
    },
    {
     "name": "stdout",
     "output_type": "stream",
     "text": [
      "step = 16200: loss = 75.35420227050781\n"
     ]
    },
    {
     "name": "stdout",
     "output_type": "stream",
     "text": [
      "step = 16400: loss = 61.783302307128906\n"
     ]
    },
    {
     "name": "stdout",
     "output_type": "stream",
     "text": [
      "step = 16600: loss = 1177.4437255859375\n"
     ]
    },
    {
     "name": "stdout",
     "output_type": "stream",
     "text": [
      "step = 16800: loss = 60.699729919433594\n"
     ]
    },
    {
     "name": "stdout",
     "output_type": "stream",
     "text": [
      "step = 17000: loss = 79.699951171875\n"
     ]
    },
    {
     "name": "stdout",
     "output_type": "stream",
     "text": [
      "step = 17000: Average Return = 200.0\n"
     ]
    },
    {
     "name": "stdout",
     "output_type": "stream",
     "text": [
      "step = 17200: loss = 1062.2568359375\n"
     ]
    },
    {
     "name": "stdout",
     "output_type": "stream",
     "text": [
      "step = 17400: loss = 953.3456420898438\n"
     ]
    },
    {
     "name": "stdout",
     "output_type": "stream",
     "text": [
      "step = 17600: loss = 41.14030456542969\n"
     ]
    },
    {
     "name": "stdout",
     "output_type": "stream",
     "text": [
      "step = 17800: loss = 54.06980514526367\n"
     ]
    },
    {
     "name": "stdout",
     "output_type": "stream",
     "text": [
      "step = 18000: loss = 83.62663269042969\n"
     ]
    },
    {
     "name": "stdout",
     "output_type": "stream",
     "text": [
      "step = 18000: Average Return = 200.0\n"
     ]
    },
    {
     "name": "stdout",
     "output_type": "stream",
     "text": [
      "step = 18200: loss = 43.177433013916016\n"
     ]
    },
    {
     "name": "stdout",
     "output_type": "stream",
     "text": [
      "step = 18400: loss = 56.276458740234375\n"
     ]
    },
    {
     "name": "stdout",
     "output_type": "stream",
     "text": [
      "step = 18600: loss = 72.49714660644531\n"
     ]
    },
    {
     "name": "stdout",
     "output_type": "stream",
     "text": [
      "step = 18800: loss = 973.2488403320312\n"
     ]
    },
    {
     "name": "stdout",
     "output_type": "stream",
     "text": [
      "step = 19000: loss = 78.27286529541016\n"
     ]
    },
    {
     "name": "stdout",
     "output_type": "stream",
     "text": [
      "step = 19000: Average Return = 200.0\n"
     ]
    },
    {
     "name": "stdout",
     "output_type": "stream",
     "text": [
      "step = 19200: loss = 54.23822021484375\n"
     ]
    },
    {
     "name": "stdout",
     "output_type": "stream",
     "text": [
      "step = 19400: loss = 458.31036376953125\n"
     ]
    },
    {
     "name": "stdout",
     "output_type": "stream",
     "text": [
      "step = 19600: loss = 43.07231140136719\n"
     ]
    },
    {
     "name": "stdout",
     "output_type": "stream",
     "text": [
      "step = 19800: loss = 518.489990234375\n"
     ]
    },
    {
     "name": "stdout",
     "output_type": "stream",
     "text": [
      "step = 20000: loss = 75.92179107666016\n"
     ]
    },
    {
     "name": "stdout",
     "output_type": "stream",
     "text": [
      "step = 20000: Average Return = 200.0\n"
     ]
    }
   ],
   "source": [
    "#@test {\"skip\": true}\n",
    "#%%time\n",
    "\n",
    "# (Optional) Optimize by wrapping some of the code in a graph using TF function.\n",
    "tf_agent.train = common.function(tf_agent.train)\n",
    "\n",
    "# Reset the train step\n",
    "tf_agent.train_step_counter.assign(0)\n",
    "\n",
    "# Evaluate the agent's policy once before training.\n",
    "avg_return = compute_avg_return(eval_env, tf_agent.policy, num_eval_episodes)\n",
    "returns = [avg_return]\n",
    "\n",
    "for _ in range(num_iterations):\n",
    "\n",
    "  # Collect one step using collect_policy and save to the replay buffer.\n",
    "  collect_step(train_env, tf_agent.collect_policy)\n",
    "\n",
    "  # Sample a batch of data from the buffer and update the agent's network.\n",
    "  experience, unused_info = next(iterator)\n",
    "  train_loss = tf_agent.train(experience)\n",
    "\n",
    "  step = tf_agent.train_step_counter.numpy()\n",
    "\n",
    "  if step % log_interval == 0:\n",
    "    print('step = {0}: loss = {1}'.format(step, train_loss.loss))\n",
    "\n",
    "  if step % eval_interval == 0:\n",
    "    avg_return = compute_avg_return(eval_env, tf_agent.policy, num_eval_episodes)\n",
    "    print('step = {0}: Average Return = {1}'.format(step, avg_return))\n",
    "    returns.append(avg_return)"
   ]
  },
  {
   "cell_type": "code",
   "execution_count": 22,
   "metadata": {},
   "outputs": [
    {
     "data": {
      "text/plain": [
       "(2.705000400543213, 250)"
      ]
     },
     "execution_count": 22,
     "metadata": {},
     "output_type": "execute_result"
    },
    {
     "data": {
      "image/png": "[encoded data removed]",
      "text/plain": [
       "<Figure size 432x288 with 1 Axes>"
      ]
     },
     "metadata": {},
     "output_type": "display_data"
    }
   ],
   "source": [
    "\n",
    "#@test {\"skip\": true}\n",
    "\n",
    "steps = range(0, num_iterations + 1, eval_interval)\n",
    "plt.plot(steps, returns)\n",
    "plt.ylabel('Average Return')\n",
    "plt.xlabel('Step')\n",
    "plt.ylim(top=250)"
   ]
  },
  {
   "cell_type": "code",
   "execution_count": 23,
   "metadata": {},
   "outputs": [],
   "source": [
    "\n",
    "def embed_mp4(filename):\n",
    "  \"\"\"Embeds an mp4 file in the notebook.\"\"\"\n",
    "  video = open(filename,'rb').read()\n",
    "  b64 = base64.b64encode(video)\n",
    "  tag = '''\n",
    "  <video width=\"640\" height=\"480\" controls>\n",
    "    <source src=\"data:video/mp4;base64,{0}\" type=\"video/mp4\">\n",
    "  Your browser does not support the video tag.\n",
    "  </video>'''.format(b64.decode())\n",
    "\n",
    "  return IPython.display.HTML(tag)"
   ]
  },
  {
   "cell_type": "code",
   "execution_count": 24,
   "metadata": {},
   "outputs": [
    {
     "name": "stderr",
     "output_type": "stream",
     "text": [
      "WARNING: Logging before flag parsing goes to stderr.\nW0312 19:00:29.283687 140098531624704 _io.py:352] IMAGEIO FFMPEG_WRITER WARNING: input image is not divisible by macro_block_size=16, resizing from (600, 400) to (608, 400) to ensure video compatibility with most codecs and players. To prevent resizing, make your input image divisible by the macro_block_size or set the macro_block_size to 1 (risking incompatibility).\n"
     ]
    },
    {
     "data": {
      "text/html": [
       "\n",
       "  <video width=\"640\" height=\"480\" controls>\n",
       "    <source src=\"data:video/mp4;base64,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\" type=\"video/mp4\">\n",
       "  Your browser does not support the video tag.\n",
       "  </video>"
      ],
      "text/plain": [
       "\n",
       "  <video width=\"640\" height=\"480\" controls>\n",
       "    <source src=\"data:video/mp4;base64,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\" type=\"video/mp4\">\n",
       "  Your browser does not support the video tag.\n",
       "  </video>"
      ]
     },
     "execution_count": 24,
     "metadata": {},
     "output_type": "execute_result"
    }
   ],
   "source": [
    "num_episodes = 3\n",
    "video_filename = 'imageio.mp4'\n",
    "with imageio.get_writer(video_filename, fps=60) as video:\n",
    "  for _ in range(num_episodes):\n",
    "    time_step = eval_env.reset()\n",
    "    video.append_data(eval_py_env.render())\n",
    "    while not time_step.is_last():\n",
    "      action_step = tf_agent.policy.action(time_step)\n",
    "      time_step = eval_env.step(action_step.action)\n",
    "      video.append_data(eval_py_env.render())\n",
    "\n",
    "embed_mp4(video_filename)"
   ]
  },
  {
   "cell_type": "code",
   "execution_count": null,
   "metadata": {},
   "outputs": [],
   "source": [
    ""
   ]
  }
 ],
 "metadata": {
  "kernelspec": {
   "display_name": "Python 2",
   "language": "python",
   "name": "python2"
  },
  "language_info": {
   "codemirror_mode": {
    "name": "ipython",
    "version": 2
   },
   "file_extension": ".py",
   "mimetype": "text/x-python",
   "name": "python",
   "nbconvert_exporter": "python",
   "pygments_lexer": "ipython2",
   "version": "2.7.6"
  }
 },
 "nbformat": 4,
 "nbformat_minor": 0
}
